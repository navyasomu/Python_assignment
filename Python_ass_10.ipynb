{
 "cells": [
  {
   "cell_type": "markdown",
   "id": "c3aa2ca8",
   "metadata": {},
   "source": [
    "1.What is the role of try and exception block?\n",
    "\n",
    "Answer:\n",
    "\n",
    "The 'try-except' block in Python is used to handle exceptions or errors that might occur during program execution. It allows you to protect specific code from causing the program to crash and provides a controlled way to respond to exceptions, ensuring that the program continues running smoothly even when errors occur. The try block contains the code that might raise an exception, while the except block specifies how to handle the exception if it occurs."
   ]
  },
  {
   "cell_type": "markdown",
   "id": "2320a27a",
   "metadata": {},
   "source": [
    "--------------------------------------------------------------------------------------------------------------------------------"
   ]
  },
  {
   "cell_type": "markdown",
   "id": "5a0772eb",
   "metadata": {},
   "source": [
    "2.What is the syntax for a basic try-except block?\n",
    "\n",
    "Answer:"
   ]
  },
  {
   "cell_type": "code",
   "execution_count": null,
   "id": "60c9a74e",
   "metadata": {},
   "outputs": [],
   "source": [
    "try:\n",
    "    # Code that may raise an exception\n",
    "except ExceptionType:\n",
    "    # Code to handle the exception"
   ]
  },
  {
   "cell_type": "markdown",
   "id": "fd1ed003",
   "metadata": {},
   "source": [
    "The try block contains the code that might raise an exception, and the except block specifies how to handle the exception if it occurs, based on the specified ExceptionType or any of its subclasses."
   ]
  },
  {
   "cell_type": "markdown",
   "id": "5c81ecad",
   "metadata": {},
   "source": [
    "--------------------------------------------------------------------------------------------------------------------------------"
   ]
  },
  {
   "cell_type": "markdown",
   "id": "48eab3a3",
   "metadata": {},
   "source": [
    "3.What happens if an exception occurs inside a try block and there is no matching except block?\n",
    "\n",
    "Answer:\n",
    "\n",
    "If an exception occurs inside a try block and there is no matching except block to handle that specific type of exception, the program will terminate abruptly, and an error message will be displayed. This is because the exception remains unhandled, and the program doesn't know how to proceed, resulting in an uncaught exception and program termination."
   ]
  },
  {
   "cell_type": "markdown",
   "id": "257055b2",
   "metadata": {},
   "source": [
    "--------------------------------------------------------------------------------------------------------------------------------"
   ]
  },
  {
   "cell_type": "markdown",
   "id": "09d10dd2",
   "metadata": {},
   "source": [
    "4.What is the difference between using a bare except block and specifying a specific exception type?\n",
    "\n",
    "Answer:\n",
    "\n",
    "--> Bare except block:\n",
    "\n",
    "Syntax: except:\n",
    "\n",
    "It catches all types of exceptions, including built-in exceptions and user-defined exceptions.\n",
    "This can make it difficult to pinpoint the cause of an error and can lead to unintended behavior if not handled properly.\n",
    "Generally, it's considered bad practice to use a bare except block because it can hide errors and make debugging challenging.\n",
    "\n",
    "--> Specifying a specific exception type:\n",
    "\n",
    "Syntax: except ExceptionType:\n",
    "\n",
    "It catches only the specified type of exception and its subclasses, providing more control over exception handling.\n",
    "This allows you to handle different exceptions differently, providing more accurate error handling and specific responses.\n",
    "It is generally preferred to use specific exception types to handle errors effectively and maintain code clarity."
   ]
  },
  {
   "cell_type": "markdown",
   "id": "cdeb4715",
   "metadata": {},
   "source": [
    "--------------------------------------------------------------------------------------------------------------------------------"
   ]
  },
  {
   "cell_type": "markdown",
   "id": "764dd258",
   "metadata": {},
   "source": [
    "5.Can you have nested try-except blocks in Python? If yes, then give an example.\n",
    "\n",
    "Answer:\n",
    "\n",
    "Yes, you can have nested try-except blocks in Python. Nested try-except blocks allow you to handle different types of exceptions at different levels of the code, providing more detailed and precise error handling."
   ]
  },
  {
   "cell_type": "code",
   "execution_count": null,
   "id": "096e249f",
   "metadata": {},
   "outputs": [],
   "source": [
    "try:\n",
    "    outer_operation()\n",
    "    try:\n",
    "        inner_operation()\n",
    "    except InnerExceptionType:\n",
    "        # Handle inner exception\n",
    "except OuterExceptionType:\n",
    "    # Handle outer exception"
   ]
  },
  {
   "cell_type": "markdown",
   "id": "4cdeda6d",
   "metadata": {},
   "source": [
    "In this example, if an exception occurs inside the inner_operation(), the inner except block will catch and handle the InnerExceptionType while allowing the outer try-except block to continue executing. If an exception occurs inside the outer_operation(), the outer except block will handle the OuterExceptionType. Nested try-except blocks provide more control over exception handling in different parts of the code."
   ]
  },
  {
   "cell_type": "markdown",
   "id": "38fbd931",
   "metadata": {},
   "source": [
    "--------------------------------------------------------------------------------------------------------------------------------"
   ]
  },
  {
   "cell_type": "markdown",
   "id": "c9c5ca12",
   "metadata": {},
   "source": [
    "6.Can we use multiple exception blocks, if yes then give an example.\n",
    "\n",
    "Answer:\n",
    "\n",
    "Yes, we can use multiple except blocks in a try-except statement to handle different types of exceptions separately. This allows you to specify different actions to take based on the specific type of exception that occurs. Here's an example of using multiple except blocks:"
   ]
  },
  {
   "cell_type": "code",
   "execution_count": null,
   "id": "a8742aff",
   "metadata": {},
   "outputs": [],
   "source": [
    "try:\n",
    "    num1 = int(input(\"Enter a number: \"))\n",
    "    num2 = int(input(\"Enter another number: \"))\n",
    "    result = num1 / num2\n",
    "    print(\"Result:\", result)\n",
    "except ValueError:\n",
    "    print(\"Invalid input. Please enter valid integers.\")\n",
    "except ZeroDivisionError:\n",
    "    print(\"Error: Cannot divide by zero.\")"
   ]
  },
  {
   "cell_type": "markdown",
   "id": "717d4b3b",
   "metadata": {},
   "source": [
    "--------------------------------------------------------------------------------------------------------------------------------"
   ]
  },
  {
   "cell_type": "markdown",
   "id": "d29475d6",
   "metadata": {},
   "source": [
    "7.Write the reason due to which following errors are raised:\n",
    "\n",
    "a. EOFError\n",
    "\n",
    "b. FloatingPointError\n",
    "\n",
    "c. IndexError\n",
    "\n",
    "d. MemoryError\n",
    "\n",
    "e. OverflowError\n",
    "\n",
    "f. TabError\n",
    "\n",
    "g. ValueError\n",
    "\n",
    "Answer:\n",
    "\n",
    "a. EOFError: This error is raised when the input() function reaches the end of the file (EOF) and no more input is available. It typically occurs when the user tries to input data, but the input stream is closed or empty.\n",
    "\n",
    "b. FloatingPointError: This error is raised when a floating-point operation fails to execute correctly. For example, it can occur when trying to perform an invalid mathematical operation like division by zero or taking the square root of a negative number.\n",
    "\n",
    "c. IndexError: This error is raised when you try to access an index of a sequence (e.g., a list or string) that is outside the valid range of indices. It typically occurs when attempting to access an element at an index that does not exist in the sequence.\n",
    "\n",
    "d. MemoryError: This error is raised when an operation runs out of memory or fails to allocate enough memory for its execution. It occurs when the system cannot allocate the required memory space for a particular operation.\n",
    "\n",
    "e. OverflowError: This error is raised when the result of an arithmetic operation exceeds the maximum representable value for a numeric type in Python. For example, it can occur when performing calculations that produce a value larger than what the system can handle.\n",
    "\n",
    "f. TabError: This error is raised when there is an issue with the indentation of code due to inconsistent use of tabs and spaces. Python expects consistent indentation to define code blocks, and a mix of tabs and spaces can lead to this error.\n",
    "\n",
    "g. ValueError: This error is raised when an operation or function receives an argument of the correct type but an inappropriate value. For example, it can occur when trying to convert a string to an integer if the string contains non-numeric characters."
   ]
  },
  {
   "cell_type": "markdown",
   "id": "52239193",
   "metadata": {},
   "source": [
    "--------------------------------------------------------------------------------------------------------------------------------"
   ]
  },
  {
   "cell_type": "markdown",
   "id": "b96d8103",
   "metadata": {},
   "source": [
    "8.Write code for the following given scenario and add try-exception block to it.\n",
    "\n",
    "a. Program to divide two numbers\n",
    "\n",
    "b. Program to convert a string to an integer\n",
    "\n",
    "c. Program to access an element in a list\n",
    "\n",
    "d. Program to handle a specific exception\n",
    "\n",
    "e. Program to handle any exception\n",
    "\n",
    "Answer:"
   ]
  },
  {
   "cell_type": "code",
   "execution_count": 1,
   "id": "abaa1b56",
   "metadata": {},
   "outputs": [
    {
     "name": "stdout",
     "output_type": "stream",
     "text": [
      "enter a num1:9\n",
      "enter a num2:0\n",
      "cant divide a number by zero try another num\n",
      "None\n"
     ]
    }
   ],
   "source": [
    "# a.Program to divide two numbers\n",
    "\n",
    "def div_num(num1,num2):\n",
    "    try:\n",
    "        res = num1/num2\n",
    "        return res\n",
    "    except ZeroDivisionError:\n",
    "        print('cant divide a number by zero try another num')\n",
    "try:\n",
    "    num1 =float(input(\"enter a num1:\"))\n",
    "    num2 = float(input('enter a num2:'))\n",
    "    res =div_num(num1,num2)\n",
    "    print(res)\n",
    "except ValueError:\n",
    "    print(\"give a valid input\")"
   ]
  },
  {
   "cell_type": "code",
   "execution_count": 2,
   "id": "ddb65de1",
   "metadata": {},
   "outputs": [
    {
     "name": "stdout",
     "output_type": "stream",
     "text": [
      "Enter a number: '909'\n",
      "Converted Integer: 909\n"
     ]
    }
   ],
   "source": [
    "# b. Program to convert a string to an integer\n",
    "\n",
    "def convert_str_int(string_num):\n",
    "    try:\n",
    "        string_num = string_num.strip(\"'\\\"\")\n",
    "        int_value = int(string_num)\n",
    "        return int_value\n",
    "    except ValueError:\n",
    "        return None\n",
    "\n",
    "# Input from the user\n",
    "string_input = input('Enter a number: ')\n",
    "\n",
    "# Call the function to convert the string to an integer\n",
    "result = convert_str_int(string_input)\n",
    "\n",
    "# Output the result\n",
    "if result is not None:\n",
    "    print(\"Converted Integer:\", result)\n",
    "else:\n",
    "    print(\"Error: Invalid input. Please enter a valid integer string.\")"
   ]
  },
  {
   "cell_type": "code",
   "execution_count": 3,
   "id": "658bd15c",
   "metadata": {},
   "outputs": [
    {
     "name": "stdout",
     "output_type": "stream",
     "text": [
      "enter a number to access a element in list:4\n",
      "index out of range\n"
     ]
    }
   ],
   "source": [
    "# c. Program to access an element in a list\n",
    "\n",
    "def access_list_element(input_list,index):\n",
    "    try:\n",
    "        element = input_list[index]\n",
    "        return element\n",
    "    except IndexError:\n",
    "        return None\n",
    "my_list = [10,3,4,90]\n",
    "try:\n",
    "    index = int(input(\"enter a number to access a element in list:\"))\n",
    "    result = access_list_element(my_list,index)\n",
    "    \n",
    "    if result is not None:\n",
    "        print(result)\n",
    "    else:\n",
    "        print('index out of range')\n",
    "except ValueError:\n",
    "    print('give a valid input')\n",
    "    "
   ]
  },
  {
   "cell_type": "code",
   "execution_count": 4,
   "id": "afc93422",
   "metadata": {},
   "outputs": [
    {
     "name": "stdout",
     "output_type": "stream",
     "text": [
      "enter a file name to read:k\n",
      "file 'k'not fount\n"
     ]
    }
   ],
   "source": [
    "# d. Program to handle a specific exception\n",
    "\n",
    "def read_file(filename):\n",
    "    try:\n",
    "        with open(filename,'r') as file:\n",
    "            content = file.read()\n",
    "        return content\n",
    "    except FileNotFoundError:\n",
    "        return None\n",
    "file_name =input('enter a file name to read:')\n",
    "res = read_file(file_name)\n",
    "\n",
    "if res is not None:\n",
    "    print(\"res\")\n",
    "else:\n",
    "    print(f\"file '{file_name}'not fount\")"
   ]
  },
  {
   "cell_type": "code",
   "execution_count": 5,
   "id": "bc1f519e",
   "metadata": {},
   "outputs": [
    {
     "name": "stdout",
     "output_type": "stream",
     "text": [
      "Enter the first number: 9\n",
      "Enter the second number: 0\n",
      "An error occurred: float division by zero\n",
      "Error: Cannot perform the division.\n"
     ]
    }
   ],
   "source": [
    "# e. Program to handle any exception\n",
    "\n",
    "def divide_numbers(num1, num2):\n",
    "    try:\n",
    "        result = num1 / num2\n",
    "        return result\n",
    "    except Exception as e:\n",
    "        print(\"An error occurred:\", e)\n",
    "        return None\n",
    "\n",
    "# Input from the user\n",
    "try:\n",
    "    num1 = float(input(\"Enter the first number: \"))\n",
    "    num2 = float(input(\"Enter the second number: \"))\n",
    "\n",
    "    # Call the function to divide the numbers\n",
    "    result = divide_numbers(num1, num2)\n",
    "\n",
    "    if result is not None:\n",
    "        print(\"Result:\", result)\n",
    "    else:\n",
    "        print(\"Error: Cannot perform the division.\")\n",
    "except Exception as e:\n",
    "    print(\"An unexpected error occurred:\", e)"
   ]
  }
 ],
 "metadata": {
  "kernelspec": {
   "display_name": "Python 3 (ipykernel)",
   "language": "python",
   "name": "python3"
  },
  "language_info": {
   "codemirror_mode": {
    "name": "ipython",
    "version": 3
   },
   "file_extension": ".py",
   "mimetype": "text/x-python",
   "name": "python",
   "nbconvert_exporter": "python",
   "pygments_lexer": "ipython3",
   "version": "3.10.9"
  }
 },
 "nbformat": 4,
 "nbformat_minor": 5
}
