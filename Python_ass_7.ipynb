{
 "cells": [
  {
   "cell_type": "markdown",
   "id": "5ffbc546",
   "metadata": {},
   "source": [
    "Q.1. Create two int type variables, apply addition, subtraction, division and multiplications and store the results in variables. Then print the data in the following format by calling the variables:\n",
    "\n",
    "First variable is __ & second variable is __.\n",
    "\n",
    "Addition: __ + __ = __\n",
    "\n",
    "Subtraction: __ - __ = __\n",
    "\n",
    "Multiplication: __ * __ = __\n",
    "\n",
    "Division: __ / __ = __\n",
    "\n",
    "Answer:\n",
    "\n",
    "First variable is _a_ & second variable is _b_."
   ]
  },
  {
   "cell_type": "code",
   "execution_count": 1,
   "id": "1717b5cb",
   "metadata": {},
   "outputs": [
    {
     "name": "stdout",
     "output_type": "stream",
     "text": [
      "27\n",
      "-3\n",
      "180\n",
      "0.8\n"
     ]
    }
   ],
   "source": [
    "a = 12\n",
    "b = 15\n",
    "\n",
    "print(a+b)       # Addition\n",
    "print(a-b)       # Subtraction\n",
    "print(a*b)       # Multiplication\n",
    "print(a/b)       # Division"
   ]
  },
  {
   "cell_type": "markdown",
   "id": "ab70b4ed",
   "metadata": {},
   "source": [
    "--------------------------------------------------------------------------------------------------------------------------------"
   ]
  },
  {
   "cell_type": "markdown",
   "id": "44dc55bc",
   "metadata": {},
   "source": [
    "Q.2. What is the difference between the following operators:\n",
    "\n",
    "(i) ‘/’ & ‘//’\n",
    "\n",
    "(ii) ‘**’ & ‘^’\n",
    "\n",
    "Answer:"
   ]
  },
  {
   "cell_type": "markdown",
   "id": "0a303ad0",
   "metadata": {},
   "source": [
    "(i) Difference between '/' and '//':\n",
    "\n",
    "The '/' operator is used for regular division and returns the result as a floating-point number.\n",
    "\n",
    "The '//' operator is used for floor division and returns the result as an integer by discarding the decimal part.\n",
    "\n",
    "Here's an example to illustrate the difference:"
   ]
  },
  {
   "cell_type": "code",
   "execution_count": 2,
   "id": "238a3c2b",
   "metadata": {},
   "outputs": [
    {
     "name": "stdout",
     "output_type": "stream",
     "text": [
      "3.3333333333333335\n",
      "3\n"
     ]
    }
   ],
   "source": [
    "x = 10\n",
    "y = 3\n",
    "\n",
    "result1 = x / y\n",
    "print(result1) \n",
    "\n",
    "result2 = x // y\n",
    "print(result2)  "
   ]
  },
  {
   "cell_type": "markdown",
   "id": "78169583",
   "metadata": {},
   "source": [
    "(ii) Difference between '**' and '^':\n",
    "\n",
    "The '**' operator is used for exponentiation or raising a number to a power. It calculates the power of a number.\n",
    "\n",
    "The '^' operator, in Python, is not used for exponentiation but instead represents the bitwise XOR (exclusive OR) operator.\n",
    "\n",
    "Here's an example to illustrate the difference"
   ]
  },
  {
   "cell_type": "code",
   "execution_count": 3,
   "id": "6f362d6f",
   "metadata": {},
   "outputs": [
    {
     "name": "stdout",
     "output_type": "stream",
     "text": [
      "8\n",
      "1\n"
     ]
    }
   ],
   "source": [
    "x = 2\n",
    "y = 3\n",
    "\n",
    "result1 = x ** y\n",
    "print(result1) \n",
    "\n",
    "result2 = x ^ y\n",
    "print(result2)  "
   ]
  },
  {
   "cell_type": "markdown",
   "id": "c00f897d",
   "metadata": {},
   "source": [
    "--------------------------------------------------------------------------------------------------------------------------------"
   ]
  },
  {
   "cell_type": "markdown",
   "id": "00e3c5bb",
   "metadata": {},
   "source": [
    "Q.3. List the logical operators.\n",
    "\n",
    "Answers:\n",
    "\n",
    "--> 'and' : Returns True if both operands are True.\n",
    "\n",
    "--> 'or' : Returns True if at least one operand is True.\n",
    "\n",
    "--> 'not': Negates the boolean value of the operand.\n",
    "\n",
    "--> These operators allow you to combine and manipulate boolean values or expressions to make logical decisions in your code."
   ]
  },
  {
   "cell_type": "code",
   "execution_count": 4,
   "id": "0274e751",
   "metadata": {},
   "outputs": [
    {
     "name": "stdout",
     "output_type": "stream",
     "text": [
      "True\n",
      "False\n",
      "False\n"
     ]
    }
   ],
   "source": [
    "x = 5\n",
    "y = 10\n",
    "z = 15\n",
    "\n",
    "result1 = (x < y) and (y < z)\n",
    "print(result1) \n",
    "\n",
    "result2 = (x > y) or (y > z)\n",
    "print(result2)  \n",
    "\n",
    "result3 = not (x < y)\n",
    "print(result3)  "
   ]
  },
  {
   "cell_type": "markdown",
   "id": "53cab27c",
   "metadata": {},
   "source": [
    "--------------------------------------------------------------------------------------------------------------------------------"
   ]
  },
  {
   "cell_type": "markdown",
   "id": "4412203c",
   "metadata": {},
   "source": [
    "Q.4. Explain right shift operator and left shift operator with examples.\n",
    "\n",
    "Answer:"
   ]
  },
  {
   "cell_type": "markdown",
   "id": "348976dd",
   "metadata": {},
   "source": [
    "Right Shift (>>):\n",
    "\n",
    "-->Shifts the bits of a number towards the right.\n",
    "\n",
    "--> Each shift divides the number by 2.\n",
    "\n",
    "--> Syntax: num >> shift_count\n",
    "\n",
    "Example: num = 10, shifted_num = num >> 2 → shifted_num = "
   ]
  },
  {
   "cell_type": "code",
   "execution_count": 5,
   "id": "3663e922",
   "metadata": {},
   "outputs": [
    {
     "name": "stdout",
     "output_type": "stream",
     "text": [
      "2\n"
     ]
    }
   ],
   "source": [
    "num = 10  \n",
    "shifted_num = num >> 2  # Shifting 2 positions to the right\n",
    "print(shifted_num)  # Output: 2 (Binary representation: 0"
   ]
  },
  {
   "cell_type": "markdown",
   "id": "c70f5169",
   "metadata": {},
   "source": [
    "Left Shift (<<):\n",
    "\n",
    "--> Shifts the bits of a number towards the left.\n",
    "\n",
    "--> Each shift multiplies the number by 2.\n",
    "\n",
    "--> Syntax: num << shift_count\n",
    "\n",
    "Example: num = 5, shifted_num = num << 3 → shifted_num = 40"
   ]
  },
  {
   "cell_type": "code",
   "execution_count": 6,
   "id": "f77171c6",
   "metadata": {},
   "outputs": [
    {
     "name": "stdout",
     "output_type": "stream",
     "text": [
      "40\n"
     ]
    }
   ],
   "source": [
    "num = 5 \n",
    "shifted_num = num << 3  \n",
    "print(shifted_num)  "
   ]
  },
  {
   "cell_type": "markdown",
   "id": "4d24b0a1",
   "metadata": {},
   "source": [
    "--------------------------------------------------------------------------------------------------------------------------------"
   ]
  },
  {
   "cell_type": "markdown",
   "id": "de4282ce",
   "metadata": {},
   "source": [
    "Q.5. Create a list containing int type data of length 15. Then write a code to check if 10 is present in the list or not.\n",
    "\n",
    "Answer:"
   ]
  },
  {
   "cell_type": "code",
   "execution_count": 8,
   "id": "aec7a07f",
   "metadata": {},
   "outputs": [
    {
     "name": "stdout",
     "output_type": "stream",
     "text": [
      "10 is in list\n"
     ]
    }
   ],
   "source": [
    "my_list = [4,3,1,7,1,16,21,15,29,10,11,54,2,28,7]\n",
    "\n",
    "if 10 in my_list:\n",
    "    print('10 is in list')\n",
    "else:\n",
    "    print('10 is not in list')"
   ]
  }
 ],
 "metadata": {
  "kernelspec": {
   "display_name": "Python 3 (ipykernel)",
   "language": "python",
   "name": "python3"
  },
  "language_info": {
   "codemirror_mode": {
    "name": "ipython",
    "version": 3
   },
   "file_extension": ".py",
   "mimetype": "text/x-python",
   "name": "python",
   "nbconvert_exporter": "python",
   "pygments_lexer": "ipython3",
   "version": "3.9.7"
  }
 },
 "nbformat": 4,
 "nbformat_minor": 5
}
