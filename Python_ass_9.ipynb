{
 "cells": [
  {
   "cell_type": "markdown",
   "id": "85439d9a",
   "metadata": {},
   "source": [
    "1.What is a lambda function in Python, and how does it differ from a regular function?\n",
    "\n",
    "Answer:\n",
    "\n",
    "lambda function, also known as an anonymous function, is a small, single-line function that does not require a def statement and is defined using the lambda keyword. It is a way to create functions on the fly without assigning them a name. "
   ]
  },
  {
   "cell_type": "code",
   "execution_count": 1,
   "id": "d8c58a42",
   "metadata": {},
   "outputs": [],
   "source": [
    "addition = lambda x, y: x + y"
   ]
  },
  {
   "cell_type": "code",
   "execution_count": 2,
   "id": "e88c64c4",
   "metadata": {},
   "outputs": [
    {
     "name": "stdout",
     "output_type": "stream",
     "text": [
      "8\n"
     ]
    }
   ],
   "source": [
    "#The lambda function can then be called like a regular function\n",
    "result = addition(3, 5)\n",
    "print(result)"
   ]
  },
  {
   "cell_type": "markdown",
   "id": "d42014e0",
   "metadata": {},
   "source": [
    "--> main differences between lambda functions and regular functions in Python are:\n",
    "\n",
    "Syntax: Lambda functions use a compact syntax with the lambda keyword, while regular functions require the def statement and a function name.\n",
    "\n",
    "Function Name: Lambda functions are anonymous and are typically assigned to variables for later use, whereas regular functions have a defined name.\n",
    "\n",
    "Complexity: Lambda functions are limited to a single expression and cannot have multiple statements or complex logic. Regular functions can have multiple statements and handle more complex tasks.\n",
    "\n",
    "Return Statement: Lambda functions automatically return the result of the expression they evaluate, while regular functions require an explicit return statement to return a value.\n",
    "\n",
    "Scope: Lambda functions are limited to their own local scope and cannot access variables outside their definition, while regular functions can access variables from the enclosing scope.\n",
    "\n",
    "lambda functions are not meant to replace regular functions entirely. Regular functions offer more flexibility and are better suited for complex tasks. Lambda functions are useful for writing simple, concise functions inline, typically as arguments to higher-order functions."
   ]
  },
  {
   "cell_type": "markdown",
   "id": "01c7f15c",
   "metadata": {},
   "source": [
    "--------------------------------------------------------------------------------------------------------------------------------"
   ]
  },
  {
   "cell_type": "markdown",
   "id": "e956e2f8",
   "metadata": {},
   "source": [
    "2.Can a lambda function in Python have multiple arguments? If yes, how can you define and use them?\n",
    "\n",
    "Answer:\n",
    "\n",
    "yes, a lambda function in Python can have multiple arguments. We can define multiple arguments by separating them with commas in the lambda function definition. When calling the lambda function, provide the values for each argument in the same order."
   ]
  },
  {
   "cell_type": "code",
   "execution_count": 3,
   "id": "454f88b2",
   "metadata": {},
   "outputs": [
    {
     "name": "stdout",
     "output_type": "stream",
     "text": [
      "15\n"
     ]
    }
   ],
   "source": [
    "multiply = lambda x, y: x * y\n",
    "result = multiply(3, 5)\n",
    "print(result)\n",
    "\n",
    "#In this example, the lambda function 'multiply' takes two arguments 'x' and 'y' and returns their product 'x * y'."
   ]
  },
  {
   "cell_type": "markdown",
   "id": "952943cb",
   "metadata": {},
   "source": [
    "Lambda functions in Python can have any number of arguments, as long as you separate them with commas in the lambda function definition and provide the corresponding values when calling the function."
   ]
  },
  {
   "cell_type": "markdown",
   "id": "c9f911fd",
   "metadata": {},
   "source": [
    "--------------------------------------------------------------------------------------------------------------------------------"
   ]
  },
  {
   "cell_type": "markdown",
   "id": "65d0694a",
   "metadata": {},
   "source": [
    "3.How are lambda functions typically used in Python? Provide an example use case.\n",
    "\n",
    "Answer:\n",
    "\n",
    "lambda functions in Python are typically used when a small, anonymous function is needed for a specific task or as a parameter to other functions. They are often used to write concise and inline code."
   ]
  },
  {
   "cell_type": "code",
   "execution_count": 4,
   "id": "218096ec",
   "metadata": {},
   "outputs": [
    {
     "name": "stdout",
     "output_type": "stream",
     "text": [
      "['Bob', 'Dave', 'Alice', 'Charlie']\n"
     ]
    }
   ],
   "source": [
    "names = ['Alice', 'Bob', 'Charlie', 'Dave']\n",
    "sorted_names = sorted(names, key=lambda x: len(x))\n",
    "print(sorted_names) "
   ]
  },
  {
   "cell_type": "markdown",
   "id": "7532437b",
   "metadata": {},
   "source": [
    "In this example, the lambda function lambda x: len(x) is used as the key parameter for the sorted() function. The lambda function calculates the length of each name and provides it as the sorting key. The sorted() function then sorts the names list based on the length of each name, resulting in sorted_names.\n",
    "\n",
    "Here, the lambda function serves as a concise way to define a custom sorting criterion without the need for a separate named function.\n",
    "\n",
    "Lambda functions are commonly used in scenarios where a small, temporary function is required and defining a regular function would be overkill or less readable. They are often used with higher-order functions like map(), filter(), reduce(), or in any situation where a function is needed as a short-lived utility."
   ]
  },
  {
   "cell_type": "markdown",
   "id": "74357860",
   "metadata": {},
   "source": [
    "--------------------------------------------------------------------------------------------------------------------------------"
   ]
  },
  {
   "cell_type": "markdown",
   "id": "0425dd02",
   "metadata": {},
   "source": [
    "4.What are the advantages and limitations of lambda functions compared to regular functions in Python?\n",
    "\n",
    "Answer:\n",
    "\n",
    "--> Advantages of lambda functions compared to regular functions in Python:\n",
    "\n",
    "Concise Syntax: Lambda functions have a compact syntax, making them useful for writing simple, one-line functions without the need for a full function definition.\n",
    "\n",
    "Readability: Lambda functions can make code more readable when used appropriately and in a focused manner. They can help avoid the clutter of defining a separate function for a small, temporary task.\n",
    "\n",
    "Inline Usage: Lambda functions can be used directly in expressions or as arguments to other functions, eliminating the need to define a separate function elsewhere in the code.\n",
    "\n",
    "--> Limitations of lambda functions compared to regular functions in Python:\n",
    "\n",
    "Limited Functionality: Lambda functions are limited to a single expression and cannot contain multiple statements or complex logic. Regular functions offer more flexibility and can handle more complex tasks.\n",
    "\n",
    "Lack of Name: Lambda functions are anonymous and do not have a defined name, making it harder to refer to them or reuse them in other parts of the code.\n",
    "\n",
    "Limited Scope: Lambda functions have their own local scope and cannot access variables outside their definition. Regular functions can access variables from the enclosing scope.\n",
    "\n",
    "Reduced Readability for Complex Functions: Using lambda functions for complex tasks can reduce code readability and maintainability. Regular functions with descriptive names are generally preferred in such cases.\n",
    "\n",
    "lambda functions provide a concise and inline way to define simple functions, but they have limitations in terms of functionality, scope, and readability for complex tasks. Regular functions offer more versatility and are suitable for more complex and reusable functions."
   ]
  },
  {
   "cell_type": "markdown",
   "id": "3c4250dc",
   "metadata": {},
   "source": [
    "--------------------------------------------------------------------------------------------------------------------------------"
   ]
  },
  {
   "cell_type": "markdown",
   "id": "78bf64cc",
   "metadata": {},
   "source": [
    "5.Are lambda functions in Python able to access variables defined outside of their own scope? Explain with an example.\n",
    "\n",
    "Answer:\n",
    "\n",
    "No, lambda functions in Python cannot directly access variables defined outside of their own scope. Lambda functions have their own local scope and can only access variables passed as arguments or variables defined within the lambda function itself.\n",
    "\n",
    "However, lambda functions can indirectly access variables from the enclosing scope by capturing them as default arguments. By doing so, lambda functions \"remember\" the values of variables in the enclosing scope and can use them within the function.\n",
    "\n",
    "Lambda functions should be used with caution to avoid confusion and maintain code readability. For more complex scenarios or when needing to modify variables from the enclosing scope, it is generally better to use regular functions and pass the necessary values as arguments."
   ]
  },
  {
   "cell_type": "code",
   "execution_count": 5,
   "id": "71539e75",
   "metadata": {},
   "outputs": [
    {
     "name": "stdout",
     "output_type": "stream",
     "text": [
      "50\n"
     ]
    }
   ],
   "source": [
    "x = 10\n",
    "multiply_by_x = lambda num: num * x\n",
    "result = multiply_by_x(5)\n",
    "print(result)"
   ]
  },
  {
   "cell_type": "markdown",
   "id": "784a9acd",
   "metadata": {},
   "source": [
    "--------------------------------------------------------------------------------------------------------------------------------"
   ]
  },
  {
   "cell_type": "markdown",
   "id": "71935377",
   "metadata": {},
   "source": [
    "6.Write a lambda function to calculate the square of a given number.\n",
    "\n",
    "Answer:"
   ]
  },
  {
   "cell_type": "code",
   "execution_count": 6,
   "id": "b861ecb0",
   "metadata": {},
   "outputs": [
    {
     "name": "stdout",
     "output_type": "stream",
     "text": [
      "[4, 25, 36, 64, 81]\n"
     ]
    }
   ],
   "source": [
    "num = [2,5,6,8,9]\n",
    "sqrt_num = map(lambda x:x**2,num)\n",
    "print(list(sqrt_num))"
   ]
  },
  {
   "cell_type": "code",
   "execution_count": 7,
   "id": "6d28cb0b",
   "metadata": {},
   "outputs": [
    {
     "name": "stdout",
     "output_type": "stream",
     "text": [
      "25\n"
     ]
    }
   ],
   "source": [
    "square = lambda x: x ** 2\n",
    "result = square(5)\n",
    "print(result)"
   ]
  },
  {
   "cell_type": "markdown",
   "id": "d1d525fa",
   "metadata": {},
   "source": [
    "--------------------------------------------------------------------------------------------------------------------------------"
   ]
  },
  {
   "cell_type": "markdown",
   "id": "181d2b39",
   "metadata": {},
   "source": [
    "7.Create a lambda function to find the maximum value in a list of integers.\n",
    "\n",
    "Answer:"
   ]
  },
  {
   "cell_type": "code",
   "execution_count": 8,
   "id": "e73ab847",
   "metadata": {},
   "outputs": [
    {
     "name": "stdout",
     "output_type": "stream",
     "text": [
      "12\n"
     ]
    }
   ],
   "source": [
    "num = [2,12,5,6,8,9]\n",
    "maxi = lambda x:max(x)\n",
    "res = maxi(num)\n",
    "print(res)"
   ]
  },
  {
   "cell_type": "markdown",
   "id": "93de190c",
   "metadata": {},
   "source": [
    "--------------------------------------------------------------------------------------------------------------------------------"
   ]
  },
  {
   "cell_type": "markdown",
   "id": "72d05a9f",
   "metadata": {},
   "source": [
    "8.Implement a lambda function to filter out all the even numbers from a list of integers.\n",
    "\n",
    "Answer:"
   ]
  },
  {
   "cell_type": "code",
   "execution_count": 9,
   "id": "f229d279",
   "metadata": {},
   "outputs": [
    {
     "name": "stdout",
     "output_type": "stream",
     "text": [
      "[2, 4, 6, 8, 10, 12, 14]\n"
     ]
    }
   ],
   "source": [
    "num = [1,2,3,4,5,6,7,8,9,10,11,12,13,14,15]\n",
    "mul = filter(lambda x:x%2==0,num)\n",
    "print(list(mul))"
   ]
  },
  {
   "cell_type": "markdown",
   "id": "17648e64",
   "metadata": {},
   "source": [
    "--------------------------------------------------------------------------------------------------------------------------------"
   ]
  },
  {
   "cell_type": "markdown",
   "id": "0e398188",
   "metadata": {},
   "source": [
    "9.Write a lambda function to sort a list of strings in ascending order based on the length of each string.\n",
    "\n",
    "Answer:"
   ]
  },
  {
   "cell_type": "code",
   "execution_count": 10,
   "id": "d11aec36",
   "metadata": {},
   "outputs": [
    {
     "name": "stdout",
     "output_type": "stream",
     "text": [
      "['date', 'apple', 'banana', 'cherry', 'elderberry']\n"
     ]
    }
   ],
   "source": [
    "strings = [\"apple\", \"banana\", \"cherry\", \"date\", \"elderberry\"]\n",
    "sorted_strings = sorted(strings, key=lambda x: len(x))\n",
    "print(sorted_strings) "
   ]
  },
  {
   "cell_type": "markdown",
   "id": "7af95478",
   "metadata": {},
   "source": [
    "--------------------------------------------------------------------------------------------------------------------------------"
   ]
  },
  {
   "cell_type": "markdown",
   "id": "88f4b174",
   "metadata": {},
   "source": [
    "10.Create a lambda function that takes two lists as input and returns a new list containing the common elements between the two lists.\n",
    "\n",
    "Answer:"
   ]
  },
  {
   "cell_type": "code",
   "execution_count": 11,
   "id": "60c1ae08",
   "metadata": {},
   "outputs": [
    {
     "name": "stdout",
     "output_type": "stream",
     "text": [
      "[4, 5, 7, 7, 7]\n"
     ]
    }
   ],
   "source": [
    "list1 = [1, 2, 3, 4, 5, 7, 7, 7]\n",
    "list2 = [4, 5, 6, 7, 8, 6, 6, 6]\n",
    "\n",
    "common_elements = lambda lst1, lst2: [element for element in lst1 if element in lst2]\n",
    "\n",
    "result = common_elements(list1, list2)\n",
    "print(result)"
   ]
  },
  {
   "cell_type": "code",
   "execution_count": 12,
   "id": "65c5a89e",
   "metadata": {},
   "outputs": [
    {
     "name": "stdout",
     "output_type": "stream",
     "text": [
      "[3, 5, 7, 8, 9]\n"
     ]
    }
   ],
   "source": [
    "ls1 = [1, 3, 4, 5, 7, 7, 8, 9, 9]\n",
    "ls2 = [3, 5, 6, 8, 6, 5, 3, 7, 9, 8, 3]\n",
    "com_ls = lambda ls1,ls2:set([ele for ele in ls1 if ele in ls2])\n",
    "res = com_ls(ls1,ls2)\n",
    "print(list(res))"
   ]
  },
  {
   "cell_type": "markdown",
   "id": "e48fcd2f",
   "metadata": {},
   "source": [
    "--------------------------------------------------------------------------------------------------------------------------------"
   ]
  },
  {
   "cell_type": "markdown",
   "id": "277bd3e9",
   "metadata": {},
   "source": [
    "11.Write a recursive function to calculate the factorial of a given positive integer.\n",
    "\n",
    "Answer:"
   ]
  },
  {
   "cell_type": "code",
   "execution_count": 13,
   "id": "f14bda2a",
   "metadata": {},
   "outputs": [
    {
     "name": "stdout",
     "output_type": "stream",
     "text": [
      "24\n"
     ]
    }
   ],
   "source": [
    "def fac(n):\n",
    "    if n==0 or n==1:\n",
    "        return 1\n",
    "    else:\n",
    "        return n*fac(n-1)\n",
    "print(fac(4))"
   ]
  },
  {
   "cell_type": "markdown",
   "id": "63b9e83e",
   "metadata": {},
   "source": [
    "--------------------------------------------------------------------------------------------------------------------------------"
   ]
  },
  {
   "cell_type": "markdown",
   "id": "1f03cd53",
   "metadata": {},
   "source": [
    "12.Implement a recursive function to compute the nth Fibonacci number.\n",
    "\n",
    "Answer:"
   ]
  },
  {
   "cell_type": "code",
   "execution_count": 14,
   "id": "982753c0",
   "metadata": {},
   "outputs": [
    {
     "name": "stdout",
     "output_type": "stream",
     "text": [
      "21\n"
     ]
    }
   ],
   "source": [
    "def fib(n):\n",
    "    if n==0:\n",
    "        return 0\n",
    "    elif n==1:\n",
    "        return 1\n",
    "    else:\n",
    "        return fib(n-1)+fib(n-2)\n",
    "print(fib(8))"
   ]
  },
  {
   "cell_type": "markdown",
   "id": "cc777eca",
   "metadata": {},
   "source": [
    "--------------------------------------------------------------------------------------------------------------------------------"
   ]
  },
  {
   "cell_type": "markdown",
   "id": "71e28917",
   "metadata": {},
   "source": [
    "13.Create a recursive function to find the sum of all the elements in a given list.\n",
    "\n",
    "Answer:"
   ]
  },
  {
   "cell_type": "code",
   "execution_count": 15,
   "id": "b30d2a62",
   "metadata": {},
   "outputs": [
    {
     "name": "stdout",
     "output_type": "stream",
     "text": [
      "53\n"
     ]
    }
   ],
   "source": [
    "def sum_list(lst):\n",
    "    if len(lst)==0:\n",
    "        return 0\n",
    "    else:\n",
    "        return lst[0]+sum_list(lst[1:])\n",
    "    \n",
    "print(sum_list([1,45,7]))"
   ]
  },
  {
   "cell_type": "markdown",
   "id": "58f7b491",
   "metadata": {},
   "source": [
    "--------------------------------------------------------------------------------------------------------------------------------"
   ]
  },
  {
   "cell_type": "markdown",
   "id": "c4d546b4",
   "metadata": {},
   "source": [
    "14.Write a recursive function to determine whether a given string is a palindrome.\n",
    "\n",
    "Answer:"
   ]
  },
  {
   "cell_type": "code",
   "execution_count": 16,
   "id": "318ea2bf",
   "metadata": {},
   "outputs": [
    {
     "name": "stdout",
     "output_type": "stream",
     "text": [
      "True\n"
     ]
    }
   ],
   "source": [
    "def palin(string):\n",
    "    if len(string)<=1:\n",
    "        return True\n",
    "    elif string[0]== string[-1]:\n",
    "        return palin(string[1:-1])\n",
    "    else:\n",
    "        return False\n",
    "    \n",
    "print(palin('racecar'))"
   ]
  },
  {
   "cell_type": "markdown",
   "id": "3dd7dd57",
   "metadata": {},
   "source": [
    "--------------------------------------------------------------------------------------------------------------------------------"
   ]
  },
  {
   "cell_type": "markdown",
   "id": "e0d34b64",
   "metadata": {},
   "source": [
    "15.Implement a recursive function to find the greatest common divisor (GCD) of two positive integers.\n",
    "\n",
    "Answer:"
   ]
  },
  {
   "cell_type": "code",
   "execution_count": 17,
   "id": "a94ee7b4",
   "metadata": {},
   "outputs": [
    {
     "name": "stdout",
     "output_type": "stream",
     "text": [
      "2\n"
     ]
    }
   ],
   "source": [
    "def gcd(a,b):\n",
    "    if b==0:\n",
    "        return a\n",
    "    else:\n",
    "        return gcd(b,a%b)\n",
    "    \n",
    "print(gcd(10,18))"
   ]
  }
 ],
 "metadata": {
  "kernelspec": {
   "display_name": "Python 3 (ipykernel)",
   "language": "python",
   "name": "python3"
  },
  "language_info": {
   "codemirror_mode": {
    "name": "ipython",
    "version": 3
   },
   "file_extension": ".py",
   "mimetype": "text/x-python",
   "name": "python",
   "nbconvert_exporter": "python",
   "pygments_lexer": "ipython3",
   "version": "3.10.9"
  }
 },
 "nbformat": 4,
 "nbformat_minor": 5
}
