{
 "cells": [
  {
   "cell_type": "markdown",
   "id": "73cd4e98",
   "metadata": {},
   "source": [
    "1.Explain what inheritance is in object-oriented programming and why it is used."
   ]
  },
  {
   "cell_type": "markdown",
   "id": "8fc3a913",
   "metadata": {},
   "source": [
    "Answer:\n",
    "\n",
    "Inheritance in object-oriented programming is a fundamental concept where a new class (subclass or derived class) is created based on an existing class (superclass or base class). The new class inherits attributes and methods from the existing class, allowing it to reuse and extend the functionality of the superclass.\n",
    "\n",
    "Here's why inheritance is used:\n",
    "\n",
    "Code Reuse: Inheritance promotes code reuse, reducing redundancy and facilitating the creation of new classes by incorporating existing class features. This minimizes the effort required to create and maintain software.\n",
    "\n",
    "Modularity: Inheritance makes it easier to break down complex systems into smaller, more manageable parts by creating a hierarchy of related classes. Each class focuses on specific aspects of the system, improving modularity and maintainability.\n",
    "\n",
    "Hierarchy and Organization: Inheritance establishes a hierarchical relationship between classes. Subclasses represent specialized versions of the superclass, leading to a structured and organized codebase.\n",
    "\n",
    "Polymorphism: Inheritance enables polymorphism, allowing objects of different classes to be treated as objects of a common base class. This facilitates dynamic method invocation and flexibility in designing software.\n",
    "\n",
    "Extension and Customization: Subclasses can extend and customize the behavior of the superclass by adding new attributes and methods or by modifying existing ones. This promotes adaptability to specific requirements.\n",
    "\n",
    "Consistency: Inheritance ensures consistency and enforces a set of attributes and methods across related classes, which can be advantageous for maintaining a coherent and predictable system."
   ]
  },
  {
   "cell_type": "markdown",
   "id": "9197fb4f",
   "metadata": {},
   "source": [
    "-----------------------------------------------------------------------------------------------------------------------------"
   ]
  },
  {
   "cell_type": "markdown",
   "id": "cc118195",
   "metadata": {},
   "source": [
    "2.Discuss the concept of single inheritance and multiple inheritance, highlighting their\n",
    "differences and advantages."
   ]
  },
  {
   "cell_type": "markdown",
   "id": "1f52923b",
   "metadata": {},
   "source": [
    "Answer:\n",
    "\n",
    "Single Inheritance:\n",
    "\n",
    "Concept: Single inheritance is a type of inheritance in which a class can inherit attributes and methods from only one superclass (parent class).\n",
    "\n",
    "Differences and Advantages:\n",
    "\n",
    "Simplicity: Single inheritance is conceptually simpler, as each class has only one immediate parent.\n",
    "\n",
    "Less Complexity: It avoids the complications associated with conflicts and ambiguities in method and attribute names that can arise in multiple inheritance.\n",
    "\n",
    "Advantages:\n",
    "\n",
    "Clarity: The class hierarchy is straightforward and easy to understand.\n",
    "Reduced Complexity: It minimizes the potential for naming conflicts and issues related to method resolution order.\n",
    "\n",
    "Multiple Inheritance:\n",
    "\n",
    "Concept: Multiple inheritance is a type of inheritance in which a class can inherit attributes and methods from more than one superclass (multiple parent classes).\n",
    "\n",
    "Differences and Advantages:\n",
    "\n",
    "Complexity: Multiple inheritance introduces complexity when dealing with classes that have multiple parent classes. It requires a method resolution order (MRO) mechanism to resolve method and attribute conflicts.\n",
    "\n",
    "Advantages:\n",
    "\n",
    "Reusability: Multiple inheritance allows a class to inherit functionality from multiple sources, promoting code reuse and flexibility.\n",
    "\n",
    "Versatility: It enables the creation of classes with diverse sets of features by combining functionalities from different parent classes.\n",
    "\n",
    "Modeling Complex Relationships: It's suitable for modeling complex relationships where an object exhibits characteristics of multiple categories."
   ]
  },
  {
   "cell_type": "markdown",
   "id": "5af2570d",
   "metadata": {},
   "source": [
    "-----------------------------------------------------------------------------------------------------------------------------"
   ]
  },
  {
   "cell_type": "markdown",
   "id": "a53e82c1",
   "metadata": {},
   "source": [
    "3.Explain the terms \"base class\" and \"derived class\" in the context of inheritance.\n",
    "\n",
    "Answer:\n",
    "\n",
    "Base Class: The base class, also known as the superclass, is the existing class from which another class (the derived class or subclass) inherits attributes and methods. It serves as the foundation for the derived class, providing a blueprint of common attributes and behaviors.\n",
    "\n",
    "Derived Class: The derived class, also known as the subclass, is a new class created by inheriting attributes and methods from a base class. It extends or specializes the functionality of the base class, allowing for customization and the addition of new features.\n",
    "\n",
    "Inheritance enables the derived class to leverage the properties and behaviors of the base class, creating a hierarchical relationship where the derived class \"is-a\" type of the base class."
   ]
  },
  {
   "cell_type": "markdown",
   "id": "3c32ad9b",
   "metadata": {},
   "source": [
    "-----------------------------------------------------------------------------------------------------------------------------"
   ]
  },
  {
   "cell_type": "markdown",
   "id": "edd23d06",
   "metadata": {},
   "source": [
    "4.What is the significance of the \"protected\" access modifier in inheritance? How does\n",
    "it differ from \"private\" and \"public\" modifiers?"
   ]
  },
  {
   "cell_type": "markdown",
   "id": "e8e0f8dc",
   "metadata": {},
   "source": [
    "Answer:\n",
    "\n",
    "The \"protected\" access modifier in inheritance serves to restrict access to class members to the class itself and its subclasses (derived classes). It differs from \"private\" and \"public\" modifiers as follows:\n",
    "\n",
    "\"Private\": Members declared as private are only accessible within the class they are defined in. They are not accessible in derived classes. Private members are used to encapsulate data that should not be directly accessed from outside the class.\n",
    "\n",
    "\"Protected\": Members declared as protected are accessible within the class they are defined in and in derived classes. This allows derived classes to access and manipulate these members, promoting a limited form of encapsulation while still providing access to subclasses.\n",
    "\n",
    "\"Public\": Members declared as public are accessible from anywhere, including external code. They have no access restrictions.\n",
    "\n",
    "\"Protected\" is often used to provide controlled access to certain class members in the context of inheritance, allowing subclasses to interact with and extend the behavior of the base class."
   ]
  },
  {
   "cell_type": "markdown",
   "id": "717026f7",
   "metadata": {},
   "source": [
    "-----------------------------------------------------------------------------------------------------------------------------"
   ]
  },
  {
   "cell_type": "markdown",
   "id": "cd9d572f",
   "metadata": {},
   "source": [
    "5.What is the purpose of the \"super\" keyword in inheritance? Provide an example."
   ]
  },
  {
   "cell_type": "markdown",
   "id": "c6a65aa8",
   "metadata": {},
   "source": [
    "Answer:\n",
    "\n",
    "The \"super\" keyword in inheritance is used to call a method or constructor of the parent class (superclass or base class) from the context of the child class (subclass or derived class). It allows the child class to invoke and extend the behavior of the parent class. The \"super\" keyword is particularly useful when the child class overrides a method or constructor of the parent class and still wants to use the parent class's implementation.\n",
    "\n",
    "Example:\n"
   ]
  },
  {
   "cell_type": "code",
   "execution_count": 1,
   "id": "e7896ab1",
   "metadata": {},
   "outputs": [
    {
     "name": "stdout",
     "output_type": "stream",
     "text": [
      "Buddy (a Golden Retriever dog) barks. Buddy makes a sound.\n"
     ]
    }
   ],
   "source": [
    "class Animal:\n",
    "    def __init__(self, name):\n",
    "        self.name = name\n",
    "\n",
    "    def speak(self):\n",
    "        return f\"{self.name} makes a sound.\"\n",
    "\n",
    "class Dog(Animal):\n",
    "    def __init__(self, name, breed):\n",
    "        super().__init__(name)  # Call the parent class constructor\n",
    "        self.breed = breed\n",
    "\n",
    "    def speak(self):\n",
    "        parent_speak = super().speak()  # Call the parent class's speak method\n",
    "        return f\"{self.name} (a {self.breed} dog) barks. {parent_speak}\"\n",
    "\n",
    "# Example usage:\n",
    "dog = Dog(\"Buddy\", \"Golden Retriever\")\n",
    "\n",
    "print(dog.speak())"
   ]
  },
  {
   "cell_type": "markdown",
   "id": "53d92e69",
   "metadata": {},
   "source": [
    "-----------------------------------------------------------------------------------------------------------------------------"
   ]
  },
  {
   "cell_type": "markdown",
   "id": "965c755e",
   "metadata": {},
   "source": [
    "6.Create a base class called \"Vehicle\" with attributes like \"make\", \"model\", and \"year\".\n",
    "Then, create a derived class called \"Car\" that inherits from \"Vehicle\" and adds an\n",
    "attribute called \"fuel_type\". Implement appropriate methods in both classes.\n",
    "\n",
    "Answer:"
   ]
  },
  {
   "cell_type": "code",
   "execution_count": 2,
   "id": "c39448ca",
   "metadata": {},
   "outputs": [
    {
     "name": "stdout",
     "output_type": "stream",
     "text": [
      "2023 Ford Explorer\n",
      "2023 Toyota Camry, Fuel Type: Gasoline\n"
     ]
    }
   ],
   "source": [
    "class Vehicle:\n",
    "    def __init__(self, make, model, year):\n",
    "        self.make = make\n",
    "        self.model = model\n",
    "        self.year = year\n",
    "\n",
    "    def get_info(self):\n",
    "        return f\"{self.year} {self.make} {self.model}\"\n",
    "\n",
    "class Car(Vehicle):\n",
    "    def __init__(self, make, model, year, fuel_type):\n",
    "        super().__init__(make, model, year)\n",
    "        self.fuel_type = fuel_type\n",
    "\n",
    "    def get_info(self):  # Override the base class method\n",
    "        vehicle_info = super().get_info()\n",
    "        return f\"{vehicle_info}, Fuel Type: {self.fuel_type}\"\n",
    "\n",
    "# Example usage:\n",
    "vehicle1 = Vehicle(\"Ford\", \"Explorer\", 2023)\n",
    "car1 = Car(\"Toyota\", \"Camry\", 2023, \"Gasoline\")\n",
    "\n",
    "print(vehicle1.get_info())  # Vehicle info\n",
    "print(car1.get_info())  # Car info with fuel type"
   ]
  },
  {
   "cell_type": "markdown",
   "id": "62755b97",
   "metadata": {},
   "source": [
    "-----------------------------------------------------------------------------------------------------------------------------"
   ]
  },
  {
   "cell_type": "markdown",
   "id": "38af6cfd",
   "metadata": {},
   "source": [
    "7.Create a base class called \"Employee\" with attributes like \"name\" and \"salary.\"\n",
    "Derive two classes, \"Manager\" and \"Developer,\" from \"Employee.\" Add an additional\n",
    "attribute called \"department\" for the \"Manager\" class and \"programming_language\"\n",
    "for the \"Developer\" class.\n",
    "\n",
    "Answer:"
   ]
  },
  {
   "cell_type": "code",
   "execution_count": 3,
   "id": "7ede9920",
   "metadata": {},
   "outputs": [
    {
     "name": "stdout",
     "output_type": "stream",
     "text": [
      "Name: Alice, Salary: 60000, Department: HR\n",
      "Name: Bob, Salary: 75000, Programming Language: Python\n"
     ]
    }
   ],
   "source": [
    "class Employee:\n",
    "    def __init__(self, name, salary):\n",
    "        self.name = name\n",
    "        self.salary = salary\n",
    "\n",
    "    def get_info(self):\n",
    "        return f\"Name: {self.name}, Salary: {self.salary}\"\n",
    "\n",
    "class Manager(Employee):\n",
    "    def __init__(self, name, salary, department):\n",
    "        super().__init__(name, salary)\n",
    "        self.department = department\n",
    "\n",
    "    def get_info(self):  # Override the base class method\n",
    "        employee_info = super().get_info()\n",
    "        return f\"{employee_info}, Department: {self.department}\"\n",
    "\n",
    "class Developer(Employee):\n",
    "    def __init__(self, name, salary, programming_language):\n",
    "        super().__init__(name, salary)\n",
    "        self.programming_language = programming_language\n",
    "\n",
    "    def get_info(self):  # Override the base class method\n",
    "        employee_info = super().get_info()\n",
    "        return f\"{employee_info}, Programming Language: {self.programming_language}\"\n",
    "\n",
    "# Example usage:\n",
    "manager1 = Manager(\"Alice\", 60000, \"HR\")\n",
    "developer1 = Developer(\"Bob\", 75000, \"Python\")\n",
    "\n",
    "print(manager1.get_info())  # Manager info with department\n",
    "print(developer1.get_info())  # Developer info with programming language"
   ]
  },
  {
   "cell_type": "markdown",
   "id": "007dc054",
   "metadata": {},
   "source": [
    "-----------------------------------------------------------------------------------------------------------------------------"
   ]
  },
  {
   "cell_type": "markdown",
   "id": "f44041f6",
   "metadata": {},
   "source": [
    "8.Design a base class called \"Shape\" with attributes like \"colour\" and \"border_width.\"\n",
    "Create derived classes, \"Rectangle\" and \"Circle,\" that inherit from \"Shape\" and add\n",
    "specific attributes like \"length\" and \"width\" for the \"Rectangle\" class and \"radius\" for\n",
    "the \"Circle\" class.\n",
    "\n",
    "Answer:"
   ]
  },
  {
   "cell_type": "code",
   "execution_count": 4,
   "id": "dcdbeb45",
   "metadata": {},
   "outputs": [
    {
     "name": "stdout",
     "output_type": "stream",
     "text": [
      "Colour: Red, Border Width: 2, Length: 5, Width: 4\n",
      "Colour: Blue, Border Width: 1, Radius: 3\n"
     ]
    }
   ],
   "source": [
    "class Shape:\n",
    "    def __init__(self, colour, border_width):\n",
    "        self.colour = colour\n",
    "        self.border_width = border_width\n",
    "\n",
    "    def get_info(self):\n",
    "        return f\"Colour: {self.colour}, Border Width: {self.border_width}\"\n",
    "\n",
    "class Rectangle(Shape):\n",
    "    def __init__(self, colour, border_width, length, width):\n",
    "        super().__init__(colour, border_width)\n",
    "        self.length = length\n",
    "        self.width = width\n",
    "\n",
    "    def get_info(self):  # Override the base class method\n",
    "        shape_info = super().get_info()\n",
    "        return f\"{shape_info}, Length: {self.length}, Width: {self.width}\"\n",
    "\n",
    "class Circle(Shape):\n",
    "    def __init__(self, colour, border_width, radius):\n",
    "        super().__init__(colour, border_width)\n",
    "        self.radius = radius\n",
    "\n",
    "    def get_info(self):  # Override the base class method\n",
    "        shape_info = super().get_info()\n",
    "        return f\"{shape_info}, Radius: {self.radius}\"\n",
    "\n",
    "# Example usage:\n",
    "rectangle1 = Rectangle(\"Red\", 2, 5, 4)\n",
    "circle1 = Circle(\"Blue\", 1, 3)\n",
    "\n",
    "print(rectangle1.get_info())  # Rectangle info with length and width\n",
    "print(circle1.get_info())  # Circle info with radius"
   ]
  },
  {
   "cell_type": "markdown",
   "id": "8862ea3e",
   "metadata": {},
   "source": [
    "-----------------------------------------------------------------------------------------------------------------------------"
   ]
  },
  {
   "cell_type": "markdown",
   "id": "79329212",
   "metadata": {},
   "source": [
    "9.Create a base class called \"Device\" with attributes like \"brand\" and \"model.\" Derive\n",
    "two classes, \"Phone\" and \"Tablet,\" from \"Device.\" Add specific attributes like\n",
    "\"screen_size\" for the \"Phone\" class and \"battery_capacity\" for the \"Tablet\" class.\n",
    "\n",
    "Answer:\n"
   ]
  },
  {
   "cell_type": "code",
   "execution_count": 5,
   "id": "43683122",
   "metadata": {},
   "outputs": [
    {
     "name": "stdout",
     "output_type": "stream",
     "text": [
      "Brand: Samsung, Model: Galaxy S21, Screen Size: 6.2 inches\n",
      "Brand: Apple, Model: iPad Air, Battery Capacity: 8827 mAh\n"
     ]
    }
   ],
   "source": [
    "class Device:\n",
    "    def __init__(self, brand, model):\n",
    "        self.brand = brand\n",
    "        self.model = model\n",
    "\n",
    "    def get_info(self):\n",
    "        return f\"Brand: {self.brand}, Model: {self.model}\"\n",
    "\n",
    "class Phone(Device):\n",
    "    def __init__(self, brand, model, screen_size):\n",
    "        super().__init__(brand, model)\n",
    "        self.screen_size = screen_size\n",
    "\n",
    "    def get_info(self):  # Override the base class method\n",
    "        device_info = super().get_info()\n",
    "        return f\"{device_info}, Screen Size: {self.screen_size} inches\"\n",
    "\n",
    "class Tablet(Device):\n",
    "    def __init__(self, brand, model, battery_capacity):\n",
    "        super().__init__(brand, model)\n",
    "        self.battery_capacity = battery_capacity\n",
    "\n",
    "    def get_info(self):  # Override the base class method\n",
    "        device_info = super().get_info()\n",
    "        return f\"{device_info}, Battery Capacity: {self.battery_capacity} mAh\"\n",
    "\n",
    "# Example usage:\n",
    "phone1 = Phone(\"Samsung\", \"Galaxy S21\", 6.2)\n",
    "tablet1 = Tablet(\"Apple\", \"iPad Air\", 8827)\n",
    "\n",
    "print(phone1.get_info())  # Phone info with screen size\n",
    "print(tablet1.get_info())  # Tablet info with battery capacity"
   ]
  },
  {
   "cell_type": "markdown",
   "id": "0315abe1",
   "metadata": {},
   "source": [
    "-----------------------------------------------------------------------------------------------------------------------------"
   ]
  },
  {
   "cell_type": "markdown",
   "id": "72845243",
   "metadata": {},
   "source": [
    "10.Create a base class called \"BankAccount\" with attributes like \"account_number\" and\n",
    "\"balance.\" Derive two classes, \"SavingsAccount\" and \"CheckingAccount,\" from\n",
    "\"BankAccount.\" Add specific methods like \"calculate_interest\" for the\n",
    "\"SavingsAccount\" class and \"deduct_fees\" for the \"CheckingAccount\" class.\n",
    "\n",
    "Answer:"
   ]
  },
  {
   "cell_type": "code",
   "execution_count": 6,
   "id": "09eaf9d7",
   "metadata": {},
   "outputs": [
    {
     "name": "stdout",
     "output_type": "stream",
     "text": [
      "Account Number: SA12345, Balance: $1000.00\n",
      "Interest calculated and added: $50.00\n",
      "Account Number: CA67890, Balance: $500.00\n",
      "Fees deducted: $25.00\n"
     ]
    }
   ],
   "source": [
    "class BankAccount:\n",
    "    def __init__(self, account_number, balance):\n",
    "        self.account_number = account_number\n",
    "        self.balance = balance\n",
    "\n",
    "    def get_info(self):\n",
    "        return f\"Account Number: {self.account_number}, Balance: ${self.balance:.2f}\"\n",
    "\n",
    "class SavingsAccount(BankAccount):\n",
    "    def calculate_interest(self, interest_rate):\n",
    "        interest_earned = self.balance * interest_rate\n",
    "        self.balance += interest_earned\n",
    "        return f\"Interest calculated and added: ${interest_earned:.2f}\"\n",
    "\n",
    "class CheckingAccount(BankAccount):\n",
    "    def deduct_fees(self, fee_amount):\n",
    "        if self.balance >= fee_amount:\n",
    "            self.balance -= fee_amount\n",
    "            return f\"Fees deducted: ${fee_amount:.2f}\"\n",
    "        else:\n",
    "            return \"Insufficient balance to deduct fees.\"\n",
    "\n",
    "# Example usage:\n",
    "savings_account = SavingsAccount(\"SA12345\", 1000)\n",
    "checking_account = CheckingAccount(\"CA67890\", 500)\n",
    "\n",
    "print(savings_account.get_info())  # Savings account info\n",
    "print(savings_account.calculate_interest(0.05))  # Calculate and add interest\n",
    "print(checking_account.get_info())  # Checking account info\n",
    "print(checking_account.deduct_fees(25.0))  # Deduct fees"
   ]
  }
 ],
 "metadata": {
  "kernelspec": {
   "display_name": "Python 3 (ipykernel)",
   "language": "python",
   "name": "python3"
  },
  "language_info": {
   "codemirror_mode": {
    "name": "ipython",
    "version": 3
   },
   "file_extension": ".py",
   "mimetype": "text/x-python",
   "name": "python",
   "nbconvert_exporter": "python",
   "pygments_lexer": "ipython3",
   "version": "3.10.9"
  }
 },
 "nbformat": 4,
 "nbformat_minor": 5
}
