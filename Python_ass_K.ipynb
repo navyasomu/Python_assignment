{
 "cells": [
  {
   "cell_type": "markdown",
   "id": "08c76d82",
   "metadata": {},
   "source": [
    "1. What is the role of the 'else' block in a try-except statement? Provide an example\n",
    "scenario where it would be useful."
   ]
  },
  {
   "cell_type": "markdown",
   "id": "db72c66c",
   "metadata": {},
   "source": [
    "Answer:\n",
    "\n",
    "The 'else' block in a try-except statement is used to specify a block of code that should be executed if no exceptions are raised in the 'try' block. It is used for actions that should occur only when the 'try' block runs without any exceptions.\n",
    "\n",
    "Example:"
   ]
  },
  {
   "cell_type": "code",
   "execution_count": 1,
   "id": "e21031d9",
   "metadata": {},
   "outputs": [
    {
     "name": "stdout",
     "output_type": "stream",
     "text": [
      "Result: 5.0\n"
     ]
    }
   ],
   "source": [
    "try:\n",
    "    x = 10 / 2  # No exception\n",
    "except ZeroDivisionError:\n",
    "    print(\"Division by zero\")\n",
    "else:\n",
    "    print(\"Result:\", x)  # This line is executed because no exception occurred"
   ]
  },
  {
   "cell_type": "markdown",
   "id": "60d493f2",
   "metadata": {},
   "source": [
    "In this example, since there is no exception during the division operation, the code in the else block is executed, and it prints the result."
   ]
  },
  {
   "cell_type": "markdown",
   "id": "3a8000f0",
   "metadata": {},
   "source": [
    "--------------------------------------------------------------------------------------------------------------------------------"
   ]
  },
  {
   "cell_type": "markdown",
   "id": "0acfd047",
   "metadata": {},
   "source": [
    "2. Can a try-except block be nested inside another try-except block? Explain with an\n",
    "example."
   ]
  },
  {
   "cell_type": "markdown",
   "id": "124711f3",
   "metadata": {},
   "source": [
    "Answer:\n",
    "\n",
    "Yes, we can nest a try-except block inside another try-except block. This allows you to handle exceptions at different levels of granularity.\n",
    "\n",
    "Example:"
   ]
  },
  {
   "cell_type": "code",
   "execution_count": 2,
   "id": "a1ad43ff",
   "metadata": {},
   "outputs": [
    {
     "name": "stdout",
     "output_type": "stream",
     "text": [
      "Inner exception: Division by zero\n"
     ]
    }
   ],
   "source": [
    "try:\n",
    "    # Outer try block\n",
    "    try:\n",
    "        # Inner try block\n",
    "        result = 10 / 0  # This will raise a ZeroDivisionError\n",
    "    except ZeroDivisionError:\n",
    "        print(\"Inner exception: Division by zero\")\n",
    "except Exception as e:\n",
    "    print(\"Outer exception:\", str(e))"
   ]
  },
  {
   "cell_type": "markdown",
   "id": "b92e0dd0",
   "metadata": {},
   "source": [
    "In this example, an inner try-except block handles the \"ZeroDivisionError,\" and the outer try-except block handles any other exceptions. This nesting provides more fine-grained control over exception handling."
   ]
  },
  {
   "cell_type": "markdown",
   "id": "b8faa99c",
   "metadata": {},
   "source": [
    "--------------------------------------------------------------------------------------------------------------------------------"
   ]
  },
  {
   "cell_type": "markdown",
   "id": "799054ea",
   "metadata": {},
   "source": [
    "3.How can you create a custom exception class in Python? Provide an example that demonstrates its usage."
   ]
  },
  {
   "cell_type": "markdown",
   "id": "16699adf",
   "metadata": {},
   "source": [
    "Answer:\n",
    "\n",
    "To create a custom exception class in Python, we can define a new class that inherits from the built-in Exception class or one of its subclasses. we can add your custom behavior and attributes to the exception class.\n",
    "\n",
    "Example:"
   ]
  },
  {
   "cell_type": "code",
   "execution_count": 3,
   "id": "2fa57b2d",
   "metadata": {},
   "outputs": [
    {
     "name": "stdout",
     "output_type": "stream",
     "text": [
      "Enter your age: -8\n",
      "Custom Exception: Age cannot be negative\n"
     ]
    }
   ],
   "source": [
    "class CustomException(Exception):\n",
    "    def __init__(self, message):\n",
    "        super().__init__(message)\n",
    "\n",
    "# Usage of the custom exception\n",
    "try:\n",
    "    age = int(input(\"Enter your age: \"))\n",
    "    if age < 0:\n",
    "        raise CustomException(\"Age cannot be negative\")\n",
    "except CustomException as ce:\n",
    "    print(\"Custom Exception:\", ce)\n",
    "except ValueError:\n",
    "    print(\"Invalid input. Please enter a valid age.\")"
   ]
  },
  {
   "cell_type": "markdown",
   "id": "6e5532b5",
   "metadata": {},
   "source": [
    "In this example, we create a custom exception class called CustomException that inherits from the built-in Exception class. It has an __init__ method to set the custom error message. We then raise this custom exception when the age entered is negative.\n",
    "\n",
    "When running the code, if a negative age is entered, the custom exception is raised and caught in the except CustomException block, and the error message is printed. If the input is not a valid integer, a ValueError exception is raised and handled separately."
   ]
  },
  {
   "cell_type": "markdown",
   "id": "f5650426",
   "metadata": {},
   "source": [
    "--------------------------------------------------------------------------------------------------------------------------------"
   ]
  },
  {
   "cell_type": "markdown",
   "id": "cd2bd5c2",
   "metadata": {},
   "source": [
    "4.What are some common exceptions that are built-in to Python?"
   ]
  },
  {
   "cell_type": "markdown",
   "id": "326ff029",
   "metadata": {},
   "source": [
    "Answer:\n",
    "\n",
    "Python has many built-in exceptions that cover a wide range of error situations. Here are some of the most common built-in exceptions in Python:\n",
    "\n",
    "-->SyntaxError: Raised when there is a syntax error in your code.\n",
    "\n",
    "-->IndentationError: Raised when there are indentation issues, such as mismatched spaces or tabs.\n",
    "\n",
    "-->NameError: Raised when a local or global name is not found.\n",
    "\n",
    "-->TypeError: Raised when an operation or function is applied to an object of the wrong type.\n",
    "\n",
    "-->ValueError: Raised when a function receives an argument of the correct type but an inappropriate value.\n",
    "\n",
    "-->KeyError: Raised when a dictionary is accessed with a key that does not exist.\n",
    "\n",
    "-->IndexError: Raised when trying to access a non-existent index of a sequence (e.g., a list or a string).\n",
    "\n",
    "-->FileNotFoundError: Raised when an attempt to open a non-existent file is made.\n",
    "\n",
    "-->ZeroDivisionError: Raised when attempting to divide by zero.\n",
    "\n",
    "-->ArithmeticError: The base class for arithmetic exceptions, including ZeroDivisionError and OverflowError.\n",
    "\n",
    "-->IOError: Raised for errors related to input and output operations.\n",
    "\n",
    "-->AttributeError: Raised when an attribute is not found in an object.\n",
    "\n",
    "-->ImportError: Raised when there are problems with importing a module.\n",
    "\n",
    "-->MemoryError: Raised when an operation runs out of memory.\n"
   ]
  },
  {
   "cell_type": "markdown",
   "id": "ab5365ed",
   "metadata": {},
   "source": [
    "--------------------------------------------------------------------------------------------------------------------------------"
   ]
  },
  {
   "cell_type": "markdown",
   "id": "a77e85c4",
   "metadata": {},
   "source": [
    "5.What is logging in Python, and why is it important in software development?"
   ]
  },
  {
   "cell_type": "markdown",
   "id": "2ff68ba2",
   "metadata": {},
   "source": [
    "Answer:\n",
    "\n",
    "Logging in Python is the process of recording important information and errors that occur during a program's execution. It's crucial in software development for several reasons:\n",
    "\n",
    "-->Debugging: Logs help developers find and fix issues in the code.\n",
    "\n",
    "-->Monitoring: They allow monitoring the application's performance and health in real-time.\n",
    "\n",
    "-->Security: Logs can record security breaches or unauthorized access attempts.\n",
    "\n",
    "-->Performance Analysis: Developers can analyze the application's speed and optimize it.\n",
    "\n",
    "-->Record Keeping: Logs provide a history of the application's behavior, aiding in auditing and trend analysis.\n",
    "\n",
    "Python's logging module offers tools to control what is logged, where it's stored, and how it's formatted. It helps ensure applications run smoothly and can be useful for debugging, monitoring, security, performance, and user support."
   ]
  },
  {
   "cell_type": "markdown",
   "id": "1db6e0fc",
   "metadata": {},
   "source": [
    "--------------------------------------------------------------------------------------------------------------------------------"
   ]
  },
  {
   "cell_type": "markdown",
   "id": "94e7e2b2",
   "metadata": {},
   "source": [
    "6.Explain the purpose of log levels in Python logging and provide examples of when\n",
    "each log level would be appropriate."
   ]
  },
  {
   "cell_type": "markdown",
   "id": "da42a765",
   "metadata": {},
   "source": [
    "Answer:\n",
    "\n",
    "Log levels in Python logging are used to categorize log messages based on their severity. The purpose of log levels is to provide a way to filter and manage log messages, allowing developers and administrators to control the amount of information logged. Python's logging module defines several standard log levels, each suitable for different scenarios:\n"
   ]
  },
  {
   "cell_type": "markdown",
   "id": "0ae704ce",
   "metadata": {},
   "source": [
    "DEBUG: \n",
    "The lowest log level, used for detailed debugging information. It's appropriate when you need to log fine-grained details during development and troubleshooting. For example, you might log variable values, function calls, or detailed program flow."
   ]
  },
  {
   "cell_type": "raw",
   "id": "8f36e111",
   "metadata": {},
   "source": [
    "import logging\n",
    "\n",
    "logging.debug(\"Debugging information: variable x = %d\" % x)"
   ]
  },
  {
   "cell_type": "markdown",
   "id": "a73e3430",
   "metadata": {},
   "source": [
    "INFO: Used for general information about the program's execution. Info-level logs provide a high-level overview of the application's progress and key events. They are helpful for tracking the application's normal operation."
   ]
  },
  {
   "cell_type": "raw",
   "id": "feb1847b",
   "metadata": {},
   "source": [
    "import logging\n",
    "\n",
    "logging.info(\"Application started.\")"
   ]
  },
  {
   "cell_type": "markdown",
   "id": "d7d08f68",
   "metadata": {},
   "source": [
    "WARNING: Indicates potential issues or situations that might lead to errors but do not disrupt the application's operation. Warnings are appropriate for non-critical issues that should be investigated."
   ]
  },
  {
   "cell_type": "raw",
   "id": "c2b94a32",
   "metadata": {},
   "source": [
    "import logging\n",
    "\n",
    "logging.warning(\"Disk space is running low.\")"
   ]
  },
  {
   "cell_type": "markdown",
   "id": "d3c1d179",
   "metadata": {},
   "source": [
    "ERROR: Logs error messages for issues that prevent the application from functioning correctly. Error-level logs indicate a problem that needs attention but may not necessarily lead to a crash."
   ]
  },
  {
   "cell_type": "raw",
   "id": "2fbef06f",
   "metadata": {},
   "source": [
    "import logging\n",
    "\n",
    "logging.error(\"Failed to connect to the database.\")"
   ]
  },
  {
   "cell_type": "markdown",
   "id": "dc184a61",
   "metadata": {},
   "source": [
    "CRITICAL: The highest log level, used for critical errors that cause the application to crash or become unusable. Critical logs are reserved for severe issues that require immediate action."
   ]
  },
  {
   "cell_type": "raw",
   "id": "163139e6",
   "metadata": {},
   "source": [
    "import logging\n",
    "\n",
    "logging.critical(\"Application crashed due to a critical error.\")"
   ]
  },
  {
   "cell_type": "markdown",
   "id": "d6c6f18e",
   "metadata": {},
   "source": [
    "By choosing the appropriate log level for each message, we can control the volume of log output and prioritize which issues to address. This flexibility makes log levels valuable for debugging, monitoring, and maintaining software applications."
   ]
  },
  {
   "cell_type": "markdown",
   "id": "ad515cba",
   "metadata": {},
   "source": [
    "--------------------------------------------------------------------------------------------------------------------------------"
   ]
  },
  {
   "cell_type": "markdown",
   "id": "8d359a54",
   "metadata": {},
   "source": [
    "7.What are log formatters in Python logging, and how can you customise the log\n",
    "message format using formatters?"
   ]
  },
  {
   "cell_type": "markdown",
   "id": "104ac7b5",
   "metadata": {},
   "source": [
    "Answer:\n",
    "\n",
    "Log formatters in Python's logging module allow you to customize the format of log messages. You can customize the log message format using formatters by defining a format string that includes placeholders for various components like timestamps, log levels, and the log message. These placeholders are replaced with actual values when the log message is recorded.\n",
    "\n",
    "Example:"
   ]
  },
  {
   "cell_type": "code",
   "execution_count": 4,
   "id": "671b07aa",
   "metadata": {},
   "outputs": [
    {
     "name": "stderr",
     "output_type": "stream",
     "text": [
      "2023-11-07 15:39:53,505 - example - WARNING - This is a warning message\n"
     ]
    }
   ],
   "source": [
    "import logging\n",
    "\n",
    "# Create a custom formatter\n",
    "formatter = logging.Formatter('%(asctime)s - %(name)s - %(levelname)s - %(message)s')\n",
    "\n",
    "# Attach the formatter to a handler or logger\n",
    "handler = logging.StreamHandler()\n",
    "handler.setFormatter(formatter)\n",
    "logger = logging.getLogger('example')\n",
    "logger.addHandler(handler)\n",
    "\n",
    "# Log a message\n",
    "logger.warning('This is a warning message')"
   ]
  },
  {
   "cell_type": "markdown",
   "id": "f3c0e49f",
   "metadata": {},
   "source": [
    "In this code:\n",
    "\n",
    "-->We create a custom formatter using logging.Formatter and define a format string with placeholders like %(asctime)s, %(name)s, %(levelname)s, and %(message)s.\n",
    "\n",
    "-->We attach the formatter to a handler (in this case, a StreamHandler) using handler.setFormatter(formatter).\n",
    "\n",
    "-->We log a message, and the formatter processes the format string, replacing the placeholders with the appropriate values to create the log message with a custom format.\n",
    "\n",
    "-->By customizing the format string, you can control the structure and content of your log messages to suit your specific requirements."
   ]
  },
  {
   "cell_type": "markdown",
   "id": "6b3e2a4f",
   "metadata": {},
   "source": [
    "--------------------------------------------------------------------------------------------------------------------------------"
   ]
  },
  {
   "cell_type": "markdown",
   "id": "78c08717",
   "metadata": {},
   "source": [
    "8.How can you set up logging to capture log messages from multiple modules or\n",
    "classes in a Python application?"
   ]
  },
  {
   "cell_type": "markdown",
   "id": "475f03e8",
   "metadata": {},
   "source": [
    "Answer:\n",
    "\n",
    "To set up logging to capture log messages from multiple modules or classes in a Python application, follow these steps:"
   ]
  },
  {
   "cell_type": "markdown",
   "id": "b814dfe5",
   "metadata": {},
   "source": [
    "Create a Centralized Logger Configuration:\n",
    "\n",
    "Create a centralized logger configuration in a separate Python module, often named \"logging_config.py\" or similar. This module will set up the logger's configuration, including log levels, handlers, and formatters. Here's an example of \"logging_config.py\":"
   ]
  },
  {
   "cell_type": "code",
   "execution_count": 5,
   "id": "9a290cf0",
   "metadata": {},
   "outputs": [],
   "source": [
    "# logging_config.py\n",
    "\n",
    "import logging\n",
    "\n",
    "# Create a logger\n",
    "logger = logging.getLogger(\"my_application\")\n",
    "logger.setLevel(logging.DEBUG)\n",
    "\n",
    "# Create a formatter\n",
    "formatter = logging.Formatter('%(asctime)s - %(name)s - %(levelname)s - %(message)s')\n",
    "\n",
    "# Create a handler (e.g., FileHandler or StreamHandler)\n",
    "handler = logging.FileHandler('my_app.log')\n",
    "handler.setFormatter(formatter)\n",
    "\n",
    "# Add the handler to the logger\n",
    "logger.addHandler(handler)"
   ]
  },
  {
   "cell_type": "markdown",
   "id": "b30c682f",
   "metadata": {},
   "source": [
    "Using the Centralized Logger in Other Modules or Classes:\n",
    "\n",
    "In your application's various modules or classes, import the centralized logger and use it to log messages:"
   ]
  },
  {
   "cell_type": "code",
   "execution_count": 6,
   "id": "b85db23e",
   "metadata": {},
   "outputs": [],
   "source": [
    "import logging # Import the centralized logger\n",
    "\n",
    "def some_function():\n",
    "    logger.info(\"This is an info message from my_module\")\n",
    "\n",
    "def another_function():\n",
    "    logger.error(\"An error occurred in my_module\")"
   ]
  },
  {
   "cell_type": "markdown",
   "id": "13c0666e",
   "metadata": {},
   "source": [
    "Run the Application:\n",
    "\n",
    "When running your application, make sure that the \"logging_config.py\" module is in the Python path or in the same directory as your application's main script. This ensures that the logger configuration is accessible from all modules.\n",
    "\n",
    "By following this setup, you can log messages from multiple modules or classes while maintaining centralized control over the logging configuration. This approach simplifies the management and control of log messages across your application."
   ]
  },
  {
   "cell_type": "markdown",
   "id": "10c820dc",
   "metadata": {},
   "source": [
    "--------------------------------------------------------------------------------------------------------------------------------"
   ]
  },
  {
   "cell_type": "markdown",
   "id": "0c77b8fb",
   "metadata": {},
   "source": [
    "9.What is the difference between the logging and print statements in Python? When\n",
    "should you use logging over print statements in a real-world application?"
   ]
  },
  {
   "cell_type": "markdown",
   "id": "4b929f30",
   "metadata": {},
   "source": [
    "Logging and print statements in Python serve different purposes:\n",
    "\n",
    "Output Destination: Print statements display text on the console, while logging allows you to direct messages to various destinations, such as files, external services, or the console, providing flexibility for different use cases.\n",
    "\n",
    "Levels and Severity: Logging supports different log levels (DEBUG, INFO, WARNING, ERROR, CRITICAL) to categorize the severity of log messages, allowing for better differentiation between informational messages and errors. Print statements lack this categorization.\n",
    "\n",
    "Formatting: Logging enables custom log message formatting, including timestamps and context information, making logs more informative and structured. Print statements output raw text without formatting.\n",
    "\n",
    "Control and Configuration: Logging is highly configurable; you can set up different log handlers, formatters, and log levels dynamically, adapting the behavior without modifying source code. Print statements offer limited control and are less adaptable at runtime.\n",
    "\n",
    "In a real-world application, use logging over print statements for the following reasons:\n",
    "\n",
    "-->In production applications, logging is essential for systematically recording events, errors, and performance metrics.\n",
    "\n",
    "-->For debugging and troubleshooting, logging provides more control and flexibility, allowing you to isolate issues and switch debugging information on or off easily.\n",
    "\n",
    "-->Error handling benefits from structured logs, allowing you to catch, record, and analyze exceptions systematically.\n",
    "\n",
    "-->Logging is crucial for monitoring application health, performance, and usage patterns in production environments.\n",
    "\n",
    "-->For security and compliance, logging records security events and access attempts, aiding in auditing and security analysis.\n",
    "\n",
    "-->In long-term application maintenance, using logging facilitates change tracking, issue resolution, and performance monitoring over time.\n",
    "\n",
    "In summary, while print statements are suitable for simple scripts and quick debugging, logging is the preferred choice for real-world applications due to its structured log levels, custom formatting, and extensive configuration options, providing better control, debugging, monitoring, and maintenance capabilities."
   ]
  },
  {
   "cell_type": "markdown",
   "id": "984eaa66",
   "metadata": {},
   "source": [
    "--------------------------------------------------------------------------------------------------------------------------------"
   ]
  },
  {
   "cell_type": "markdown",
   "id": "218f4280",
   "metadata": {},
   "source": [
    "10.Write a Python program that logs a message to a file named \"app.log\" with the\n",
    "following requirements:\n",
    "\n",
    "● The log message should be \"Hello, World!\"\n",
    "\n",
    "● The log level should be set to \"INFO.\"\n",
    "\n",
    "● The log file should append new log entries without overwriting previous ones."
   ]
  },
  {
   "cell_type": "markdown",
   "id": "fd4897df",
   "metadata": {},
   "source": [
    "Answer:\n",
    "\n"
   ]
  },
  {
   "cell_type": "code",
   "execution_count": 7,
   "id": "414f0ad2",
   "metadata": {},
   "outputs": [
    {
     "name": "stderr",
     "output_type": "stream",
     "text": [
      "2023-11-07 15:39:53,565 - INFO - Hello, World!\n"
     ]
    }
   ],
   "source": [
    "import logging\n",
    "\n",
    "# Configure the logging\n",
    "logging.basicConfig(filename='app.log', level=logging.INFO, filemode='a', format='%(asctime)s - %(levelname)s - %(message)s')\n",
    "\n",
    "# Create a stream handler for console output\n",
    "console_handler = logging.StreamHandler()\n",
    "console_handler.setLevel(logging.INFO)\n",
    "console_handler.setFormatter(logging.Formatter('%(asctime)s - %(levelname)s - %(message)s'))\n",
    "\n",
    "# Get the root logger and add the console handler\n",
    "root_logger = logging.getLogger()\n",
    "root_logger.addHandler(console_handler)\n",
    "\n",
    "# Log the message\n",
    "logging.info('Hello, World!')"
   ]
  },
  {
   "cell_type": "markdown",
   "id": "6ab5fd6b",
   "metadata": {},
   "source": [
    "--------------------------------------------------------------------------------------------------------------------------------"
   ]
  },
  {
   "cell_type": "markdown",
   "id": "da999d19",
   "metadata": {},
   "source": [
    "11.Create a Python program that logs an error message to the console and a file named\n",
    "\"errors.log\" if an exception occurs during the program's execution. The error\n",
    "message should include the exception type and a timestamp."
   ]
  },
  {
   "cell_type": "markdown",
   "id": "170a8477",
   "metadata": {},
   "source": [
    "Answer:"
   ]
  },
  {
   "cell_type": "code",
   "execution_count": 8,
   "id": "cf35f341",
   "metadata": {},
   "outputs": [
    {
     "name": "stderr",
     "output_type": "stream",
     "text": [
      "2023-11-07 15:39:53,581 - ERROR - Exception Type: ZeroDivisionError, Timestamp: 2023-11-07 15:39:53.581521\n"
     ]
    },
    {
     "name": "stdout",
     "output_type": "stream",
     "text": [
      "An error occurred: Exception Type: ZeroDivisionError, Timestamp: 2023-11-07 15:39:53.581521\n"
     ]
    }
   ],
   "source": [
    "import logging\n",
    "import datetime\n",
    "\n",
    "# Configure the logging\n",
    "logging.basicConfig(level=logging.ERROR, format='%(asctime)s - %(levelname)s - %(message)s')\n",
    "\n",
    "# Create a file handler for error.log\n",
    "file_handler = logging.FileHandler('errors.log')\n",
    "file_handler.setLevel(logging.ERROR)\n",
    "file_handler.setFormatter(logging.Formatter('%(asctime)s - %(levelname)s - %(message)s'))\n",
    "\n",
    "# Get the root logger and add the file handler\n",
    "root_logger = logging.getLogger()\n",
    "root_logger.addHandler(file_handler)\n",
    "\n",
    "try:\n",
    "    # Your code that may raise an exception\n",
    "    result = 10 / 0  # This will raise a ZeroDivisionError\n",
    "except Exception as e:\n",
    "    # Log the exception with timestamp to console and file\n",
    "    error_message = f\"Exception Type: {type(e).__name__}, Timestamp: {datetime.datetime.now()}\"\n",
    "    logging.error(error_message)\n",
    "    print(f\"An error occurred: {error_message}\")"
   ]
  }
 ],
 "metadata": {
  "kernelspec": {
   "display_name": "Python 3 (ipykernel)",
   "language": "python",
   "name": "python3"
  },
  "language_info": {
   "codemirror_mode": {
    "name": "ipython",
    "version": 3
   },
   "file_extension": ".py",
   "mimetype": "text/x-python",
   "name": "python",
   "nbconvert_exporter": "python",
   "pygments_lexer": "ipython3",
   "version": "3.10.9"
  }
 },
 "nbformat": 4,
 "nbformat_minor": 5
}
