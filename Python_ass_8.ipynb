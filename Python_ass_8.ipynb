{
 "cells": [
  {
   "cell_type": "markdown",
   "id": "35b21ffb",
   "metadata": {},
   "source": [
    "1.In Python, what is the difference between a built-in function and a user-defined function? Provide an example of each.\n",
    "\n",
    "Answer:"
   ]
  },
  {
   "cell_type": "markdown",
   "id": "76caf26d",
   "metadata": {},
   "source": [
    "In Python, a built-in function is a function that is provided by the Python programming language itself. These functions are readily available for use without the need for any additional code or import statements. They are implemented in the Python interpreter and cover a wide range of functionalities.\n",
    "\n",
    "On the other hand, a user-defined function is created by the user to perform a specific task or set of instructions. These functions are defined using the def keyword and can be customized according to the user's requirements.\n",
    "\n",
    "Here's an example of a built-in function in Python:"
   ]
  },
  {
   "cell_type": "code",
   "execution_count": 1,
   "id": "3076d365",
   "metadata": {},
   "outputs": [
    {
     "name": "stdout",
     "output_type": "stream",
     "text": [
      "13\n"
     ]
    }
   ],
   "source": [
    "# Example of a built-in function: len()\n",
    "string = \"Hello, World!\"\n",
    "length = len(string)\n",
    "print(length)"
   ]
  },
  {
   "cell_type": "code",
   "execution_count": 2,
   "id": "0864820f",
   "metadata": {},
   "outputs": [
    {
     "name": "stdout",
     "output_type": "stream",
     "text": [
      "7\n"
     ]
    }
   ],
   "source": [
    "# Example of a user-defined function: add_numbers()\n",
    "def add_numbers(a, b):\n",
    "    return a + b\n",
    "\n",
    "result = add_numbers(3, 4)\n",
    "print(result)"
   ]
  },
  {
   "cell_type": "markdown",
   "id": "857fa46c",
   "metadata": {},
   "source": [
    "To summarize, the main difference between a built-in function and a user-defined function in Python is that built-in functions are provided by Python itself and are readily available, while user-defined functions are created by users to perform specific tasks based on their requirements."
   ]
  },
  {
   "cell_type": "markdown",
   "id": "6a5f7dc4",
   "metadata": {},
   "source": [
    "--------------------------------------------------------------------------------------------------------------------------------"
   ]
  },
  {
   "cell_type": "markdown",
   "id": "5db97552",
   "metadata": {},
   "source": [
    "2.How can you pass arguments to a function in Python? Explain the difference between positional arguments and keyword arguments.\n",
    "\n",
    "Answer:\n",
    "\n",
    "In Python, we can pass arguments to a function by including them inside the parentheses when calling the function. There are two main ways to pass arguments: positional arguments and keyword arguments."
   ]
  },
  {
   "cell_type": "markdown",
   "id": "1ab0a1bb",
   "metadata": {},
   "source": [
    "Positional Arguments:\n",
    "\n",
    "Positional arguments are passed to a function based on their position or order. The function expects the arguments to be in a specific order, and they are assigned to the corresponding parameters in the same order."
   ]
  },
  {
   "cell_type": "code",
   "execution_count": 4,
   "id": "85199ae5",
   "metadata": {},
   "outputs": [
    {
     "name": "stdout",
     "output_type": "stream",
     "text": [
      "Hello Navya you are 22 years old\n"
     ]
    }
   ],
   "source": [
    "def greet(name, age):\n",
    "    print(\"Hello\", name, \"you are\", age, \"years old\")\n",
    "\n",
    "greet(\"Navya\", 22)"
   ]
  },
  {
   "cell_type": "markdown",
   "id": "593270b2",
   "metadata": {},
   "source": [
    "Keyword Arguments:\n",
    "\n",
    "Keyword arguments are passed with a keyword and a corresponding value, which allows you to specify which parameter the value should be assigned to, regardless of its position."
   ]
  },
  {
   "cell_type": "code",
   "execution_count": 5,
   "id": "f140755c",
   "metadata": {},
   "outputs": [
    {
     "name": "stdout",
     "output_type": "stream",
     "text": [
      "Hello Navya you are 22 years old\n"
     ]
    }
   ],
   "source": [
    "def greet(name, age):\n",
    "    print(\"Hello\", name, \"you are\", age, \"years old\")\n",
    "\n",
    "greet(age=22, name=\"Navya\")"
   ]
  },
  {
   "cell_type": "markdown",
   "id": "edc47df7",
   "metadata": {},
   "source": [
    "--------------------------------------------------------------------------------------------------------------------------------"
   ]
  },
  {
   "cell_type": "markdown",
   "id": "72334e7e",
   "metadata": {},
   "source": [
    "3.What is the purpose of the return statement in a function? Can a function have multiple return statements? Explain with an example.\n",
    "\n",
    "Answer:\n",
    "\n",
    "The return statement in a function is used to specify the value that the function should output or produce. It allows the function to send a result back to the caller. A function can have multiple return statements, but only one return statement is executed during the function's execution. Once a return statement is encountered, the function immediately exits, and the value specified after the return keyword is returned."
   ]
  },
  {
   "cell_type": "code",
   "execution_count": 6,
   "id": "700ea0bc",
   "metadata": {},
   "outputs": [
    {
     "name": "stdout",
     "output_type": "stream",
     "text": [
      "B\n"
     ]
    }
   ],
   "source": [
    "def get_grade(score):\n",
    "    if score >= 90:\n",
    "        return \"A\"\n",
    "    elif score >= 80:\n",
    "        return \"B\"\n",
    "    elif score >= 70:\n",
    "        return \"C\"\n",
    "    else:\n",
    "        return \"F\"\n",
    "\n",
    "grade = get_grade(85)\n",
    "print(grade)"
   ]
  },
  {
   "cell_type": "markdown",
   "id": "7b09c302",
   "metadata": {},
   "source": [
    "--------------------------------------------------------------------------------------------------------------------------------"
   ]
  },
  {
   "cell_type": "markdown",
   "id": "9ab6af8d",
   "metadata": {},
   "source": [
    "4.What are lambda functions in Python? How are they different from regular functions? Provide an example where a lambda function can be useful.\n",
    "\n",
    "Answer:\n",
    "\n",
    "lambda functions in Python are anonymous functions defined using the lambda keyword. They are compact, inline functions typically used for simple and concise operations. Lambda functions differ from regular functions in syntax, lack of a name, and their size and simplicity. They are useful when a small, one-time operation needs to be defined without the need for a named function."
   ]
  },
  {
   "cell_type": "code",
   "execution_count": 7,
   "id": "f2d6d176",
   "metadata": {},
   "outputs": [
    {
     "name": "stdout",
     "output_type": "stream",
     "text": [
      "25\n"
     ]
    }
   ],
   "source": [
    "square = lambda x: x ** 2\n",
    "\n",
    "result = square(5)\n",
    "print(result)"
   ]
  },
  {
   "cell_type": "markdown",
   "id": "831a0873",
   "metadata": {},
   "source": [
    "--------------------------------------------------------------------------------------------------------------------------------"
   ]
  },
  {
   "cell_type": "markdown",
   "id": "ffefbdf4",
   "metadata": {},
   "source": [
    "5.How does the concept of \"scope\" apply to functions in Python? Explain the difference between local scope and global scope.\n",
    "\n",
    "Answer:\n",
    "\n",
    "The concept of scope in Python refers to the visibility and accessibility of variables. In the context of functions:\n",
    "\n",
    "--> Local scope applies to variables defined within a function and restricts their visibility to that function only.\n",
    "\n",
    "--> Local variables are created when the function is called and destroyed when it finishes executing.\n",
    "\n",
    "--> Global scope applies to variables defined outside any function and allows access from any part of the program, including functions.\n",
    "\n",
    "--> Global variables can be referenced and modified from any function.\n",
    "\n",
    "--> Local variables take precedence over global variables with the same name within a function."
   ]
  },
  {
   "cell_type": "code",
   "execution_count": 8,
   "id": "45d4316e",
   "metadata": {},
   "outputs": [
    {
     "name": "stdout",
     "output_type": "stream",
     "text": [
      "10\n"
     ]
    }
   ],
   "source": [
    "def my_function():\n",
    "    x = 10  # Local variable\n",
    "    print(x)\n",
    "\n",
    "my_function()"
   ]
  },
  {
   "cell_type": "code",
   "execution_count": 9,
   "id": "576587b8",
   "metadata": {},
   "outputs": [
    {
     "name": "stdout",
     "output_type": "stream",
     "text": [
      "10\n"
     ]
    }
   ],
   "source": [
    "x = 10  # Global variable\n",
    "\n",
    "def my_function():\n",
    "    print(x)\n",
    "\n",
    "my_function()"
   ]
  },
  {
   "cell_type": "markdown",
   "id": "ec731bf1",
   "metadata": {},
   "source": [
    "--------------------------------------------------------------------------------------------------------------------------------"
   ]
  },
  {
   "cell_type": "markdown",
   "id": "92a5163b",
   "metadata": {},
   "source": [
    "6.How can you use the \"return\" statement in a Python function to return multiple values?\n",
    "\n",
    "Answer:\n",
    "\n",
    "we can use the 'return' statement in a Python function to return multiple values by returning them as a tuple, list, or any iterable object. The returned values can be accessed and used as a group or individually by assigning them to variables or indexing the returned object."
   ]
  },
  {
   "cell_type": "code",
   "execution_count": 10,
   "id": "abd9bab1",
   "metadata": {},
   "outputs": [
    {
     "name": "stdout",
     "output_type": "stream",
     "text": [
      "('Alice', 25)\n",
      "Alice\n",
      "25\n"
     ]
    }
   ],
   "source": [
    "def get_name_and_age():\n",
    "    name = \"Alice\"\n",
    "    age = 25\n",
    "    return name, age\n",
    "\n",
    "result = get_name_and_age()\n",
    "print(result)\n",
    "print(result[0])  # accessing individual values\n",
    "print(result[1])"
   ]
  },
  {
   "cell_type": "code",
   "execution_count": 11,
   "id": "0b86bb83",
   "metadata": {},
   "outputs": [
    {
     "name": "stdout",
     "output_type": "stream",
     "text": [
      "Alice\n",
      "25\n"
     ]
    }
   ],
   "source": [
    "def get_name_and_age():\n",
    "    name = \"Alice\"\n",
    "    age = 25\n",
    "    return name, age\n",
    "\n",
    "name, age = get_name_and_age()\n",
    "print(name)\n",
    "print(age)"
   ]
  },
  {
   "cell_type": "markdown",
   "id": "c4a73b9d",
   "metadata": {},
   "source": [
    "In this case, the returned values are directly assigned to the variables 'name' and 'age', using the same order as they were returned. This allows you to use the individual values more conveniently.\n",
    "\n",
    "By returning multiple values from a function, you can efficiently group related data and provide useful information as a result."
   ]
  },
  {
   "cell_type": "markdown",
   "id": "6df6edfa",
   "metadata": {},
   "source": [
    "--------------------------------------------------------------------------------------------------------------------------------"
   ]
  },
  {
   "cell_type": "markdown",
   "id": "631d4dae",
   "metadata": {},
   "source": [
    "7.What is the difference between the \"pass by value\" and \"pass by reference\" concepts when it comes to function arguments in Python?\n",
    "\n",
    "Answer:\n",
    "\n",
    "--> Pass by Value:\n",
    "\n",
    "In pass by value, a copy of the value of the variable is made and passed to the function. Any changes made to the function parameter do not affect the original variable outside the function. The function works with a local copy of the value, and modifications within the function are isolated.\n",
    "\n",
    "--> Pass by Reference:\n",
    "\n",
    "In pass by reference, a reference or memory address of the variable is passed to the function. The function parameter becomes an alias for the original variable, allowing modifications made within the function to affect the original variable outside the function. Changes made to the parameter propagate back to the calling code.\n",
    "\n",
    "In Python, the behavior is neither strictly \"pass by value\" nor \"pass by reference.\" Instead, it uses \"pass by object reference.\" When an argument is passed to a function in Python, a reference to the object is passed. If the object is mutable, modifications made within the function can affect the original object. If the object is immutable, modifications are not possible, but rebinding the parameter to a new object does not affect the original object."
   ]
  },
  {
   "cell_type": "markdown",
   "id": "4bcb46b8",
   "metadata": {},
   "source": [
    "--------------------------------------------------------------------------------------------------------------------------------"
   ]
  },
  {
   "cell_type": "markdown",
   "id": "4bfd0e20",
   "metadata": {},
   "source": [
    "8.Create a function that can intake integer or decimal value and do following operations:\n",
    "\n",
    "a. Logarithmic function (log x)\n",
    "\n",
    "b. Exponential function (exp(x))\n",
    "\n",
    "c. Power function with base 2 (2^x)\n",
    "\n",
    "d. Square root"
   ]
  },
  {
   "cell_type": "code",
   "execution_count": 16,
   "id": "a48868f5",
   "metadata": {},
   "outputs": [
    {
     "name": "stdout",
     "output_type": "stream",
     "text": [
      "{'logarithmic': 1.6094379124341003, 'exponential': 148.4131591025766, 'power_of_two': 32, 'square_root': 2.23606797749979}\n"
     ]
    }
   ],
   "source": [
    "import math\n",
    "\n",
    "def calculate_operations(x):\n",
    "    result = {\n",
    "        'logarithmic': math.log(x),\n",
    "        'exponential': math.exp(x),\n",
    "        'power_of_two': 2 ** x,\n",
    "        'square_root': math.sqrt(x)\n",
    "    }\n",
    "    return result\n",
    "\n",
    "operations_result = calculate_operations(5)\n",
    "print(operations_result)"
   ]
  },
  {
   "cell_type": "markdown",
   "id": "1247a94d",
   "metadata": {},
   "source": [
    "--------------------------------------------------------------------------------------------------------------------------------"
   ]
  },
  {
   "cell_type": "markdown",
   "id": "abf1dd91",
   "metadata": {},
   "source": [
    "9.Create a function that takes a full name as an argument and returns first name and last name."
   ]
  },
  {
   "cell_type": "code",
   "execution_count": 20,
   "id": "cbce9cff",
   "metadata": {},
   "outputs": [
    {
     "name": "stdout",
     "output_type": "stream",
     "text": [
      "First Name: Navya\n",
      "Last Name: Somu\n"
     ]
    }
   ],
   "source": [
    "def split_full_name(full_name):\n",
    "    names = full_name.split()\n",
    "    first_name = names[0]\n",
    "    last_name = names[-1]\n",
    "    return first_name, last_name\n",
    "\n",
    "# Example usage\n",
    "name = \"Navya Somu\"\n",
    "print(\"First Name:\", first)\n",
    "print(\"Last Name:\", last)"
   ]
  }
 ],
 "metadata": {
  "kernelspec": {
   "display_name": "Python 3 (ipykernel)",
   "language": "python",
   "name": "python3"
  },
  "language_info": {
   "codemirror_mode": {
    "name": "ipython",
    "version": 3
   },
   "file_extension": ".py",
   "mimetype": "text/x-python",
   "name": "python",
   "nbconvert_exporter": "python",
   "pygments_lexer": "ipython3",
   "version": "3.9.7"
  }
 },
 "nbformat": 4,
 "nbformat_minor": 5
}
