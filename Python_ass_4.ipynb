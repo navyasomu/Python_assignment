{
 "cells": [
  {
   "cell_type": "markdown",
   "id": "a9cd4349",
   "metadata": {},
   "source": [
    "1.What exactly is []?\n",
    "\n",
    "Answer:\n",
    "\n",
    "[] is an empty list, representing a list with no elements or empty list"
   ]
  },
  {
   "cell_type": "markdown",
   "id": "be4c17f7",
   "metadata": {},
   "source": [
    "--------------------------------------------------------------------------------------------------------------------------------"
   ]
  },
  {
   "cell_type": "markdown",
   "id": "f6bfbc66",
   "metadata": {},
   "source": [
    "2.In a list of values stored in a variable called spam, how would you assign the value 'hello' as the third value? (Assume [2,4,6,8,10] are in spam.)"
   ]
  },
  {
   "cell_type": "code",
   "execution_count": 1,
   "id": "38c53688",
   "metadata": {},
   "outputs": [
    {
     "data": {
      "text/plain": [
       "[2, 4, 'hello', 8, 10]"
      ]
     },
     "execution_count": 1,
     "metadata": {},
     "output_type": "execute_result"
    }
   ],
   "source": [
    "# we have to assign 'hello' to third value in the list by using index number we can assign 'hello' to third element\n",
    "\n",
    "spam = [2,4,6,8,10]   # index starts from zero\n",
    "spam[2] = 'hello'\n",
    "spam"
   ]
  },
  {
   "cell_type": "raw",
   "id": "f115094e",
   "metadata": {},
   "source": [
    "Let's pretend the spam includes the list ['a','b','c','d'] for the next three queries."
   ]
  },
  {
   "cell_type": "markdown",
   "id": "1d5cba63",
   "metadata": {},
   "source": [
    "-----------------------------------------------------------------------------"
   ]
  },
  {
   "cell_type": "markdown",
   "id": "f926f0f9",
   "metadata": {},
   "source": [
    "3.What is the value of spam[int(int('3' * 2) / 11)]?\n",
    "\n",
    "Answer:\n",
    "\n",
    "The expression spam[int(int('3' * 2) / 11)] can be evaluated as follows:\n",
    "\n",
    "--> '3' * 2 results in the string '33'.\n",
    "\n",
    "--> int('33') converts the string '33' to the integer 33.\n",
    "\n",
    "--> 33 / 11 performs integer division and yields the result 3.\n",
    "\n",
    "--> spam[3] corresponds to the fourth element in the list, which is 'd'.\n",
    "Therefore, the value of spam[int(int('3' * 2) / 11)] is 'd'."
   ]
  },
  {
   "cell_type": "code",
   "execution_count": 3,
   "id": "53e7cedc",
   "metadata": {},
   "outputs": [
    {
     "data": {
      "text/plain": [
       "'d'"
      ]
     },
     "execution_count": 3,
     "metadata": {},
     "output_type": "execute_result"
    }
   ],
   "source": [
    "spam = ['a','b','c','d']\n",
    "spam[int(int('3'*2)/11)]"
   ]
  },
  {
   "cell_type": "markdown",
   "id": "71acc087",
   "metadata": {},
   "source": [
    "-----------------------------------------------------------------------------"
   ]
  },
  {
   "cell_type": "markdown",
   "id": "615bcf34",
   "metadata": {},
   "source": [
    "4.What is the value of spam[-1]?\n",
    "\n",
    "Answer:\n",
    "\n",
    "The index -1 in Python represents the last element in a list. So, spam[-1] refers to the last element in the list, which is 'd'."
   ]
  },
  {
   "cell_type": "code",
   "execution_count": 4,
   "id": "37ed7970",
   "metadata": {},
   "outputs": [
    {
     "data": {
      "text/plain": [
       "'d'"
      ]
     },
     "execution_count": 4,
     "metadata": {},
     "output_type": "execute_result"
    }
   ],
   "source": [
    "spam[-1]"
   ]
  },
  {
   "cell_type": "markdown",
   "id": "c13606ef",
   "metadata": {},
   "source": [
    "-----------------------------------------------------------------------------"
   ]
  },
  {
   "cell_type": "markdown",
   "id": "e8768da2",
   "metadata": {},
   "source": [
    "5.What is the value of spam[:2]?\n",
    "\n",
    "Answer: \n",
    "\n",
    "The slicing operation spam[:2] extracts the elements from the beginning up to, but not including, the index 2. It returns a new list containing the elements ['a', 'b']."
   ]
  },
  {
   "cell_type": "code",
   "execution_count": 5,
   "id": "c0999352",
   "metadata": {},
   "outputs": [
    {
     "data": {
      "text/plain": [
       "['a', 'b']"
      ]
     },
     "execution_count": 5,
     "metadata": {},
     "output_type": "execute_result"
    }
   ],
   "source": [
    "spam[:2]"
   ]
  },
  {
   "cell_type": "markdown",
   "id": "d3279579",
   "metadata": {},
   "source": [
    "--------------------------------------------------------------------------------------------------------------------------------"
   ]
  },
  {
   "cell_type": "markdown",
   "id": "364f448c",
   "metadata": {},
   "source": [
    "Let's pretend bacon has the list [3.14,'cat',11,'cat',True] for the next three questions."
   ]
  },
  {
   "cell_type": "markdown",
   "id": "ba04e654",
   "metadata": {},
   "source": [
    "-----------------------------------------------------------------------------"
   ]
  },
  {
   "cell_type": "markdown",
   "id": "26f37f9b",
   "metadata": {},
   "source": [
    "6.What is the value of bacon.index('cat')?\n",
    "\n",
    "Answer:\n",
    "\n",
    "The index() method returns the index of the first occurrence of a specified value in a list. In this case, 'cat' appears at index 1. So, the value of bacon.index('cat') would be 1."
   ]
  },
  {
   "cell_type": "code",
   "execution_count": 6,
   "id": "315ddf2b",
   "metadata": {},
   "outputs": [
    {
     "name": "stdout",
     "output_type": "stream",
     "text": [
      "1\n"
     ]
    }
   ],
   "source": [
    "bacon = [3.14, 'cat', 11, 'cat', True]\n",
    "res = bacon.index('cat')\n",
    "print(res)"
   ]
  },
  {
   "cell_type": "markdown",
   "id": "3aba5597",
   "metadata": {},
   "source": [
    "-----------------------------------------------------------------------------"
   ]
  },
  {
   "cell_type": "markdown",
   "id": "91194046",
   "metadata": {},
   "source": [
    "7.How does bacon.append(99) change the look of the list value in bacon?\n",
    "\n",
    "Answer:\n",
    "\n",
    "The bacon.append(99) statement adds the value 99 as a new element at the end of the bacon list. It modifies the list in-place by appending the value to the existing list."
   ]
  },
  {
   "cell_type": "code",
   "execution_count": 7,
   "id": "7d6d96ae",
   "metadata": {},
   "outputs": [
    {
     "data": {
      "text/plain": [
       "[3.14, 'cat', 11, 'cat', True, 99]"
      ]
     },
     "execution_count": 7,
     "metadata": {},
     "output_type": "execute_result"
    }
   ],
   "source": [
    "bacon.append(99)\n",
    "bacon"
   ]
  },
  {
   "cell_type": "markdown",
   "id": "7b1917c4",
   "metadata": {},
   "source": [
    "-----------------------------------------------------------------------------"
   ]
  },
  {
   "cell_type": "markdown",
   "id": "28b38cff",
   "metadata": {},
   "source": [
    "8.How does bacon.remove('cat') change the look of the list in bacon?\n",
    "\n",
    "Answer:\n",
    "\n",
    "The bacon.remove('cat') statement removes the first occurrence of the value 'cat' from the bacon list. It modifies the list in-place by removing the specified value."
   ]
  },
  {
   "cell_type": "code",
   "execution_count": 8,
   "id": "3d71affc",
   "metadata": {},
   "outputs": [
    {
     "data": {
      "text/plain": [
       "[3.14, 11, 'cat', True, 99]"
      ]
     },
     "execution_count": 8,
     "metadata": {},
     "output_type": "execute_result"
    }
   ],
   "source": [
    "bacon.remove('cat')\n",
    "bacon"
   ]
  },
  {
   "cell_type": "markdown",
   "id": "83e5f7a3",
   "metadata": {},
   "source": [
    "--------------------------------------------------------------------------------------------------------------------------------"
   ]
  },
  {
   "cell_type": "markdown",
   "id": "48a12f7c",
   "metadata": {},
   "source": [
    "9.What are the list concatenation and list replication operators?\n",
    "\n",
    "Answer:\n",
    "\n",
    "The list concatenation operator in Python is the plus symbol (+). It is used to combine two or more lists into a single list. When the plus operator is applied between two lists, it creates a new list containing all the elements from both lists in the specified order.\n",
    "\n",
    "The list replication operator in Python is the asterisk symbol (*). It is used to replicate a list by a specified number of times. When the asterisk operator is applied to a list and a number, it creates a new list by repeating the original list elements the specified number of times."
   ]
  },
  {
   "cell_type": "code",
   "execution_count": 10,
   "id": "c522c66b",
   "metadata": {},
   "outputs": [
    {
     "name": "stdout",
     "output_type": "stream",
     "text": [
      "[1, 2, 3, 'a', 'b', 'c']\n",
      "[1, 2, 3, 1, 2, 3, 1, 2, 3]\n"
     ]
    }
   ],
   "source": [
    "# list concatenation\n",
    "\n",
    "list1 = [1, 2, 3]\n",
    "list2 = ['a','b','c']\n",
    "result = list1 + list2   # (+) combines two or more lists into a single list.\n",
    "print(result)\n",
    "\n",
    "# replication operators\n",
    "\n",
    "list1 = [1, 2, 3]\n",
    "result1 = list1 * 3    # (*) replicates a list by a specified number of times.\n",
    "print(result1)"
   ]
  },
  {
   "cell_type": "markdown",
   "id": "2656b4ad",
   "metadata": {},
   "source": [
    "--------------------------------------------------------------------------------------------------------------------------------"
   ]
  },
  {
   "cell_type": "markdown",
   "id": "06d08b15",
   "metadata": {},
   "source": [
    "10.What is difference between the list methods append() and insert()?\n",
    "\n",
    "Answer:\n",
    "\n",
    "The append() method is used to add an element to the end of a list. It takes a single argument, which is the value to be added, and appends it as the last element of the list.\n",
    "\n",
    "The insert() method is used to insert an element at a specific index in the list. It takes two arguments: the index at which the element should be inserted and the value of the element."
   ]
  },
  {
   "cell_type": "code",
   "execution_count": 11,
   "id": "c90490d4",
   "metadata": {},
   "outputs": [
    {
     "name": "stdout",
     "output_type": "stream",
     "text": [
      "[1, 2, 3, 4]\n",
      "[1, 4, 2, 3]\n"
     ]
    }
   ],
   "source": [
    "# append() method\n",
    "my_list = [1, 2, 3]\n",
    "my_list.append(4)      # this append add element in the last of the list\n",
    "print(my_list)\n",
    "\n",
    "# insert() method\n",
    "my_list = [1, 2, 3]\n",
    "my_list.insert(1, 4)   # by using insert we can put elements where we want\n",
    "print(my_list)"
   ]
  },
  {
   "cell_type": "markdown",
   "id": "addfcf42",
   "metadata": {},
   "source": [
    "--------------------------------------------------------------------------------------------------------------------------------"
   ]
  },
  {
   "cell_type": "markdown",
   "id": "eb294897",
   "metadata": {},
   "source": [
    "11.What are the two methods for removing items from a list?\n",
    "\n",
    "Answer:\n",
    "\n",
    "remove() and pop()"
   ]
  },
  {
   "cell_type": "code",
   "execution_count": 14,
   "id": "492f9358",
   "metadata": {},
   "outputs": [
    {
     "name": "stdout",
     "output_type": "stream",
     "text": [
      "[1, 3, 2, 4]\n",
      "[1, 2, 3, 4]\n",
      "2\n"
     ]
    }
   ],
   "source": [
    "# remove() method\n",
    "my_list = [1, 2, 3, 2, 4]\n",
    "my_list.remove(2)              # remove the first occurrence of a specified value from a list.\n",
    "print(my_list)\n",
    "\n",
    "# pop() method\n",
    "my_list = [1, 2, 3, 2, 4]\n",
    "removed_item = my_list.pop(3)  # by using pop() method we can remove specific element in the list by using index.\n",
    "print(my_list)\n",
    "print(removed_item)"
   ]
  },
  {
   "cell_type": "markdown",
   "id": "fb6b8231",
   "metadata": {},
   "source": [
    "--------------------------------------------------------------------------------------------------------------------------------"
   ]
  },
  {
   "cell_type": "markdown",
   "id": "32a1bd66",
   "metadata": {},
   "source": [
    "12.Describe how list values and string values are identical.\n",
    "\n",
    "Answer:\n",
    "\n",
    "List values and string values in Python have several similarities. Both are sequences of elements and support indexing, slicing, iteration, and have a length. They can be accessed using index positions and can be sliced to extract sub-sequences. Additionally, both lists and strings can be iterated over using loops or comprehension constructs. However, a key difference is that lists are mutable, meaning their elements can be modified, added, or removed, while strings are immutable and cannot be changed once created. Overall, while they share many characteristics, their mutability is a fundamental distinction between list values and string values in Python."
   ]
  },
  {
   "cell_type": "markdown",
   "id": "6aab936b",
   "metadata": {},
   "source": [
    "--------------------------------------------------------------------------------------------------------------------------------"
   ]
  },
  {
   "cell_type": "markdown",
   "id": "cd16e411",
   "metadata": {},
   "source": [
    "13.What's the difference between tuples and lists?\n",
    "\n",
    "Answer:\n",
    "\n",
    "Tuples and lists are both used to store collections of items in Python, but they have some key differences. Tuples are immutable and defined using parentheses, while lists are mutable and defined using square brackets. Tuples are generally more memory-efficient and faster to access compared to lists. Tuples are commonly used for fixed collections of related values, while lists are more versatile for storing and manipulating dynamic collections. Lists have more built-in methods for manipulation, while tuples have fewer methods due to their immutability."
   ]
  },
  {
   "cell_type": "markdown",
   "id": "4499f937",
   "metadata": {},
   "source": [
    "--------------------------------------------------------------------------------------------------------------------------------"
   ]
  },
  {
   "cell_type": "markdown",
   "id": "d46c4587",
   "metadata": {},
   "source": [
    "14.How do you type a tuple value that only contains the integer 42?\n",
    "\n",
    "Answer:\n",
    "\n",
    "To create a tuple value that only contains the integer 42, you can use parentheses and a comma after the value.The comma is used to differentiate between a tuple and a single value in Python. In the context of creating a tuple, the comma is necessary even when the tuple contains only one element. This is because the parentheses alone are not sufficient to define a tuple with a single value."
   ]
  },
  {
   "cell_type": "code",
   "execution_count": 1,
   "id": "14e35789",
   "metadata": {},
   "outputs": [
    {
     "name": "stdout",
     "output_type": "stream",
     "text": [
      "<class 'tuple'>\n"
     ]
    }
   ],
   "source": [
    "my_tuple = (42,)\n",
    "print(type(my_tuple))"
   ]
  },
  {
   "cell_type": "markdown",
   "id": "67218eea",
   "metadata": {},
   "source": [
    "--------------------------------------------------------------------------------------------------------------------------------"
   ]
  },
  {
   "cell_type": "markdown",
   "id": "3d44e936",
   "metadata": {},
   "source": [
    "15.How do you get a list value's tuple form? How do you get a tuple value's list form?\n",
    "\n",
    "Answer:\n",
    "--> To convert a list value to its tuple form, we can use the tuple() function.\n",
    "\n",
    "--> To convert a tuple value to its list form, we can use the list() function."
   ]
  },
  {
   "cell_type": "code",
   "execution_count": 6,
   "id": "0e2681ad",
   "metadata": {},
   "outputs": [
    {
     "name": "stdout",
     "output_type": "stream",
     "text": [
      "(1, 2, 'nav', 'sra', 44)\n",
      "<class 'tuple'>\n"
     ]
    }
   ],
   "source": [
    "list1 = [1,2,'nav','sra',44]\n",
    "tuple1 = tuple(list1)\n",
    "print(tuple1)\n",
    "print(type(tuple1))"
   ]
  },
  {
   "cell_type": "code",
   "execution_count": 7,
   "id": "6e120bd6",
   "metadata": {},
   "outputs": [
    {
     "name": "stdout",
     "output_type": "stream",
     "text": [
      "[1, 3, 5, 9, 3, 2]\n",
      "<class 'list'>\n"
     ]
    }
   ],
   "source": [
    "tuple2 = (1,3,5,9,3,2)\n",
    "list2 = list(tuple2)\n",
    "print(list2)\n",
    "print(type(list2))"
   ]
  },
  {
   "cell_type": "markdown",
   "id": "aa19fd23",
   "metadata": {},
   "source": [
    "--------------------------------------------------------------------------------------------------------------------------------"
   ]
  },
  {
   "cell_type": "markdown",
   "id": "8ed72f57",
   "metadata": {},
   "source": [
    "16.Variables that 'contain' list values are not necessarily lists themselves. Instead, what do they contain?\n",
    "\n",
    "Answer:\n",
    "\n",
    "Variables that 'contain' list values in Python actually contain references to the list objects. They do not directly store the list itself, but rather point to the memory location where the list is stored. Multiple variables can refer to the same list object, allowing for multiple references to the list."
   ]
  },
  {
   "cell_type": "code",
   "execution_count": 8,
   "id": "60476fcb",
   "metadata": {},
   "outputs": [
    {
     "name": "stdout",
     "output_type": "stream",
     "text": [
      "[1, 2, 3, 4]\n"
     ]
    }
   ],
   "source": [
    "my_list = [1, 2, 3]\n",
    "another_list = my_list\n",
    "\n",
    "# Modifying the list through one variable affects the other variable as well\n",
    "my_list.append(4)\n",
    "print(another_list) "
   ]
  },
  {
   "cell_type": "markdown",
   "id": "8e20a87e",
   "metadata": {},
   "source": [
    "--------------------------------------------------------------------------------------------------------------------------------"
   ]
  },
  {
   "cell_type": "markdown",
   "id": "27be9dac",
   "metadata": {},
   "source": [
    "17.How do you distinguish between copy.copy() and copy.deepcopy()?\n",
    "\n",
    "Answer:\n",
    "\n",
    "copy.copy() creates a shallow copy of an object, which means it creates a new object with references to the same nested objects as the original. copy.deepcopy() creates a deep copy of an object, which means it creates a new object and recursively copies all nested objects, creating separate copies for them. Deep copy ensures independence between the original and copied objects, while shallow copy shares references to nested objects."
   ]
  },
  {
   "cell_type": "code",
   "execution_count": 9,
   "id": "e0495364",
   "metadata": {},
   "outputs": [
    {
     "name": "stdout",
     "output_type": "stream",
     "text": [
      "[1, [2, 3, 5], 4]\n",
      "[1, [2, 3, 5], 4]\n"
     ]
    }
   ],
   "source": [
    "import copy\n",
    "\n",
    "original_list = [1, [2, 3], 4]\n",
    "shallow_copy = copy.copy(original_list)\n",
    "deep_copy = copy.deepcopy(original_list)\n",
    "\n",
    "# Modifying the nested object in shallow copy affects the original object\n",
    "shallow_copy[1].append(5)\n",
    "print(original_list)  # Output: [1, [2, 3, 5], 4]\n",
    "\n",
    "# Modifying the nested object in deep copy does not affect the original object\n",
    "deep_copy[1].append(6)\n",
    "print(original_list)  # Output: [1, [2, 3, 5], 4]"
   ]
  }
 ],
 "metadata": {
  "kernelspec": {
   "display_name": "Python 3 (ipykernel)",
   "language": "python",
   "name": "python3"
  },
  "language_info": {
   "codemirror_mode": {
    "name": "ipython",
    "version": 3
   },
   "file_extension": ".py",
   "mimetype": "text/x-python",
   "name": "python",
   "nbconvert_exporter": "python",
   "pygments_lexer": "ipython3",
   "version": "3.9.7"
  }
 },
 "nbformat": 4,
 "nbformat_minor": 5
}
