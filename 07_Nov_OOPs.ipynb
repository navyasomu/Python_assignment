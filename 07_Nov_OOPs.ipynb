{
 "cells": [
  {
   "cell_type": "markdown",
   "id": "e5d9b243",
   "metadata": {},
   "source": [
    "1.What is the primary goal of Object-Oriented Programming (OOP)?"
   ]
  },
  {
   "cell_type": "markdown",
   "id": "ec88b47f",
   "metadata": {},
   "source": [
    "Answer:\n",
    "\n",
    "The primary goal of Object-Oriented Programming (OOP) is to structure software to mimic real-world entities and their interactions effectively. OOP achieves this through key principles:\n",
    "\n",
    "-->Encapsulation: Bundling data and methods into objects for data integrity and reduced complexity.\n",
    "\n",
    "-->Abstraction: Simplifying complex systems by creating abstract templates (classes) for objects.\n",
    "\n",
    "-->Inheritance: Promoting code reuse by allowing classes to inherit properties and behaviors from others.\n",
    "\n",
    "-->Polymorphism: Allowing objects of different classes to be treated as objects of a common base class, enhancing code flexibility.\n",
    "\n",
    "OOP facilitates modular, maintainable, and extensible code, ultimately improving software development, scalability, and adaptability."
   ]
  },
  {
   "cell_type": "markdown",
   "id": "74a4879d",
   "metadata": {},
   "source": [
    "----------------------------------------------------------------------------------------------------------------"
   ]
  },
  {
   "cell_type": "markdown",
   "id": "ee2c40cc",
   "metadata": {},
   "source": [
    "2.What is an object in Python?"
   ]
  },
  {
   "cell_type": "markdown",
   "id": "09292e71",
   "metadata": {},
   "source": [
    "Answer:\n",
    "\n",
    "In Python, an object is a self-contained unit that represents a real-world entity or concept, and it combines data (attributes) with the methods (functions) that operate on that data. Objects are instances of classes and can be used to model and interact with various elements in a program, making Python an object-oriented programming language.\n",
    "\n",
    "Example: If you have a class \"Car,\" you can create multiple \"Car\" objects, each with its own unique data (e.g., brand, model, color) and behavior (e.g., start, stop, accelerate).\n",
    "\n",
    "Creating and using objects is a fundamental concept in Python's Object-Oriented Programming paradigm, allowing you to model real-world entities and structure your code in a more organized and modular way."
   ]
  },
  {
   "cell_type": "markdown",
   "id": "6eb088e6",
   "metadata": {},
   "source": [
    "----------------------------------------------------------------------------------------------------------------"
   ]
  },
  {
   "cell_type": "markdown",
   "id": "09af542c",
   "metadata": {},
   "source": [
    "3.What is a class in Python?"
   ]
  },
  {
   "cell_type": "markdown",
   "id": "29c8f1eb",
   "metadata": {},
   "source": [
    "Answer:\n",
    "\n",
    "In Python, a class is a blueprint for creating objects. It defines the structure (attributes) and behavior (methods) that objects of that class will have. Classes are a fundamental concept in Object-Oriented Programming (OOP) and enable code organization and reusability."
   ]
  },
  {
   "cell_type": "markdown",
   "id": "e60bb107",
   "metadata": {},
   "source": [
    "----------------------------------------------------------------------------------------------------------------"
   ]
  },
  {
   "cell_type": "markdown",
   "id": "d73c989a",
   "metadata": {},
   "source": [
    "4.What are attributes and methods in a class?"
   ]
  },
  {
   "cell_type": "markdown",
   "id": "595d37c3",
   "metadata": {},
   "source": [
    "Answer:\n",
    "\n",
    "Attributes:\n",
    "\n",
    "-->Attributes are variables that store data within an object created from a class.\n",
    "\n",
    "-->They define the object's properties or characteristics.\n",
    "\n",
    "-->Attributes are accessed using dot notation (e.g., object.attribute).\n",
    "\n",
    "Methods:\n",
    "\n",
    "-->Methods are functions defined within a class that perform actions on the object's data (attributes).\n",
    "\n",
    "-->They define the object's behavior and operations that can be applied to it.\n",
    "\n",
    "-->Methods can access and manipulate the object's attributes.\n",
    "\n",
    "-->Methods are called using dot notation (e.g., object.method())."
   ]
  },
  {
   "cell_type": "markdown",
   "id": "52070f01",
   "metadata": {},
   "source": [
    "----------------------------------------------------------------------------------------------------------------"
   ]
  },
  {
   "cell_type": "markdown",
   "id": "e7e6af65",
   "metadata": {},
   "source": [
    "5.What is the difference between class variables and instance variables in Python?"
   ]
  },
  {
   "cell_type": "markdown",
   "id": "db85a2d9",
   "metadata": {},
   "source": [
    "Answer:\n",
    "\n",
    "Class Variables:\n",
    "\n",
    "-->Class variables are shared by all instances (objects) of a class. They are associated with the class itself, not with individual instances.\n",
    "\n",
    "-->Class variables are defined within the class but outside of any instance methods.\n",
    "\n",
    "-->They are typically used for attributes that are common to all instances of the class, such as constants or configuration settings.\n",
    "\n",
    "-->Modifying a class variable affects all instances of the class.\n",
    "\n",
    "Instance Variables:\n",
    "\n",
    "-->Instance variables are specific to each instance (object) of a class. Each instance has its own copy of instance variables.\n",
    "\n",
    "-->Instance variables are defined within the class's methods, typically within the constructor method (__init__).\n",
    "\n",
    "-->They are used for attributes that can vary from one instance to another, representing the object's state or characteristics.\n",
    "\n",
    "-->Modifying an instance variable affects only the specific instance to which it belongs.\n"
   ]
  },
  {
   "cell_type": "markdown",
   "id": "16d77ed7",
   "metadata": {},
   "source": [
    "----------------------------------------------------------------------------------------------------------------"
   ]
  },
  {
   "cell_type": "markdown",
   "id": "c256f48f",
   "metadata": {},
   "source": [
    "6.What is the purpose of the self parameter in Python class methods?"
   ]
  },
  {
   "cell_type": "markdown",
   "id": "fcd6e59b",
   "metadata": {},
   "source": [
    "Answer:\n",
    "\n",
    "Referencing the Instance: It allows a method to access and operate on the attributes and methods of the instance (object) to which it belongs. In other words, self refers to the specific instance that is calling the method. This enables instance-specific behavior.\n",
    "\n",
    "Differentiating Instance and Local Variables: It distinguishes instance variables (attributes) from local variables with the same names. When you use self.variable_name within a method, you are working with an instance variable. Without self, you would create a new local variable.\n",
    "\n",
    "Object-Oriented Programming (OOP): It is a convention used in Python for object-oriented programming. It makes the code more readable and understandable by indicating that a method is meant to be used with instances of a class."
   ]
  },
  {
   "cell_type": "markdown",
   "id": "7b20aa4e",
   "metadata": {},
   "source": [
    "----------------------------------------------------------------------------------------------------------------"
   ]
  },
  {
   "cell_type": "markdown",
   "id": "00d6ce0c",
   "metadata": {},
   "source": [
    "7.For a library management system, you have to design the \"Book\" class with OOP\n",
    "principles in mind. The “Book” class will have following attributes:\n",
    "\n",
    "a. title: Represents the title of the book.\n",
    "\n",
    "b. author: Represents the author(s) of the book.\n",
    "\n",
    "c. isbn: Represents the ISBN (International Standard Book Number) of the book.\n",
    "\n",
    "d. publication_year: Represents the year of publication of the book.\n",
    "\n",
    "e. available_copies: Represents the number of copies available for checkout.\n",
    "\n",
    "The class will also include the following methods:\n",
    "\n",
    "a. check_out(self): Decrements the available copies by one if there are copies\n",
    "available for checkout.\n",
    "\n",
    "b. return_book(self): Increments the available copies by one when a book is\n",
    "returned.\n",
    "\n",
    "c. display_book_info(self): Displays the information about the book, including its\n",
    "attributes and the number of available copies."
   ]
  },
  {
   "cell_type": "markdown",
   "id": "b81bbbf8",
   "metadata": {},
   "source": [
    "Answer:"
   ]
  },
  {
   "cell_type": "code",
   "execution_count": 1,
   "id": "68bac2e3",
   "metadata": {},
   "outputs": [
    {
     "name": "stdout",
     "output_type": "stream",
     "text": [
      "Title: Python Programming\n",
      "Author(s): John Smith\n",
      "ISBN: 978-1234567890\n",
      "Publication Year: 2022\n",
      "Available Copies: 3\n",
      "Book checked out successfully.\n",
      "Book checked out successfully.\n",
      "Book returned successfully.\n",
      "Title: Python Programming\n",
      "Author(s): John Smith\n",
      "ISBN: 978-1234567890\n",
      "Publication Year: 2022\n",
      "Available Copies: 3\n"
     ]
    }
   ],
   "source": [
    "class Book:\n",
    "    def __init__(self, title, author, isbn, publication_year, available_copies):\n",
    "        self.title = title\n",
    "        self.author = author\n",
    "        self.isbn = isbn\n",
    "        self.publication_year = publication_year\n",
    "        self.available_copies = available_copies\n",
    "\n",
    "    def check_out(self):\n",
    "        if self.available_copies > 0:\n",
    "            self.available_copies -= 1\n",
    "            return \"Book checked out successfully.\"\n",
    "        else:\n",
    "            return \"No available copies for checkout.\"\n",
    "\n",
    "    def return_book(self):\n",
    "        self.available_copies += 1\n",
    "        return \"Book returned successfully.\"\n",
    "\n",
    "    def display_book_info(self):\n",
    "        info = f\"Title: {self.title}\\nAuthor(s): {self.author}\\nISBN: {self.isbn}\\nPublication Year: {self.publication_year}\\nAvailable Copies: {self.available_copies}\"\n",
    "        return info\n",
    "\n",
    "# Example usage:\n",
    "book1 = Book(\"Python Programming\", \"John Smith\", \"978-1234567890\", 2022, 3)\n",
    "book2 = Book(\"Data Science Handbook\", \"Alice Johnson\", \"978-9876543210\", 2021, 2)\n",
    "\n",
    "print(book1.display_book_info())  # Display book information\n",
    "print(book1.check_out())  # Check out a copy\n",
    "print(book2.check_out())  # Check out a copy\n",
    "print(book1.return_book())  # Return a copy\n",
    "print(book1.display_book_info())  # Display updated book information"
   ]
  },
  {
   "cell_type": "markdown",
   "id": "1b8f9e30",
   "metadata": {},
   "source": [
    "----------------------------------------------------------------------------------------------------------------"
   ]
  },
  {
   "cell_type": "markdown",
   "id": "cf3b6ae0",
   "metadata": {},
   "source": [
    "8.For a ticket booking system, you have to design the \"Ticket\" class with OOP\n",
    "principles in mind. The “Ticket” class should have the following attributes:\n",
    "\n",
    "a. ticket_id: Represents the unique identifier for the ticket.\n",
    "\n",
    "b. event_name: Represents the name of the event.\n",
    "\n",
    "c. event_date: Represents the date of the event.\n",
    "\n",
    "d. venue: Represents the venue of the event.\n",
    "\n",
    "e. seat_number: Represents the seat number associated with the ticket.\n",
    "\n",
    "f. price: Represents the price of the ticket.\n",
    "\n",
    "g. is_reserved: Represents the reservation status of the ticket.\n",
    "\n",
    "The class also includes the following methods:\n",
    "\n",
    "a. reserve_ticket(self): Marks the ticket as reserved if it is not already reserved.\n",
    "\n",
    "b. cancel_reservation(self): Cancels the reservation of the ticket if it is already\n",
    "reserved.\n",
    "\n",
    "c. display_ticket_info(self): Displays the information about the ticket, including its\n",
    "attributes and reservation status.\n",
    "\n",
    "Answer:"
   ]
  },
  {
   "cell_type": "code",
   "execution_count": 2,
   "id": "ee4f9320",
   "metadata": {},
   "outputs": [
    {
     "name": "stdout",
     "output_type": "stream",
     "text": [
      "Ticket ID: 1\n",
      "Event Name: Concert\n",
      "Event Date: 2023-11-15\n",
      "Venue: City Arena\n",
      "Seat Number: A101\n",
      "Price: $50.00\n",
      "Reservation Status: Not Reserved\n",
      "Ticket reserved successfully.\n",
      "Ticket reserved successfully.\n",
      "Reservation canceled successfully.\n",
      "Ticket ID: 1\n",
      "Event Name: Concert\n",
      "Event Date: 2023-11-15\n",
      "Venue: City Arena\n",
      "Seat Number: A101\n",
      "Price: $50.00\n",
      "Reservation Status: Not Reserved\n"
     ]
    }
   ],
   "source": [
    "class Ticket:\n",
    "    def __init__(self, ticket_id, event_name, event_date, venue, seat_number, price, is_reserved=False):\n",
    "        self.ticket_id = ticket_id\n",
    "        self.event_name = event_name\n",
    "        self.event_date = event_date\n",
    "        self.venue = venue\n",
    "        self.seat_number = seat_number\n",
    "        self.price = price\n",
    "        self.is_reserved = is_reserved\n",
    "\n",
    "    def reserve_ticket(self):\n",
    "        if not self.is_reserved:\n",
    "            self.is_reserved = True\n",
    "            return \"Ticket reserved successfully.\"\n",
    "        else:\n",
    "            return \"Ticket is already reserved.\"\n",
    "\n",
    "    def cancel_reservation(self):\n",
    "        if self.is_reserved:\n",
    "            self.is_reserved = False\n",
    "            return \"Reservation canceled successfully.\"\n",
    "        else:\n",
    "            return \"Ticket is not reserved.\"\n",
    "\n",
    "    def display_ticket_info(self):\n",
    "        info = f\"Ticket ID: {self.ticket_id}\\nEvent Name: {self.event_name}\\nEvent Date: {self.event_date}\\nVenue: {self.venue}\\nSeat Number: {self.seat_number}\\nPrice: ${self.price:.2f}\\nReservation Status: {'Reserved' if self.is_reserved else 'Not Reserved'}\"\n",
    "        return info\n",
    "\n",
    "# Example usage:\n",
    "ticket1 = Ticket(1, \"Concert\", \"2023-11-15\", \"City Arena\", \"A101\", 50.00)\n",
    "ticket2 = Ticket(2, \"Movie Premiere\", \"2023-11-20\", \"Cinema Plaza\", \"B203\", 15.50)\n",
    "\n",
    "print(ticket1.display_ticket_info())  # Display ticket information\n",
    "print(ticket1.reserve_ticket())  # Reserve the ticket\n",
    "print(ticket2.reserve_ticket())  # Reserve the ticket\n",
    "print(ticket1.cancel_reservation())  # Cancel reservation\n",
    "print(ticket1.display_ticket_info())  # Display updated ticket information"
   ]
  },
  {
   "cell_type": "markdown",
   "id": "1eb15e7c",
   "metadata": {},
   "source": [
    "----------------------------------------------------------------------------------------------------------------"
   ]
  },
  {
   "cell_type": "markdown",
   "id": "04e71b0c",
   "metadata": {},
   "source": [
    "9.You are creating a shopping cart for an e-commerce website. Using OOP to model\n",
    "the \"ShoppingCart\" functionality the class should contain following attributes and\n",
    "methods:\n",
    "\n",
    "a. items: Represents the list of items in the shopping cart.\n",
    "The class also includes the following methods:\n",
    "\n",
    "a. add_item(self, item): Adds an item to the shopping cart by appending it to the\n",
    "list of items.\n",
    "\n",
    "b. remove_item(self, item): Removes an item from the shopping cart if it exists in\n",
    "the list.\n",
    "\n",
    "c. view_cart(self): Displays the items currently present in the shopping cart.\n",
    "\n",
    "d. clear_cart(self): Clears all items from the shopping cart by reassigning an\n",
    "empty list to the items attribute."
   ]
  },
  {
   "cell_type": "code",
   "execution_count": 3,
   "id": "0e422107",
   "metadata": {},
   "outputs": [
    {
     "name": "stdout",
     "output_type": "stream",
     "text": [
      "Product A added to the shopping cart.\n",
      "Product B added to the shopping cart.\n",
      "Shopping Cart Contents:\n",
      "- Product A\n",
      "- Product B\n",
      "\n",
      "Product A removed from the shopping cart.\n",
      "Shopping Cart Contents:\n",
      "- Product B\n",
      "\n",
      "Shopping cart is cleared.\n",
      "The shopping cart is empty.\n"
     ]
    }
   ],
   "source": [
    "class ShoppingCart:\n",
    "    def __init__(self):\n",
    "        self.items = []\n",
    "\n",
    "    def add_item(self, item):\n",
    "        self.items.append(item)\n",
    "        return f\"{item} added to the shopping cart.\"\n",
    "\n",
    "    def remove_item(self, item):\n",
    "        if item in self.items:\n",
    "            self.items.remove(item)\n",
    "            return f\"{item} removed from the shopping cart.\"\n",
    "        else:\n",
    "            return f\"{item} is not in the shopping cart.\"\n",
    "\n",
    "    def view_cart(self):\n",
    "        if not self.items:\n",
    "            return \"The shopping cart is empty.\"\n",
    "        else:\n",
    "            cart_content = \"Shopping Cart Contents:\\n\"\n",
    "            for item in self.items:\n",
    "                cart_content += f\"- {item}\\n\"\n",
    "            return cart_content\n",
    "\n",
    "    def clear_cart(self):\n",
    "        self.items = []\n",
    "        return \"Shopping cart is cleared.\"\n",
    "\n",
    "# Example usage:\n",
    "cart = ShoppingCart()\n",
    "\n",
    "print(cart.add_item(\"Product A\"))  # Add an item\n",
    "print(cart.add_item(\"Product B\"))  # Add another item\n",
    "print(cart.view_cart())  # View cart contents\n",
    "print(cart.remove_item(\"Product A\"))  # Remove an item\n",
    "print(cart.view_cart())  # View updated cart contents\n",
    "print(cart.clear_cart())  # Clear the cart\n",
    "print(cart.view_cart())  # View an empty cart"
   ]
  },
  {
   "cell_type": "markdown",
   "id": "f0e9985b",
   "metadata": {},
   "source": [
    "----------------------------------------------------------------------------------------------------------------"
   ]
  },
  {
   "cell_type": "markdown",
   "id": "cdfb9695",
   "metadata": {},
   "source": [
    "10.Imagine a school management system. You have to design the \"Student\" class using\n",
    "OOP concepts.The “Student” class has the following attributes:\n",
    "\n",
    "a. name: Represents the name of the student.\n",
    "\n",
    "b. age: Represents the age of the student.\n",
    "\n",
    "c. grade: Represents the grade or class of the student.\n",
    "\n",
    "d. student_id: Represents the unique identifier for the student.\n",
    "\n",
    "e. attendance: Represents the attendance record of the student.\n",
    "\n",
    "The class should also include the following methods:\n",
    "\n",
    "a. update_attendance(self, date, status): Updates the attendance record of the\n",
    "student for a given date with the provided status (e.g., present or absent).\n",
    "\n",
    "b. get_attendance(self): Returns the attendance record of the student.\n",
    "\n",
    "c. get_average_attendance(self): Calculates and returns the average\n",
    "attendance percentage of the student based on their attendance record.\n",
    "\n",
    "Answer:"
   ]
  },
  {
   "cell_type": "code",
   "execution_count": 4,
   "id": "282bbd9e",
   "metadata": {},
   "outputs": [
    {
     "name": "stdout",
     "output_type": "stream",
     "text": [
      "Attendance for 2023-11-01 updated: present\n",
      "Attendance for 2023-11-02 updated: absent\n",
      "{'2023-11-01': 'present', '2023-11-02': 'absent'}\n",
      "Average Attendance: 50.00%\n"
     ]
    }
   ],
   "source": [
    "class Student:\n",
    "    def __init__(self, name, age, grade, student_id):\n",
    "        self.name = name\n",
    "        self.age = age\n",
    "        self.grade = grade\n",
    "        self.student_id = student_id\n",
    "        self.attendance = {}  # Attendance record: {date: status}\n",
    "\n",
    "    def update_attendance(self, date, status):\n",
    "        self.attendance[date] = status\n",
    "        return f\"Attendance for {date} updated: {status}\"\n",
    "\n",
    "    def get_attendance(self):\n",
    "        return self.attendance\n",
    "\n",
    "    def get_average_attendance(self):\n",
    "        total_days = len(self.attendance)\n",
    "        if total_days == 0:\n",
    "            return \"No attendance records available.\"\n",
    "        present_days = sum(1 for status in self.attendance.values() if status == \"present\")\n",
    "        average_percentage = (present_days / total_days) * 100\n",
    "        return f\"Average Attendance: {average_percentage:.2f}%\"\n",
    "\n",
    "# Example usage:\n",
    "student1 = Student(\"Alice\", 16, \"10th Grade\", \"S12345\")\n",
    "student2 = Student(\"Bob\", 15, \"9th Grade\", \"S12346\")\n",
    "\n",
    "print(student1.update_attendance(\"2023-11-01\", \"present\"))  # Update attendance\n",
    "print(student1.update_attendance(\"2023-11-02\", \"absent\"))  # Update attendance\n",
    "print(student1.get_attendance())  # Get attendance record\n",
    "print(student1.get_average_attendance())  # Calculate and get average attendance"
   ]
  }
 ],
 "metadata": {
  "kernelspec": {
   "display_name": "Python 3 (ipykernel)",
   "language": "python",
   "name": "python3"
  },
  "language_info": {
   "codemirror_mode": {
    "name": "ipython",
    "version": 3
   },
   "file_extension": ".py",
   "mimetype": "text/x-python",
   "name": "python",
   "nbconvert_exporter": "python",
   "pygments_lexer": "ipython3",
   "version": "3.10.9"
  }
 },
 "nbformat": 4,
 "nbformat_minor": 5
}
