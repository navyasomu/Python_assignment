{
 "cells": [
  {
   "cell_type": "markdown",
   "id": "265563be",
   "metadata": {},
   "source": [
    "Q.1. What are keywords in python? Using the keyword library, print all the python keywords.\n",
    "\n",
    "Answer:\n",
    "\n",
    "keywords are reserved words that have special meanings and functionality. These keywords cannot be used as variable names or any other identifiers because they are already predefined and serve specific purposes.\n",
    "\n",
    "To print all the Python keywords, you can use the keyword module, which provides an easy way to access the list of keywords. Here's an example code that prints all the Python keywords:"
   ]
  },
  {
   "cell_type": "code",
   "execution_count": 1,
   "id": "bac0add7",
   "metadata": {},
   "outputs": [
    {
     "name": "stdout",
     "output_type": "stream",
     "text": [
      "False, None, True, __peg_parser__, and, as, assert, async, await, break, class, continue, def, del, elif, else, except, finally, for, from, global, if, import, in, is, lambda, nonlocal, not, or, pass, raise, return, try, while, with, yield, "
     ]
    }
   ],
   "source": [
    "import keyword\n",
    "\n",
    "all_keywords = keyword.kwlist\n",
    "\n",
    "for keyword in all_keywords:\n",
    "    print(keyword,end = ', ')"
   ]
  },
  {
   "cell_type": "markdown",
   "id": "4d73b528",
   "metadata": {},
   "source": [
    "--------------------------------------------------------------------------------------------------------------------------------"
   ]
  },
  {
   "cell_type": "markdown",
   "id": "cf085657",
   "metadata": {},
   "source": [
    "Q.2. What are the rules to create variables in python?\n",
    "\n",
    "Answer:\n",
    "\n",
    "--> Variable names must start with a letter or underscore.\n",
    "\n",
    "--> After the first character, variable names can contain letters, digits, and underscores.\n",
    "\n",
    "--> Variable names are case-sensitive.\n",
    "\n",
    "--> Reserved keywords cannot be used as variable names.\n",
    "\n",
    "--> Avoid using names of built-in functions, classes, or modules.\n",
    "\n",
    "-->Choose meaningful and descriptive names.\n",
    "\n",
    "-->Use lowercase letters for variable names.\n",
    "\n",
    "-->For multiple-word variable names, use underscores (preferred) or camel case.\n",
    "\n",
    "Following these rules will help you create valid and well-formed variables in Python."
   ]
  },
  {
   "cell_type": "markdown",
   "id": "8d578cc9",
   "metadata": {},
   "source": [
    "--------------------------------------------------------------------------------------------------------------------------------"
   ]
  },
  {
   "cell_type": "markdown",
   "id": "a925fbae",
   "metadata": {},
   "source": [
    "Q.3. What are the standards and conventions followed for the nomenclature of variables in python to improve code readability and maintainability?\n",
    "\n",
    "Answer:\n",
    "\n",
    "--> Use descriptive names: Choose names that clearly convey the purpose or content of the variable.\n",
    "\n",
    "--> Use lowercase with underscores: Separate multiple words in variable names with underscores.\n",
    "\n",
    "--> Avoid single-letter names: Except for simple loop counters, prefer more descriptive names.\n",
    "\n",
    "--> Be consistent: Maintain a consistent naming style throughout your codebase.\n",
    "\n",
    "--> Avoid reserved keywords: Do not use Python's reserved keywords as variable names.\n",
    "\n",
    "--> Use meaningful abbreviations: If using abbreviations, ensure they are widely understood and add clarity.\n",
    "\n",
    "--> Constants: Use uppercase letters with underscores for constant variable names.\n",
    "\n",
    "--> Class names: Use CamelCase (PascalCase) for class names.\n",
    "\n",
    "--> Module-level variables: Prefix variables intended for module-level use only with a single underscore."
   ]
  },
  {
   "cell_type": "markdown",
   "id": "bf945d8f",
   "metadata": {},
   "source": [
    "--------------------------------------------------------------------------------------------------------------------------------"
   ]
  },
  {
   "cell_type": "markdown",
   "id": "bf8aca2d",
   "metadata": {},
   "source": [
    "Q.4. What will happen if a keyword is used as a variable name?\n",
    "\n",
    "Answer:\n",
    "\n",
    "If we use a keyword as a variable name in Python, it will result in a syntax error. Keywords are reserved words in the language and have predefined meanings and functionalities. Python treats them as special tokens and they cannot be used as variable names."
   ]
  },
  {
   "cell_type": "code",
   "execution_count": 2,
   "id": "44c407d3",
   "metadata": {},
   "outputs": [
    {
     "ename": "SyntaxError",
     "evalue": "invalid syntax (Temp/ipykernel_21436/2927663113.py, line 1)",
     "output_type": "error",
     "traceback": [
      "\u001b[1;36m  File \u001b[1;32m\"C:\\Users\\navya sravani\\AppData\\Local\\Temp/ipykernel_21436/2927663113.py\"\u001b[1;36m, line \u001b[1;32m1\u001b[0m\n\u001b[1;33m    class = [1,2,3,'a']\u001b[0m\n\u001b[1;37m          ^\u001b[0m\n\u001b[1;31mSyntaxError\u001b[0m\u001b[1;31m:\u001b[0m invalid syntax\n"
     ]
    }
   ],
   "source": [
    "class = [1,2,3,'a']"
   ]
  },
  {
   "cell_type": "markdown",
   "id": "8c579e79",
   "metadata": {},
   "source": [
    "--------------------------------------------------------------------------------------------------------------------------------"
   ]
  },
  {
   "cell_type": "markdown",
   "id": "f7d5a4b7",
   "metadata": {},
   "source": [
    "Q.5. For what purpose def keyword is used?\n",
    "\n",
    "Answer:\n",
    "\n",
    "The 'def' keyword in Python is used to define a function. It is a reserved keyword specifically used to declare and create user-defined functions.\n",
    "\n",
    "When we use the def keyword, you are indicating that you are defining a new function with a given name, a set of parameters (if any), and a block of code that will be executed when the function is called."
   ]
  },
  {
   "cell_type": "code",
   "execution_count": 3,
   "id": "9f422445",
   "metadata": {},
   "outputs": [
    {
     "name": "stdout",
     "output_type": "stream",
     "text": [
      "Hello, Alice!\n"
     ]
    }
   ],
   "source": [
    "def greet(name):\n",
    "    print(\"Hello, \" + name + \"!\")\n",
    "\n",
    "# Calling the function\n",
    "greet(\"Alice\")"
   ]
  },
  {
   "cell_type": "markdown",
   "id": "8586db0f",
   "metadata": {},
   "source": [
    "In this example, the def keyword is used to define a function called greet that takes one parameter, name. The block of code under the function definition is indented and will be executed when the function is called.\n",
    "\n",
    "The purpose of the def keyword is to enable the creation of reusable and modular code by defining functions that encapsulate specific logic or tasks. Functions allow you to organize your code, make it more readable, and avoid repetition.\n",
    "\n",
    "By using the def keyword, you can define your own functions and utilize them in your Python programs to perform specific operations or tasks as needed."
   ]
  },
  {
   "cell_type": "markdown",
   "id": "4d49ca16",
   "metadata": {},
   "source": [
    "--------------------------------------------------------------------------------------------------------------------------------"
   ]
  },
  {
   "cell_type": "markdown",
   "id": "5914b50f",
   "metadata": {},
   "source": [
    "Q.6. What is the operation of this special character ‘\\’?\n",
    "\n",
    "Answer:\n",
    "\n",
    "Escape sequences: Representing special characters like newline, tab, quotes, and backslash itself.\n",
    "\n",
    "Unicode escapes: Representing Unicode characters using hexadecimal notation.\n",
    "Line continuation: Allowing a logical line of code to continue onto the next physical line.\n",
    "\n",
    "By using the backslash in these ways, we can include special characters, Unicode characters, and continue long lines of code in a readable manner."
   ]
  },
  {
   "cell_type": "markdown",
   "id": "4cb7e168",
   "metadata": {},
   "source": [
    "--------------------------------------------------------------------------------------------------------------------------------"
   ]
  },
  {
   "cell_type": "markdown",
   "id": "37f5da93",
   "metadata": {},
   "source": [
    "Q.7. Give an example of the following conditions:\n",
    "(i) Homogeneous list\n",
    "(ii) Heterogeneous set\n",
    "(iii) Homogeneous tuple\n",
    "\n",
    "Answer:"
   ]
  },
  {
   "cell_type": "markdown",
   "id": "34b5c04c",
   "metadata": {},
   "source": [
    "(i) Homogeneous list\n",
    "\n",
    "A homogeneous list in Python contains elements of the same data type. Here's an example of a homogeneous list of integers:"
   ]
  },
  {
   "cell_type": "code",
   "execution_count": 4,
   "id": "48a76540",
   "metadata": {},
   "outputs": [],
   "source": [
    "int_list = [1, 2, 3, 4, 5]"
   ]
  },
  {
   "cell_type": "markdown",
   "id": "fe85e38e",
   "metadata": {},
   "source": [
    "(ii) Heterogeneous set\n",
    "\n",
    "A heterogeneous set in Python can contain elements of different data types. Here's an example of a heterogeneous set:"
   ]
  },
  {
   "cell_type": "code",
   "execution_count": 5,
   "id": "c3cda770",
   "metadata": {},
   "outputs": [],
   "source": [
    "hetero_set = {1, \"two\", 3.0, (4, 5)}"
   ]
  },
  {
   "cell_type": "markdown",
   "id": "f4459766",
   "metadata": {},
   "source": [
    "(iii) Homogeneous tuple:\n",
    "\n",
    "A homogeneous tuple in Python contains elements of the same data type. Here's an example of a homogeneous tuple of strings:"
   ]
  },
  {
   "cell_type": "code",
   "execution_count": 6,
   "id": "3e7631fa",
   "metadata": {},
   "outputs": [],
   "source": [
    "str_tuple = (\"apple\", \"banana\", \"cherry\", \"date\")"
   ]
  },
  {
   "cell_type": "markdown",
   "id": "b3b2b082",
   "metadata": {},
   "source": [
    "--------------------------------------------------------------------------------------------------------------------------------"
   ]
  },
  {
   "cell_type": "markdown",
   "id": "430add13",
   "metadata": {},
   "source": [
    "Q.8. Explain the mutable and immutable data types with proper explanation & examples.\n",
    "\n",
    "Answer:"
   ]
  },
  {
   "cell_type": "markdown",
   "id": "8068eb17",
   "metadata": {},
   "source": [
    "Immutable data types:\n",
    "\n",
    "-->Cannot be changed after they are assigned.\n",
    "\n",
    "-->Operations that seem to modify them create new objects.\n",
    "\n",
    "-----Examples: int, float, str, tuple, frozenset."
   ]
  },
  {
   "cell_type": "code",
   "execution_count": null,
   "id": "d64e5bab",
   "metadata": {},
   "outputs": [],
   "source": [
    "x = 10\n",
    "x += 5\n",
    "print(x)  # Output: 15\n",
    "\n",
    "name = \"Alice\"\n",
    "name += \" Smith\"\n",
    "print(name)  # Output: \"Alice Smith\"\n",
    "\n",
    "my_tuple = (1, 2, 3)\n",
    "# Trying to modify the tuple will result in a TypeError\n",
    "\n",
    "my_frozenset = frozenset([1, 2, 3])\n",
    "# Trying to modify the frozenset will result in a TypeError"
   ]
  },
  {
   "cell_type": "markdown",
   "id": "e6a16a65",
   "metadata": {},
   "source": [
    "Mutable data types:\n",
    "\n",
    "--> Can be modified or changed after they are assigned.\n",
    "\n",
    "--> Operations directly modify the original object.\n",
    "\n",
    "-----Examples: list, dict, set."
   ]
  },
  {
   "cell_type": "code",
   "execution_count": null,
   "id": "f70130ea",
   "metadata": {},
   "outputs": [],
   "source": [
    "my_list = [1, 2, 3]\n",
    "my_list.append(4)\n",
    "print(my_list)  # Output: [1, 2, 3, 4]\n",
    "\n",
    "my_dict = {\"name\": \"Alice\", \"age\": 25}\n",
    "my_dict[\"age\"] = 26\n",
    "print(my_dict)  # Output: {'name': 'Alice', 'age': 26}\n",
    "\n",
    "my_set = {1, 2, 3}\n",
    "my_set.add(4)\n",
    "print(my_set)  # Output: {1, 2, 3, 4}"
   ]
  },
  {
   "cell_type": "markdown",
   "id": "4bb9da3a",
   "metadata": {},
   "source": [
    "--------------------------------------------------------------------------------------------------------------------------------"
   ]
  },
  {
   "cell_type": "raw",
   "id": "f2e527d5",
   "metadata": {},
   "source": [
    "Q.9. Write a code to create the given structure using only for loop.\n",
    "\n",
    "    *\n",
    "   ***\n",
    "  *****\n",
    " *******\n",
    "*********\n",
    "\n",
    "Answer:"
   ]
  },
  {
   "cell_type": "code",
   "execution_count": 14,
   "id": "7e466348",
   "metadata": {},
   "outputs": [
    {
     "name": "stdout",
     "output_type": "stream",
     "text": [
      "    *\n",
      "   ***\n",
      "  *****\n",
      " *******\n",
      "*********\n"
     ]
    }
   ],
   "source": [
    "num_rows = 5\n",
    "\n",
    "for i in range(num_rows):\n",
    "    for j in range(num_rows - i - 1):\n",
    "        print(\" \", end=\"\")\n",
    "    for k in range(2*i + 1):\n",
    "        print(\"*\", end=\"\")\n",
    "    for j in range(num_rows - i - 1):\n",
    "        print(\" \", end=\"\")\n",
    "    print()"
   ]
  },
  {
   "cell_type": "markdown",
   "id": "82876252",
   "metadata": {},
   "source": [
    "--------------------------------------------------------------------------------------------------------------------------------"
   ]
  },
  {
   "cell_type": "raw",
   "id": "9c6d577c",
   "metadata": {},
   "source": [
    "Q.10. Write a code to create the given structure using while loop.\n",
    "\n",
    "|||||||||\n",
    " |||||||\n",
    "  |||||\n",
    "   |||\n",
    "    |"
   ]
  },
  {
   "cell_type": "code",
   "execution_count": 15,
   "id": "573f57f7",
   "metadata": {},
   "outputs": [
    {
     "name": "stdout",
     "output_type": "stream",
     "text": [
      "|||||||||\n",
      " |||||||\n",
      "  |||||\n",
      "   |||\n",
      "    |\n"
     ]
    }
   ],
   "source": [
    "num_rows = 5\n",
    "row = 1\n",
    "\n",
    "while row <= num_rows:\n",
    "    spaces = 0\n",
    "    while spaces < (row - 1):\n",
    "        print(\" \", end=\"\")\n",
    "        spaces += 1\n",
    "\n",
    "    asterisks = 0\n",
    "    while asterisks < ((num_rows - row) * 2 + 1):\n",
    "        print(\"|\", end=\"\")\n",
    "        asterisks += 1\n",
    "\n",
    "    print()\n",
    "    row += 1"
   ]
  }
 ],
 "metadata": {
  "kernelspec": {
   "display_name": "Python 3 (ipykernel)",
   "language": "python",
   "name": "python3"
  },
  "language_info": {
   "codemirror_mode": {
    "name": "ipython",
    "version": 3
   },
   "file_extension": ".py",
   "mimetype": "text/x-python",
   "name": "python",
   "nbconvert_exporter": "python",
   "pygments_lexer": "ipython3",
   "version": "3.9.7"
  }
 },
 "nbformat": 4,
 "nbformat_minor": 5
}
