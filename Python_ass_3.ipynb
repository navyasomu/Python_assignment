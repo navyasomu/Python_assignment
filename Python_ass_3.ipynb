{
 "cells": [
  {
   "cell_type": "markdown",
   "id": "70332c03",
   "metadata": {},
   "source": [
    "1.Why are functions advantageous to have in your programs?\n",
    "\n",
    "Answer:\n",
    "\n",
    "Functions are advantageous in programs because they offer reusability, modularity, and abstraction. They allow you to write code once and use it multiple times, break down complex programs into smaller manageable parts, and hide implementation details. Functions also improve code readability, organization, and maintainability, making it easier to test and debug your code."
   ]
  },
  {
   "cell_type": "markdown",
   "id": "aa58ec9c",
   "metadata": {},
   "source": [
    "--------------------------------------------------------------------------------------------------------------------------------"
   ]
  },
  {
   "cell_type": "markdown",
   "id": "2846d848",
   "metadata": {},
   "source": [
    "2.When does the code in a function run: when it's specified or when it's called?\n",
    "\n",
    "Answer:\n",
    "\n",
    "The code inside a function in Python runs when the function is called. When the program execution reaches the point where the function is called, the control transfers to the function's code block, and the statements inside the function are executed in the order they appear. Once the function finishes executing its code or reaches a return statement, the control returns to the point in the program where the function was called, and the program continues its execution from there."
   ]
  },
  {
   "cell_type": "code",
   "execution_count": 1,
   "id": "0796274a",
   "metadata": {},
   "outputs": [
    {
     "name": "stdout",
     "output_type": "stream",
     "text": [
      "Hi Sir i am happy with Data science assignment\n"
     ]
    }
   ],
   "source": [
    "#Example\n",
    "def res():\n",
    "    print('Hi Sir i am happy with Data science assignment')\n",
    "res()\n",
    "#the code inside a function runs when the function is explicitly called in the program."
   ]
  },
  {
   "cell_type": "markdown",
   "id": "8e91ef46",
   "metadata": {},
   "source": [
    "--------------------------------------------------------------------------------------------------------------------------------"
   ]
  },
  {
   "cell_type": "markdown",
   "id": "354ed388",
   "metadata": {},
   "source": [
    "3.What statement creates a function?\n",
    "\n",
    "Answer:\n",
    "\n",
    "The def statement is used to create a function in Python. The def keyword is followed by the function name, parentheses for optional parameters, and a colon. The code block below the def statement is indented and contains the instructions or statements that make up the function's body."
   ]
  },
  {
   "cell_type": "code",
   "execution_count": null,
   "id": "1b235607",
   "metadata": {},
   "outputs": [],
   "source": [
    "#example of a function creation using the def statement:\n",
    "def res():\n",
    "    print('Hi Sir i am happy with Data science assignment')\n",
    "    \n",
    "\"\"\"\"In this example, the def statement creates a function named res() that prints\n",
    "'Hi Sir i am happy with Data science assignmen' when called.\"\"\""
   ]
  },
  {
   "cell_type": "code",
   "execution_count": null,
   "id": "1af5d10a",
   "metadata": {},
   "outputs": [],
   "source": [
    "def greet(name):\n",
    "    print(\"Hello,\",name, \"!\")\n",
    "\n",
    "greet(\"Navya\")  # Output: Hello, Navya!\n",
    "\n",
    "\"\"\"In this case, the greet() function takes a parameter called name, and when\n",
    "called with the argument \"Navya\", it prints Hello, Navya!.\"\"\""
   ]
  },
  {
   "cell_type": "markdown",
   "id": "db23ec6e",
   "metadata": {},
   "source": [
    "--------------------------------------------------------------------------------------------------------------------------------"
   ]
  },
  {
   "cell_type": "markdown",
   "id": "6a4b53e0",
   "metadata": {},
   "source": [
    "4.What is the difference between a function and a function call?\n",
    "\n",
    "Answer:\n",
    "\n",
    "A function is a named block of code that performs a specific task, defined using the def keyword.\n",
    "A function call is the act of executing a function by using its name followed by parentheses and optional arguments.\n",
    "Functions encapsulate code and provide reusability, while function calls trigger the execution of that code.\n",
    "Functions can have parameters to accept inputs, and function calls can provide arguments to pass values into those parameters."
   ]
  },
  {
   "cell_type": "markdown",
   "id": "d20c972e",
   "metadata": {},
   "source": [
    "--------------------------------------------------------------------------------------------------------------------------------"
   ]
  },
  {
   "cell_type": "markdown",
   "id": "71e28395",
   "metadata": {},
   "source": [
    "5.How many global scopes are there in a Python program? How many local scopes?\n",
    "\n",
    "Answer:\n",
    "\n",
    "There is one global scope that exists throughout the entire program. This global scope is accessible from any part of the program. On the other hand, local scopes are created whenever a function or method is called. Each function call or method invocation establishes its own local scope, which is separate and independent. Variables defined within a local scope are only accessible within that specific scope. Once the function or method completes execution, its local scope is destroyed. The number of local scopes in a Python program depends on the number of function or method calls made during program execution."
   ]
  },
  {
   "cell_type": "markdown",
   "id": "051a2243",
   "metadata": {},
   "source": [
    "--------------------------------------------------------------------------------------------------------------------------------"
   ]
  },
  {
   "cell_type": "markdown",
   "id": "63e88ef2",
   "metadata": {},
   "source": [
    "6.What happens to variables in a local scope when the function call returns?\n",
    "\n",
    "Answer:\n",
    "\n",
    "When a function call returns in Python, the local scope, including the variables defined within it, is destroyed. The variables and their values cease to exist and cannot be accessed or referenced outside of the function. The memory allocated to the local variables is released, making it available for other uses. In other words, the variables within the local scope are no longer available or accessible once the function call completes its execution."
   ]
  },
  {
   "cell_type": "markdown",
   "id": "63dbc0a0",
   "metadata": {},
   "source": [
    "--------------------------------------------------------------------------------------------------------------------------------"
   ]
  },
  {
   "cell_type": "markdown",
   "id": "34eb6a9b",
   "metadata": {},
   "source": [
    "7.What is the concept of a return value? Is it possible to have a return value in an expression?\n",
    "\n",
    "Answer:\n",
    "\n",
    "The return value in Python is the value that a function sends back to the calling code. It represents the result of the function's execution. Yes, it is possible to use the return value in an expression, allowing for concise and efficient coding."
   ]
  },
  {
   "cell_type": "code",
   "execution_count": 4,
   "id": "5b36c50d",
   "metadata": {},
   "outputs": [
    {
     "name": "stdout",
     "output_type": "stream",
     "text": [
      "91\n",
      "38\n"
     ]
    }
   ],
   "source": [
    "def add_num(a,b):\n",
    "    return a + b\n",
    "res1 = add_num(25,66)   # Function call and return value stored in 'result' variable\n",
    "print(res1)\n",
    "\n",
    "res2 = add_num(res1,-53)  # Using the return value in an expression\n",
    "print(res2)"
   ]
  },
  {
   "cell_type": "markdown",
   "id": "9ebbb34d",
   "metadata": {},
   "source": [
    "--------------------------------------------------------------------------------------------------------------------------------"
   ]
  },
  {
   "cell_type": "markdown",
   "id": "72cf45a9",
   "metadata": {},
   "source": [
    "8.If a function does not have a return statement, what is the return value of a call to that function?\n",
    "\n",
    "Answer:\n",
    "\n",
    "If a function does not have a return statement, the return value of a call to that function is None. In Python, None is a special object that represents the absence of a value. When a function is called and there is no explicit return statement or the return statement is empty, the function automatically returns None as the default return value."
   ]
  },
  {
   "cell_type": "code",
   "execution_count": 8,
   "id": "39d130f4",
   "metadata": {},
   "outputs": [
    {
     "name": "stdout",
     "output_type": "stream",
     "text": [
      "Hello, World!\n",
      "Hello, World!\n",
      "None\n"
     ]
    }
   ],
   "source": [
    "def greet():\n",
    "    print(\"Hello, World!\")\n",
    "\n",
    "greet()\n",
    "result = greet()  # Function call\n",
    "print(result)  # Output: None\n",
    "\n",
    "\"\"\"the function greet() has a return statement that explicitly returns the string \"Hello, World!\". \n",
    "The value returned by the function is stored in the result variable and then printed, \n",
    "which will display \"Hello, World!\" without the None value.\"\"\""
   ]
  },
  {
   "cell_type": "markdown",
   "id": "fdd0edb9",
   "metadata": {},
   "source": [
    "--------------------------------------------------------------------------------------------------------------------------------"
   ]
  },
  {
   "cell_type": "markdown",
   "id": "ea60fb9d",
   "metadata": {},
   "source": [
    "9.How do you make a function variable refer to the global variable?\n",
    "\n",
    "Answer:\n",
    "\n",
    "To make a function variable refer to a global variable in Python, you can use the global keyword within the function. Here's a step-by-step explanation:\n",
    "\n",
    "Define a global variable outside of any functions.\n",
    "Inside the function where you want to access the global variable, use the global keyword followed by the variable name.\n",
    "This tells Python that the variable is referring to the global variable with the same name, rather than creating a new local variable.\n",
    "You can now access and modify the global variable within the function."
   ]
  },
  {
   "cell_type": "code",
   "execution_count": null,
   "id": "60e20915",
   "metadata": {},
   "outputs": [],
   "source": [
    "count = 0  # Global variable\n",
    "\n",
    "def increment():\n",
    "    global count  # Declare 'count' as a global variable\n",
    "    count += 1    # Modify the global 'count' variable\n",
    "\n",
    "print(count)     # Output: 0\n",
    "increment()\n",
    "print(count)     # Output: 1\n",
    "\n",
    "\"\"\"we have a global variable named count initialized to 0. Inside the increment() function, \n",
    "we use the global keyword to indicate that count refers to the global variable count. \n",
    "This allows us to access and modify the global count variable within the function.\"\"\""
   ]
  },
  {
   "cell_type": "markdown",
   "id": "ed0260cf",
   "metadata": {},
   "source": [
    "--------------------------------------------------------------------------------------------------------------------------------"
   ]
  },
  {
   "cell_type": "markdown",
   "id": "413995eb",
   "metadata": {},
   "source": [
    "10.What is the data type of None?\n",
    "\n",
    "Answer:\n",
    "\n",
    "The data type of None in Python is called NoneType. None represents the absence of a value or the lack of a specific object. It is often used as a default return value for functions that do not explicitly return anything."
   ]
  },
  {
   "cell_type": "code",
   "execution_count": 12,
   "id": "77317b66",
   "metadata": {},
   "outputs": [
    {
     "name": "stdout",
     "output_type": "stream",
     "text": [
      "<class 'NoneType'>\n"
     ]
    }
   ],
   "source": [
    "result = None\n",
    "print(type(result))  # Output: <class 'NoneType'>\n",
    "\n",
    "\"\"\" we assign the value None to the variable result and then use the type() function to determine its data type.\n",
    "The output shows that the data type of None is <class 'NoneType'>.\"\"\""
   ]
  },
  {
   "cell_type": "markdown",
   "id": "1e06cfd7",
   "metadata": {},
   "source": [
    "--------------------------------------------------------------------------------------------------------------------------------"
   ]
  },
  {
   "cell_type": "markdown",
   "id": "ddbbbefe",
   "metadata": {},
   "source": [
    "11.What does the sentence import areallyourpetsnamederic do?\n",
    "\n",
    "Answer:\n",
    "\n",
    "The sentence \"import areallyourpetsnamederic\" does not have any specific meaning or functionality in Python. It is not a valid Python import statement and will result in a ModuleNotFoundError unless you have a module named \"areallyourpetsnamederic\" that can be imported.\n",
    "\n",
    "In Python, the import statement is used to import modules or specific objects from modules into your Python program. However, \"areallyourpetsnamederic\" does not correspond to any existing module in the Python standard library or commonly used third-party libraries."
   ]
  },
  {
   "cell_type": "markdown",
   "id": "0d2256db",
   "metadata": {},
   "source": [
    "--------------------------------------------------------------------------------------------------------------------------------"
   ]
  },
  {
   "cell_type": "markdown",
   "id": "a5134eee",
   "metadata": {},
   "source": [
    "12.If you had a bacon() feature in a spam module, what would you call it after importing spam?\n",
    "\n",
    "Answer:"
   ]
  },
  {
   "cell_type": "code",
   "execution_count": null,
   "id": "2129441b",
   "metadata": {},
   "outputs": [],
   "source": [
    "import spam\n",
    "\n",
    "spam.bacon()"
   ]
  },
  {
   "cell_type": "markdown",
   "id": "7c134202",
   "metadata": {},
   "source": [
    "In this case, \"spam\" is the module name, and \"bacon()\" is a feature or function defined within the \"spam\" module. To call the \"bacon()\" function,we need to prefix it with the module name and a dot (spam.) to indicate that we are accessing the function from the \"spam\" module."
   ]
  },
  {
   "cell_type": "markdown",
   "id": "0bcb43cb",
   "metadata": {},
   "source": [
    "--------------------------------------------------------------------------------------------------------------------------------"
   ]
  },
  {
   "cell_type": "markdown",
   "id": "c18f0c61",
   "metadata": {},
   "source": [
    "13.What can you do to save a programme from crashing if it encounters an error?\n",
    "\n",
    "Answer:"
   ]
  },
  {
   "cell_type": "markdown",
   "id": "b1618390",
   "metadata": {},
   "source": [
    "Try-Except blocks: Place the potentially problematic code inside a try block and specify the type of error to catch using an except block. This allows you to handle the error gracefully without the program terminating abruptly.\n",
    "\n",
    "try:\n",
    "    # Potentially problematic code\n",
    "    # ...\n",
    "except SpecificErrorType:\n",
    "    # Code to handle the specific error\n",
    "    # ...\n",
    "except AnotherErrorType:\n",
    "    # Code to handle another specific error\n",
    "    # ...\n",
    "except Exception as e:\n",
    "    # Code to handle any other unexpected errors\n",
    "    # ..."
   ]
  },
  {
   "cell_type": "markdown",
   "id": "80152cd9",
   "metadata": {},
   "source": [
    "Finally block: You can include a finally block after the except block(s) to ensure that certain cleanup tasks are executed, regardless of whether an exception occurred or not.\n",
    "\n",
    "try:\n",
    "    # Potentially problematic code\n",
    "    # ...\n",
    "except SpecificErrorType:\n",
    "    # Code to handle the specific error\n",
    "    # ...\n",
    "finally:\n",
    "    # Cleanup code or actions to be executed\n",
    "    # ..."
   ]
  },
  {
   "cell_type": "markdown",
   "id": "4544cfe9",
   "metadata": {},
   "source": [
    "Exception handling with traceback: You can use the traceback module to print detailed information about the exception, including the line number and file where the error occurred. This can aid in debugging and provide valuable information for error resolution.\n",
    "\n",
    "import traceback\n",
    "\n",
    "try:\n",
    "    # Potentially problematic code\n",
    "    # ...\n",
    "except Exception as e:\n",
    "    traceback.print_exc()"
   ]
  },
  {
   "cell_type": "markdown",
   "id": "a776842c",
   "metadata": {},
   "source": [
    "By implementing these error handling techniques,we can catch specific types of errors, gracefully handle them, and ensure that your program continues running without crashing. It allows you to identify and resolve errors while providing a smoother user experience."
   ]
  },
  {
   "cell_type": "markdown",
   "id": "685867f7",
   "metadata": {},
   "source": [
    "--------------------------------------------------------------------------------------------------------------------------------"
   ]
  },
  {
   "cell_type": "markdown",
   "id": "ab869226",
   "metadata": {},
   "source": [
    "14.What is the purpose of the try clause? What is the purpose of the except clause?\n",
    "\n",
    "Answer:\n",
    "\n",
    "The try and except clauses in Python are used for error handling and exception handling. \n",
    "\n",
    "Purpose of the try clause:\n",
    "\n",
    "--> The try clause is used to enclose a block of code that might raise an exception.\n",
    "\n",
    "--> It allows you to identify a section of code where exceptions might occur and need to be handled.\n",
    "\n",
    "--> If an exception occurs within the try block, the code execution is immediately transferred to the corresponding except block.\n",
    "\n",
    "Purpose of the except clause:\n",
    "\n",
    "--> The except clause is used to define the specific actions or code to be executed when a particular exception occurs.\n",
    "\n",
    "--> It catches and handles the exception raised within the try block.\n",
    "\n",
    "--> By specifying the type of exception to catch, you can define specific handling procedures for different types of errors.\n",
    "\n",
    "--> If an exception occurs that matches the specified type in an except block, the code within that block is executed.\n",
    "\n",
    "--> If an exception occurs that does not match any specified type, it moves to the next outer try-except block or results in a program termination if no matching handler is found.\n",
    "\n",
    "try:\n",
    "    # Code that might raise an exception\n",
    "    # ...\n",
    "except ValueError:\n",
    "    # Code to handle ValueError exception\n",
    "    # ...\n",
    "except ZeroDivisionError:\n",
    "    # Code to handle ZeroDivisionError exception\n",
    "    # ...\n",
    "except Exception as e:\n",
    "    # Code to handle any other exception\n",
    "    # ..."
   ]
  },
  {
   "cell_type": "markdown",
   "id": "5c01f69b",
   "metadata": {},
   "source": []
  }
 ],
 "metadata": {
  "kernelspec": {
   "display_name": "Python 3 (ipykernel)",
   "language": "python",
   "name": "python3"
  },
  "language_info": {
   "codemirror_mode": {
    "name": "ipython",
    "version": 3
   },
   "file_extension": ".py",
   "mimetype": "text/x-python",
   "name": "python",
   "nbconvert_exporter": "python",
   "pygments_lexer": "ipython3",
   "version": "3.9.7"
  }
 },
 "nbformat": 4,
 "nbformat_minor": 5
}
