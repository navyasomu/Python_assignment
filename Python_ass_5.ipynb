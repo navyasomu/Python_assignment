{
 "cells": [
  {
   "cell_type": "markdown",
   "id": "d3952a22",
   "metadata": {},
   "source": [
    "1.What does an empty dictionary's code look like?\n",
    "\n",
    "Answer:\n",
    "\n",
    "An empty dictionary in Python is represented by a pair of curly braces '{}' with no key-value pairs inside."
   ]
  },
  {
   "cell_type": "code",
   "execution_count": 1,
   "id": "fd4d06f7",
   "metadata": {},
   "outputs": [],
   "source": [
    "dic = {}  #In this example,'dic' is an empty dictionary with no key-value pairs."
   ]
  },
  {
   "cell_type": "markdown",
   "id": "4a182ae8",
   "metadata": {},
   "source": [
    "--------------------------------------------------------------------------------------------------------------------------------"
   ]
  },
  {
   "cell_type": "markdown",
   "id": "c5bb1bb2",
   "metadata": {},
   "source": [
    "2.What is the value of a dictionary value with the key 'foo' and the value 42?\n",
    "\n",
    "Answer:\n",
    "\n",
    "The value of a dictionary value with the key 'foo' and the value 42 would be 42. In Python, dictionary values are accessed using their corresponding keys. "
   ]
  },
  {
   "cell_type": "code",
   "execution_count": 2,
   "id": "a1fb97d6",
   "metadata": {},
   "outputs": [
    {
     "name": "stdout",
     "output_type": "stream",
     "text": [
      "42\n"
     ]
    }
   ],
   "source": [
    "my_dict = {'foo': 42}\n",
    "value = my_dict['foo']\n",
    "print(value)    # my_dict['foo'] retrieves the value associated with the key 'foo', which is 42."
   ]
  },
  {
   "cell_type": "markdown",
   "id": "4cb4643b",
   "metadata": {},
   "source": [
    "--------------------------------------------------------------------------------------------------------------------------------"
   ]
  },
  {
   "cell_type": "markdown",
   "id": "8cfaa707",
   "metadata": {},
   "source": [
    "3.What is the most significant distinction between a dictionary and a list?\n",
    "\n",
    "Answer:\n",
    "\n",
    "The main distinction between a dictionary and a list is that a dictionary stores data as key-value pairs, accessed by unique keys, while a list stores data in an ordered sequence, accessed by numeric indices."
   ]
  },
  {
   "cell_type": "markdown",
   "id": "2c0e3337",
   "metadata": {},
   "source": [
    "--------------------------------------------------------------------------------------------------------------------------------"
   ]
  },
  {
   "cell_type": "markdown",
   "id": "b8be6441",
   "metadata": {},
   "source": [
    "4.What happens if you try to access spam['foo'] if spam is {'bar': 100 }?\n",
    "\n",
    "Answer:\n",
    "\n",
    "It will raise a KeyError.\n",
    "\n",
    "In Python, when accessing a value using a key in a dictionary, if the key does not exist in the dictionary, a KeyError is raised. In this case, the key 'foo' is not present in the dictionary spam, so attempting to access spam['foo'] will result in a KeyError."
   ]
  },
  {
   "cell_type": "markdown",
   "id": "74b2cfbb",
   "metadata": {},
   "source": [
    "--------------------------------------------------------------------------------------------------------------------------------"
   ]
  },
  {
   "cell_type": "markdown",
   "id": "d9cb3fcc",
   "metadata": {},
   "source": [
    "5.If a dictionary is stored in spam, what is the difference between the expressions 'cat' in spam and 'cat' in spam.keys()?\n",
    "\n",
    "Answer:\n",
    "\n",
    "--> The expression 'cat' in spam checks if the key 'cat' exists directly in the dictionary spam. It returns True if the key is present and False otherwise.\n",
    "\n",
    "--> On the other hand, the expression 'cat' in spam.keys() checks if the key 'cat' exists in the list of keys obtained from spam.keys(). It also returns True if the key is present in the list and False otherwise.\n",
    "\n",
    "--> In most cases, both expressions will yield the same result. However, using 'cat' in spam.keys() can be slightly more efficient for large dictionaries as it avoids accessing the actual values."
   ]
  },
  {
   "cell_type": "code",
   "execution_count": 3,
   "id": "206ce9e0",
   "metadata": {},
   "outputs": [
    {
     "name": "stdout",
     "output_type": "stream",
     "text": [
      "'cat' is a key in the dictionary spam\n",
      "'cat' is present in the list of keys\n"
     ]
    }
   ],
   "source": [
    "spam = {'cat': 42, 'dog': 15, 'bird': 7}\n",
    "\n",
    "# Check if 'cat' exists as a direct key in the dictionary\n",
    "if 'cat' in spam:\n",
    "    print(\"'cat' is a key in the dictionary spam\")\n",
    "\n",
    "# Check if 'cat' exists in the list of keys obtained from spam.keys()\n",
    "if 'cat' in spam.keys():\n",
    "    print(\"'cat' is present in the list of keys\")\n"
   ]
  },
  {
   "cell_type": "markdown",
   "id": "f6cf89d7",
   "metadata": {},
   "source": [
    "--------------------------------------------------------------------------------------------------------------------------------"
   ]
  },
  {
   "cell_type": "markdown",
   "id": "52b30c4e",
   "metadata": {},
   "source": [
    "6.If a dictionary is stored in spam, what is the difference between the expressions 'cat' in spam and 'cat' in spam.values()?\n",
    "\n",
    "Answer:\n",
    "\n",
    "The expression 'cat' in spam checks if the value 'cat' exists in any of the values of the dictionary spam, while 'cat' in spam.values() checks if the value 'cat' exists in the list of values obtained from spam.values()."
   ]
  },
  {
   "cell_type": "code",
   "execution_count": 2,
   "id": "53eb7310",
   "metadata": {},
   "outputs": [
    {
     "name": "stdout",
     "output_type": "stream",
     "text": [
      "'cat' is present in the list of values\n"
     ]
    }
   ],
   "source": [
    "spam = {'name': 'Tom', 'age': 5, 'animal': 'cat'}\n",
    "\n",
    "# Check if 'cat' exists as a value in the dictionary\n",
    "if 'cat' in spam:\n",
    "    print(\"'cat' is a value in the dictionary spam\")\n",
    "\n",
    "# Check if 'cat' exists in the list of values obtained from spam.values()\n",
    "if 'cat' in spam.values():\n",
    "    print(\"'cat' is present in the list of values\")"
   ]
  },
  {
   "cell_type": "markdown",
   "id": "aa6ea982",
   "metadata": {},
   "source": [
    "--------------------------------------------------------------------------------------------------------------------------------"
   ]
  },
  {
   "cell_type": "markdown",
   "id": "7073c498",
   "metadata": {},
   "source": [
    "7.What is a shortcut for the following code?\n",
    "\n",
    "if 'color' not in spam:\n",
    "\n",
    "spam['color'] = 'black'"
   ]
  },
  {
   "cell_type": "code",
   "execution_count": 4,
   "id": "858bc9f1",
   "metadata": {},
   "outputs": [
    {
     "data": {
      "text/plain": [
       "'black'"
      ]
     },
     "execution_count": 4,
     "metadata": {},
     "output_type": "execute_result"
    }
   ],
   "source": [
    "spam.setdefault('color', 'black')"
   ]
  },
  {
   "cell_type": "markdown",
   "id": "a413eeb3",
   "metadata": {},
   "source": [
    "The setdefault() method checks if the key 'color' is present in the dictionary spam. If the key exists, it returns the corresponding value. If the key doesn't exist, it adds the key-value pair 'color': 'black' to the dictionary and returns the default value 'black'.\n",
    "\n",
    "So, the setdefault() method allows us to achieve the same functionality in a more concise way."
   ]
  },
  {
   "cell_type": "markdown",
   "id": "048d7421",
   "metadata": {},
   "source": [
    "--------------------------------------------------------------------------------------------------------------------------------"
   ]
  },
  {
   "cell_type": "markdown",
   "id": "3fc9efc3",
   "metadata": {},
   "source": [
    "8.How do you  \"pretty print\" dictionary values using which module and function?\n",
    "\n",
    "Answer:\n",
    "\n",
    "By importing the pprint module and using the pprint() function, you can display the dictionary values in a formatted and easy-to-read manner. The pprint() function automatically handles line breaks, indentation, and formatting, making the dictionary output more visually appealing.\n",
    "\n",
    "PPrint --> prettyprint"
   ]
  },
  {
   "cell_type": "code",
   "execution_count": 6,
   "id": "1d04a5ff",
   "metadata": {},
   "outputs": [
    {
     "name": "stdout",
     "output_type": "stream",
     "text": [
      "{'address': {'city': 'New York',\n",
      "             'state': 'NY',\n",
      "             'street': '123 Main St',\n",
      "             'zipcode': '10001'},\n",
      " 'age': 25,\n",
      " 'city': 'New York',\n",
      " 'interests': ['reading', 'traveling', 'music'],\n",
      " 'name': 'John'}\n"
     ]
    }
   ],
   "source": [
    "import pprint\n",
    "\n",
    "my_dict = {\n",
    "    'name': 'John',\n",
    "    'age': 25,\n",
    "    'city': 'New York',\n",
    "    'interests': ['reading', 'traveling', 'music'],\n",
    "    'address': {\n",
    "        'street': '123 Main St',\n",
    "        'city': 'New York',\n",
    "        'state': 'NY',\n",
    "        'zipcode': '10001'\n",
    "    }\n",
    "}\n",
    "\n",
    "pprint.pprint(my_dict)"
   ]
  },
  {
   "cell_type": "markdown",
   "id": "707bcbca",
   "metadata": {},
   "source": [
    "The pprint() function automatically handles the indentation and formatting of nested dictionaries and lists, making it easier to understand the structure and contents of complex data structures."
   ]
  }
 ],
 "metadata": {
  "kernelspec": {
   "display_name": "Python 3 (ipykernel)",
   "language": "python",
   "name": "python3"
  },
  "language_info": {
   "codemirror_mode": {
    "name": "ipython",
    "version": 3
   },
   "file_extension": ".py",
   "mimetype": "text/x-python",
   "name": "python",
   "nbconvert_exporter": "python",
   "pygments_lexer": "ipython3",
   "version": "3.9.7"
  }
 },
 "nbformat": 4,
 "nbformat_minor": 5
}
