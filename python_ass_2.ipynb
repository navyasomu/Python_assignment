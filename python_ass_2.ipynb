{
 "cells": [
  {
   "cell_type": "markdown",
   "id": "4b432dff",
   "metadata": {},
   "source": [
    "1.What are the two values of the Boolean data type? How do you write them?\n",
    "\n",
    "Answer:\n",
    "\n",
    "--> The two values of the boolean data types are 'True' and 'False'.\n",
    "\n",
    "--> The are written exactly as they shown with first letter capital and remaining letters in lowercase.\n",
    "\n",
    "--> This boolean vlaues are commonly used in programming for logical operations,Conditionl, and boolean algebra."
   ]
  },
  {
   "cell_type": "markdown",
   "id": "a4940fd3",
   "metadata": {},
   "source": [
    "--------------------------------------------------------------------------------------------------------------------------------"
   ]
  },
  {
   "cell_type": "markdown",
   "id": "7cf87d85",
   "metadata": {},
   "source": [
    "2.What are the three different types of Boolean operators?\n",
    "\n",
    "Answer:\n",
    "\n",
    "--> 'and' operator: The 'and' operator returns True if both conditions on either side of it are true. Otherwise, it returns False.\n",
    "\n",
    "--> 'or' operator: The 'or' operator returns True if at least one of the conditions on either side of it is true. If both conditions are false, it returns False.\n",
    "\n",
    "--> 'not' operator: The 'not' operator is a unary operator that returns the opposite of the condition. If the condition is True, not will return False, and if the condition is False, not will return True."
   ]
  },
  {
   "cell_type": "markdown",
   "id": "de2a5afa",
   "metadata": {},
   "source": [
    "--------------------------------------------------------------------------------------------------------------------------------"
   ]
  },
  {
   "cell_type": "markdown",
   "id": "368ce212",
   "metadata": {},
   "source": [
    "3.Make a list of each Boolean operator&#39;s truth tables (i.e. every possible combination of Booleanvalues for the operator and what it evaluate).\n",
    "\n",
    "Answer:\n",
    "\n",
    "'and' operator truth table:\n",
    "\n",
    "| Operand 1 | Operand 2 | Result |\n",
    "|-----------|-----------|--------|\n",
    "|   False   |   False   | False  |\n",
    "|   False   |   True    | False  |\n",
    "|   True    |   False   | False  |\n",
    "|   True    |   True    | True   |\n",
    "\n",
    "'or' operator truth table:\n",
    "\n",
    "| Operand 1 | Operand 2 | Result |\n",
    "|-----------|-----------|--------|\n",
    "|   False   |   False   | False  |\n",
    "|   False   |   True    | True   |\n",
    "|   True    |   False   | True   |\n",
    "|   True    |   True    | True   |\n",
    "\n",
    "'not' operator truth table:\n",
    "\n",
    "| Operand | Result |\n",
    "|---------|--------|\n",
    "|  False  |  True  |\n",
    "|  True   |  False |"
   ]
  },
  {
   "cell_type": "markdown",
   "id": "8d6dc1e6",
   "metadata": {},
   "source": [
    "--------------------------------------------------------------------------------------------------------------------------------"
   ]
  },
  {
   "cell_type": "markdown",
   "id": "bb50a866",
   "metadata": {},
   "source": [
    "4.What are the values of the following expressions?\n",
    "\n",
    "*(5 > 4) and (3 == 5)\n",
    "*not (5 > 4)\n",
    "*(5 > 4) or (3 == 5)\n",
    "*not ((5 > 4) or (3 == 5))\n",
    "*(True and True) and (True == False)\n",
    "*(not False) or (not True)\n",
    "\n",
    "Answer:\n",
    "\n",
    "--> (5 > 4) and (3 == 5) is 'False'\n",
    "\n",
    "--> not (5 > 4) is 'False'\n",
    "\n",
    "--> (5 > 4) or (3 == 5) is 'True'\n",
    "\n",
    "--> not ((5 > 4) or (3 == 5)) is 'False'\n",
    "\n",
    "--> (True and True) and (True == False) is 'False'\n",
    "\n",
    "--> (not False) or (not True) is 'True'"
   ]
  },
  {
   "cell_type": "markdown",
   "id": "74d3d920",
   "metadata": {},
   "source": [
    "--------------------------------------------------------------------------------------------------------------------------------"
   ]
  },
  {
   "cell_type": "markdown",
   "id": "2bcc810d",
   "metadata": {},
   "source": [
    "5.What are the six comparison operators?\n",
    "\n",
    "Answer:\n",
    "\n",
    "--> Equal to: '=='\n",
    "\n",
    "Checks if the values of two operands are equal.\n",
    "\n",
    "--> Not equal to: '!='\n",
    "\n",
    "Checks if the values of two operands are not equal.\n",
    "\n",
    "--> Greater than: '>'\n",
    "\n",
    "Checks if the left operand is greater than the right operand.\n",
    "\n",
    "--> Less than: '<'\n",
    "\n",
    "Checks if the left operand is less than the right operand.\n",
    "\n",
    "--> Greater than or equal to: '>='\n",
    "\n",
    "Checks if the left operand is greater than or equal to the right operand.\n",
    "\n",
    "--> Less than or equal to: '<='\n",
    "\n",
    "Checks if the left operand is less than or equal to the right operand."
   ]
  },
  {
   "cell_type": "markdown",
   "id": "98f1fd47",
   "metadata": {},
   "source": [
    "--------------------------------------------------------------------------------------------------------------------------------"
   ]
  },
  {
   "cell_type": "markdown",
   "id": "060a90ff",
   "metadata": {},
   "source": [
    "6.How do you tell the difference between the equal to and assignment operators?Describe a condition and when you would use one.\n",
    "\n",
    "Answer:\n",
    "\n",
    "--> The equal to operator ('==') is used to compare two values and determine if they are equal. It evaluates the values on both sides and returns True if they are equal, and False otherwise.\n",
    "\n",
    "-->On the other hand, the assignment operator ('=') is used to assign a value to a variable. It takes the value on the right side and assigns it to the variable on the left side."
   ]
  },
  {
   "cell_type": "code",
   "execution_count": 12,
   "id": "0ff479fe",
   "metadata": {},
   "outputs": [
    {
     "name": "stdout",
     "output_type": "stream",
     "text": [
      "x is equal to 5\n"
     ]
    }
   ],
   "source": [
    "x = 5\n",
    "if x == 5:\n",
    "    print(\"x is equal to 5\")\n",
    "    \n",
    "#In this example, the condition x == 5 is used to check if the value of x is equal to 5. \n",
    "#If the condition is true, the message \"x is equal to 5\" will be printed.\n",
    "#Otherwise, if the condition is false, nothing will be printed. \n",
    "#The assignment operator (=) is used to assign a value to a variable.\"\"\""
   ]
  },
  {
   "cell_type": "markdown",
   "id": "4683de59",
   "metadata": {},
   "source": [
    "--------------------------------------------------------------------------------------------------------------------------------"
   ]
  },
  {
   "cell_type": "code",
   "execution_count": null,
   "id": "44de5c57",
   "metadata": {},
   "outputs": [],
   "source": [
    "7.Identify the three blocks in this code:\n",
    "spam = 0\n",
    "if spam == 10:\n",
    "print('eggs')\n",
    "if spam > 5:\n",
    "print('bacon')\n",
    "else:\n",
    "print('ham')\n",
    "print('spam')\n",
    "print('spam')\n",
    "\n",
    "Answer:"
   ]
  },
  {
   "cell_type": "code",
   "execution_count": null,
   "id": "476d2901",
   "metadata": {},
   "outputs": [],
   "source": [
    "#Block 1:\n",
    "if spam == 10:\n",
    "    print('eggs')"
   ]
  },
  {
   "cell_type": "code",
   "execution_count": null,
   "id": "c1f92715",
   "metadata": {},
   "outputs": [],
   "source": [
    "#Block 2:\n",
    "if spam > 5:\n",
    "    print('bacon')"
   ]
  },
  {
   "cell_type": "code",
   "execution_count": null,
   "id": "0e83403e",
   "metadata": {},
   "outputs": [],
   "source": [
    "#Block 3:\n",
    "else:\n",
    "    print('ham')\n",
    "print('spam')\n",
    "print('spam')"
   ]
  },
  {
   "cell_type": "markdown",
   "id": "850aea95",
   "metadata": {},
   "source": [
    "--------------------------------------------------------------------------------------------------------------------------------"
   ]
  },
  {
   "cell_type": "markdown",
   "id": "7deb2bf2",
   "metadata": {},
   "source": [
    "8.Write code that prints Hello if 1 is stored in spam, prints Howdy if 2 is stored in spam, and prints Greetings! if anything else is stored in spam."
   ]
  },
  {
   "cell_type": "code",
   "execution_count": 13,
   "id": "3933b625",
   "metadata": {},
   "outputs": [
    {
     "name": "stdout",
     "output_type": "stream",
     "text": [
      "Enter a number:5\n",
      "Greetings!\n"
     ]
    }
   ],
   "source": [
    "spam = int(input('Enter a number:'))\n",
    "if spam ==1:\n",
    "    print('Hello')\n",
    "elif spam == 2:\n",
    "    print('Howdy')\n",
    "else:\n",
    "    print('Greetings!')"
   ]
  },
  {
   "cell_type": "markdown",
   "id": "df5d8ac0",
   "metadata": {},
   "source": [
    "--------------------------------------------------------------------------------------------------------------------------------"
   ]
  },
  {
   "cell_type": "markdown",
   "id": "06f724aa",
   "metadata": {},
   "source": [
    "9.If your programme is stuck in an endless loop, what keys you’ll press?\n",
    "\n",
    "Answer:\n",
    "\n",
    "--> Pressing \"Ctrl + C\" is the common key combination to interrupt and stop a program stuck in an endless loop."
   ]
  },
  {
   "cell_type": "markdown",
   "id": "346c61f7",
   "metadata": {},
   "source": [
    "--------------------------------------------------------------------------------------------------------------------------------"
   ]
  },
  {
   "cell_type": "markdown",
   "id": "882bec69",
   "metadata": {},
   "source": [
    "10.How can you tell the difference between break and continue?\n",
    "\n",
    "Answer:\n",
    "\n",
    "--> 'break' is used to terminate the current loop and exit its execution.\n",
    "\n",
    "--> 'continue' is used to skip the remaining code in the current iteration of the loop and move to the next iteration.\n",
    "\n",
    "--> 'break' completely exits the loop and continues with the next statement after the loop.\n",
    "\n",
    "--> 'continue' skips the rest of the current iteration and goes back to the beginning of the loop for the next iteration."
   ]
  },
  {
   "cell_type": "markdown",
   "id": "05ceb7fb",
   "metadata": {},
   "source": [
    "--------------------------------------------------------------------------------------------------------------------------------"
   ]
  },
  {
   "cell_type": "markdown",
   "id": "62fcca7a",
   "metadata": {},
   "source": [
    "11.In a for loop, what is the difference between range(10), range(0, 10), and range(0, 10, 1)?\n",
    "\n",
    "Answer:\n",
    "\n",
    "--> 'range(10)' generates a sequence of numbers from 0 to 9 with a default start value of 0 and a default step value of 1.\n",
    "\n",
    "--> 'range(0, 10)' is equivalent to range(10) and also generates a sequence of numbers from 0 to 9, explicitly specifying the start value as 0.\n",
    "\n",
    "--> 'range(0, 10, 1)' is also equivalent to the previous two forms and generates a sequence of numbers from 0 to 9, explicitly specifying the start value as 0 and the step value as 1.\n",
    "\n",
    "All three forms achieve the same result of generating a sequence of numbers, but they vary in how the start value, end value, and step value are specified."
   ]
  },
  {
   "cell_type": "markdown",
   "id": "5c58e89a",
   "metadata": {},
   "source": [
    "--------------------------------------------------------------------------------------------------------------------------------"
   ]
  },
  {
   "cell_type": "markdown",
   "id": "2d401eb2",
   "metadata": {},
   "source": [
    "12.Write a short program that prints the numbers 1 to 10 using a for loop. Then write an equivalent program that prints the numbers 1 to 10 using a while loop.\n",
    "\n",
    "Answer:"
   ]
  },
  {
   "cell_type": "code",
   "execution_count": 3,
   "id": "428c5a63",
   "metadata": {},
   "outputs": [
    {
     "name": "stdout",
     "output_type": "stream",
     "text": [
      "1 2 3 4 5 6 7 8 9 10 "
     ]
    }
   ],
   "source": [
    "for i in range(1,11):\n",
    "    print(i,end =' ')"
   ]
  },
  {
   "cell_type": "code",
   "execution_count": 2,
   "id": "e02e9ede",
   "metadata": {},
   "outputs": [
    {
     "name": "stdout",
     "output_type": "stream",
     "text": [
      "1 2 3 4 5 6 7 8 9 10 "
     ]
    }
   ],
   "source": [
    "num = 1\n",
    "while num <= 10:\n",
    "    print(num,end=' ')\n",
    "    num += 1"
   ]
  },
  {
   "cell_type": "markdown",
   "id": "25e525f2",
   "metadata": {},
   "source": [
    "--------------------------------------------------------------------------------------------------------------------------------"
   ]
  },
  {
   "cell_type": "markdown",
   "id": "53cfe927",
   "metadata": {},
   "source": [
    "13.If you had a function named bacon() inside a module named spam, how would you call it after importing spam?\n",
    "\n",
    "Answer:"
   ]
  },
  {
   "cell_type": "code",
   "execution_count": null,
   "id": "485f8ab3",
   "metadata": {},
   "outputs": [],
   "source": [
    "import spam\n",
    "\n",
    "spam.bacon()"
   ]
  }
 ],
 "metadata": {
  "kernelspec": {
   "display_name": "Python 3 (ipykernel)",
   "language": "python",
   "name": "python3"
  },
  "language_info": {
   "codemirror_mode": {
    "name": "ipython",
    "version": 3
   },
   "file_extension": ".py",
   "mimetype": "text/x-python",
   "name": "python",
   "nbconvert_exporter": "python",
   "pygments_lexer": "ipython3",
   "version": "3.9.7"
  }
 },
 "nbformat": 4,
 "nbformat_minor": 5
}
