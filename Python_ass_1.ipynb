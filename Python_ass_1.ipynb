{
 "cells": [
  {
   "cell_type": "markdown",
   "id": "d75e7bc9",
   "metadata": {},
   "source": [
    "1.In the below elements which of them are values or an expression?\n",
    "eg:- values can be integer or string and expressions will be mathematical operators.\n",
    "\n",
    "--> *\n",
    "--> 'hello'\n",
    "--> -87.8\n",
    "--> -\n",
    "--> /\n",
    "--> +\n",
    "--> 6\n",
    "\n",
    "Answer:\n",
    "\n",
    "  ' * ' --> Multiplication operator. \n",
    "'hello' --> String Value.\n",
    "-87.8   --> Negative Floating point value.\n",
    " ' - '  --> Subtraction operator or Negative sign.\n",
    " ' /'   --> Division operator.\n",
    " ' +'   --> Addition operator.\n",
    "   6    --> Interger value."
   ]
  },
  {
   "cell_type": "markdown",
   "id": "464fa012",
   "metadata": {},
   "source": []
  },
  {
   "cell_type": "markdown",
   "id": "8385c7b6",
   "metadata": {},
   "source": [
    "2.What is the difference between string and variable?\n",
    "\n",
    "Answer:\n",
    "\n",
    "String  : A string is a sequence of characters in Python used to represent textual data. It is enclosed in quotes ('' or \"\").\n",
    "\n",
    "Variable: A variable is a named reference to a value in Python. It is like container stores different types of data, including             strings. Variables allow you to store and manipulate data dynamically during program execution.\n",
    "\n",
    "Example : Name = 'Navya'\n",
    "          and Age  = 23      \n",
    "          \n",
    "Here Navya ,Age are variables which store the string ,integer values respectively."
   ]
  },
  {
   "cell_type": "markdown",
   "id": "7accdedf",
   "metadata": {},
   "source": []
  },
  {
   "cell_type": "markdown",
   "id": "96349406",
   "metadata": {},
   "source": [
    "3.Describe three different data types.\n",
    "\n",
    "Answer :\n",
    "\n",
    "Float: A float is a data type used to represent numbers with a fractional part. It is used for storing real numbers, including          decimal values. Floats allow for precise calculations involving non-integer values in various mathematical operations.\n",
    "\n",
    "List: A list is a data type used to store a collection of items. It can hold elements of different data types and allows for           dynamic resizing. Lists are versatile and provide functionalities like appending, accessing, and modifying elements,             making them valuable for organizing and manipulating data in a flexible manner.\n",
    "\n",
    "Boolean: A boolean is a data type that has only two possible values: True or False. Booleans are used for logical operations and          decision-making. They are often the result of comparisons or logical operations and play a crucial role in controlling          program flow."
   ]
  },
  {
   "cell_type": "markdown",
   "id": "0d5eaed4",
   "metadata": {},
   "source": []
  },
  {
   "cell_type": "markdown",
   "id": "051dbad4",
   "metadata": {},
   "source": [
    "4.What is an expression made up of? What do all expressions do?\n",
    "\n",
    "Answer:\n",
    "\n",
    "--> An expression is made up of values, variables, operators, and function calls.\n",
    "--> Expressions combine these elements in a specific syntax to perform an operation or calculation.\n",
    "--> All expressions in programming return a value.\n",
    "--> Expressions can be simple or complex, depending on the combination of operations involved.\n",
    "--> Expressions can include mathematical calculations, logical comparisons, string manipulations, and more.\n",
    "--> They are used to compute or evaluate values in a program.\n",
    "--> Expressions enable dynamic and interactive behavior in programming.\n",
    "--> They play a crucial role in calculations, decision-making, and generating results based on input data."
   ]
  },
  {
   "cell_type": "markdown",
   "id": "b14dadb3",
   "metadata": {},
   "source": []
  },
  {
   "cell_type": "markdown",
   "id": "268828e0",
   "metadata": {},
   "source": [
    "6.After running the following code, what does the variable bacon contain?\n",
    "bacon = 22\n",
    "bacon + 1"
   ]
  },
  {
   "cell_type": "code",
   "execution_count": 1,
   "id": "0c1ab574",
   "metadata": {},
   "outputs": [
    {
     "data": {
      "text/plain": [
       "23"
      ]
     },
     "execution_count": 1,
     "metadata": {},
     "output_type": "execute_result"
    }
   ],
   "source": [
    "## Answer\n",
    "bacon = 22\n",
    "bacon + 1"
   ]
  },
  {
   "cell_type": "code",
   "execution_count": 3,
   "id": "edc30dfc",
   "metadata": {},
   "outputs": [
    {
     "data": {
      "text/plain": [
       "22"
      ]
     },
     "execution_count": 3,
     "metadata": {},
     "output_type": "execute_result"
    }
   ],
   "source": [
    "bacon"
   ]
  },
  {
   "cell_type": "markdown",
   "id": "e240ce31",
   "metadata": {},
   "source": [
    "the variable bacon contains value 22. because bacon +1 not stored in variable bacon"
   ]
  },
  {
   "cell_type": "markdown",
   "id": "3b1195e3",
   "metadata": {},
   "source": []
  },
  {
   "cell_type": "markdown",
   "id": "3bc8fb01",
   "metadata": {},
   "source": [
    "7.What should the values of the following two terms be?\n",
    "'spam' + 'spamspam'\n",
    "'spam' * 3\n",
    "\n",
    "Answer:\n",
    "--> 'spam' + 'spamspam' Concatenation of 2 strings output is 'spamspamspam'\n",
    "--> 'spam' * 3 the string is multiplied by 3 so output is 'spamspamspam'"
   ]
  },
  {
   "cell_type": "markdown",
   "id": "9fab156b",
   "metadata": {},
   "source": []
  },
  {
   "cell_type": "markdown",
   "id": "b494735f",
   "metadata": {},
   "source": [
    "8.Why is eggs a valid variable name while 100 is invalid?\n",
    "\n",
    "Answer:\n",
    "\n",
    "The name 'eggs' is valid because it starts with a letter and doesn't contain any spaces or special characters.\n",
    "\n",
    "And 100 is invalid because it starts with a number, and variable names cannot begin with numbers in Python."
   ]
  },
  {
   "cell_type": "markdown",
   "id": "5693bab5",
   "metadata": {},
   "source": []
  },
  {
   "cell_type": "markdown",
   "id": "ba659497",
   "metadata": {},
   "source": [
    "9.What three functions can be used to get the integer, floating-point number, or string version of a value?\n",
    "\n",
    "Answer:\n",
    "\n",
    "int(): Use this function to convert a value to an integer (whole number) by removing the decimal part and keeping only the whole        portion.\n",
    "\n",
    "float(): Use this function to convert a value to a floating-point number (number with decimal) by preserving the decimal part, even if it's zero.\n",
    "\n",
    "str(): Use this function to convert a value to a string by representing it as a sequence of characters.\n"
   ]
  },
  {
   "cell_type": "markdown",
   "id": "55fabd90",
   "metadata": {},
   "source": []
  },
  {
   "cell_type": "markdown",
   "id": "0f12ab8d",
   "metadata": {},
   "source": [
    "10.Why does this expression cause an error? How can you fix it?\n",
    "'I have eaten'+99+'burritos.'\n",
    "\n",
    "Answer:\n",
    "'I have eaten'+99+'burritos.' cause error because we can't concatenate an integer with string.\n",
    "\n",
    "we can fix it by converting 99 into string\n",
    "the type of '99' is integer by using 'str()' funtion we can convert\n",
    "This is the correct expression 'I have eaten'+str(99)+'burritos.'\n",
    "Output is 'I have eaten99burritos.'"
   ]
  },
  {
   "cell_type": "code",
   "execution_count": 4,
   "id": "d4dcfbce",
   "metadata": {},
   "outputs": [
    {
     "data": {
      "text/plain": [
       "'I have eaten99burritos.'"
      ]
     },
     "execution_count": 4,
     "metadata": {},
     "output_type": "execute_result"
    }
   ],
   "source": [
    "'I have eaten'+str(99)+'burritos.'"
   ]
  }
 ],
 "metadata": {
  "kernelspec": {
   "display_name": "Python 3 (ipykernel)",
   "language": "python",
   "name": "python3"
  },
  "language_info": {
   "codemirror_mode": {
    "name": "ipython",
    "version": 3
   },
   "file_extension": ".py",
   "mimetype": "text/x-python",
   "name": "python",
   "nbconvert_exporter": "python",
   "pygments_lexer": "ipython3",
   "version": "3.9.7"
  }
 },
 "nbformat": 4,
 "nbformat_minor": 5
}
